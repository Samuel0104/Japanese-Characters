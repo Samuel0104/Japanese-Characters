{
  "nbformat": 4,
  "nbformat_minor": 0,
  "metadata": {
    "colab": {
      "provenance": [],
      "gpuType": "T4",
      "toc_visible": true
    },
    "kernelspec": {
      "name": "python3",
      "display_name": "Python 3"
    },
    "language_info": {
      "name": "python"
    },
    "accelerator": "GPU",
    "widgets": {
      "application/vnd.jupyter.widget-state+json": {
        "daf55b9060a34b3abe8b18b51789ed3e": {
          "model_module": "@jupyter-widgets/controls",
          "model_name": "HBoxModel",
          "model_module_version": "1.5.0",
          "state": {
            "_dom_classes": [],
            "_model_module": "@jupyter-widgets/controls",
            "_model_module_version": "1.5.0",
            "_model_name": "HBoxModel",
            "_view_count": null,
            "_view_module": "@jupyter-widgets/controls",
            "_view_module_version": "1.5.0",
            "_view_name": "HBoxView",
            "box_style": "",
            "children": [
              "IPY_MODEL_71492ad5c2ea42b1b10d15a6f7b5ddf5",
              "IPY_MODEL_ddbc8b1cd03e43adb04a5bc350f91333",
              "IPY_MODEL_9ecaac01beec4b40ba1b9a61d4fb34e8"
            ],
            "layout": "IPY_MODEL_73d419f3affc477e8a8dfb4989d3eb59"
          }
        },
        "71492ad5c2ea42b1b10d15a6f7b5ddf5": {
          "model_module": "@jupyter-widgets/controls",
          "model_name": "HTMLModel",
          "model_module_version": "1.5.0",
          "state": {
            "_dom_classes": [],
            "_model_module": "@jupyter-widgets/controls",
            "_model_module_version": "1.5.0",
            "_model_name": "HTMLModel",
            "_view_count": null,
            "_view_module": "@jupyter-widgets/controls",
            "_view_module_version": "1.5.0",
            "_view_name": "HTMLView",
            "description": "",
            "description_tooltip": null,
            "layout": "IPY_MODEL_e790f01b9bfd4e88998b754c91ed3d5e",
            "placeholder": "​",
            "style": "IPY_MODEL_c96181f516ae4233abf398af57b83046",
            "value": "100%"
          }
        },
        "ddbc8b1cd03e43adb04a5bc350f91333": {
          "model_module": "@jupyter-widgets/controls",
          "model_name": "FloatProgressModel",
          "model_module_version": "1.5.0",
          "state": {
            "_dom_classes": [],
            "_model_module": "@jupyter-widgets/controls",
            "_model_module_version": "1.5.0",
            "_model_name": "FloatProgressModel",
            "_view_count": null,
            "_view_module": "@jupyter-widgets/controls",
            "_view_module_version": "1.5.0",
            "_view_name": "ProgressView",
            "bar_style": "success",
            "description": "",
            "description_tooltip": null,
            "layout": "IPY_MODEL_3eb152b9e07c4f8bacc91d882eae708e",
            "max": 10,
            "min": 0,
            "orientation": "horizontal",
            "style": "IPY_MODEL_2dd06f69d5a94e96827d3c2e2c5ddba9",
            "value": 10
          }
        },
        "9ecaac01beec4b40ba1b9a61d4fb34e8": {
          "model_module": "@jupyter-widgets/controls",
          "model_name": "HTMLModel",
          "model_module_version": "1.5.0",
          "state": {
            "_dom_classes": [],
            "_model_module": "@jupyter-widgets/controls",
            "_model_module_version": "1.5.0",
            "_model_name": "HTMLModel",
            "_view_count": null,
            "_view_module": "@jupyter-widgets/controls",
            "_view_module_version": "1.5.0",
            "_view_name": "HTMLView",
            "description": "",
            "description_tooltip": null,
            "layout": "IPY_MODEL_a0e6f415bae54d12948e1d370efd3c56",
            "placeholder": "​",
            "style": "IPY_MODEL_044f6d71b09449948cc272d07587708f",
            "value": " 10/10 [00:45&lt;00:00,  4.45s/it]"
          }
        },
        "73d419f3affc477e8a8dfb4989d3eb59": {
          "model_module": "@jupyter-widgets/base",
          "model_name": "LayoutModel",
          "model_module_version": "1.2.0",
          "state": {
            "_model_module": "@jupyter-widgets/base",
            "_model_module_version": "1.2.0",
            "_model_name": "LayoutModel",
            "_view_count": null,
            "_view_module": "@jupyter-widgets/base",
            "_view_module_version": "1.2.0",
            "_view_name": "LayoutView",
            "align_content": null,
            "align_items": null,
            "align_self": null,
            "border": null,
            "bottom": null,
            "display": null,
            "flex": null,
            "flex_flow": null,
            "grid_area": null,
            "grid_auto_columns": null,
            "grid_auto_flow": null,
            "grid_auto_rows": null,
            "grid_column": null,
            "grid_gap": null,
            "grid_row": null,
            "grid_template_areas": null,
            "grid_template_columns": null,
            "grid_template_rows": null,
            "height": null,
            "justify_content": null,
            "justify_items": null,
            "left": null,
            "margin": null,
            "max_height": null,
            "max_width": null,
            "min_height": null,
            "min_width": null,
            "object_fit": null,
            "object_position": null,
            "order": null,
            "overflow": null,
            "overflow_x": null,
            "overflow_y": null,
            "padding": null,
            "right": null,
            "top": null,
            "visibility": null,
            "width": null
          }
        },
        "e790f01b9bfd4e88998b754c91ed3d5e": {
          "model_module": "@jupyter-widgets/base",
          "model_name": "LayoutModel",
          "model_module_version": "1.2.0",
          "state": {
            "_model_module": "@jupyter-widgets/base",
            "_model_module_version": "1.2.0",
            "_model_name": "LayoutModel",
            "_view_count": null,
            "_view_module": "@jupyter-widgets/base",
            "_view_module_version": "1.2.0",
            "_view_name": "LayoutView",
            "align_content": null,
            "align_items": null,
            "align_self": null,
            "border": null,
            "bottom": null,
            "display": null,
            "flex": null,
            "flex_flow": null,
            "grid_area": null,
            "grid_auto_columns": null,
            "grid_auto_flow": null,
            "grid_auto_rows": null,
            "grid_column": null,
            "grid_gap": null,
            "grid_row": null,
            "grid_template_areas": null,
            "grid_template_columns": null,
            "grid_template_rows": null,
            "height": null,
            "justify_content": null,
            "justify_items": null,
            "left": null,
            "margin": null,
            "max_height": null,
            "max_width": null,
            "min_height": null,
            "min_width": null,
            "object_fit": null,
            "object_position": null,
            "order": null,
            "overflow": null,
            "overflow_x": null,
            "overflow_y": null,
            "padding": null,
            "right": null,
            "top": null,
            "visibility": null,
            "width": null
          }
        },
        "c96181f516ae4233abf398af57b83046": {
          "model_module": "@jupyter-widgets/controls",
          "model_name": "DescriptionStyleModel",
          "model_module_version": "1.5.0",
          "state": {
            "_model_module": "@jupyter-widgets/controls",
            "_model_module_version": "1.5.0",
            "_model_name": "DescriptionStyleModel",
            "_view_count": null,
            "_view_module": "@jupyter-widgets/base",
            "_view_module_version": "1.2.0",
            "_view_name": "StyleView",
            "description_width": ""
          }
        },
        "3eb152b9e07c4f8bacc91d882eae708e": {
          "model_module": "@jupyter-widgets/base",
          "model_name": "LayoutModel",
          "model_module_version": "1.2.0",
          "state": {
            "_model_module": "@jupyter-widgets/base",
            "_model_module_version": "1.2.0",
            "_model_name": "LayoutModel",
            "_view_count": null,
            "_view_module": "@jupyter-widgets/base",
            "_view_module_version": "1.2.0",
            "_view_name": "LayoutView",
            "align_content": null,
            "align_items": null,
            "align_self": null,
            "border": null,
            "bottom": null,
            "display": null,
            "flex": null,
            "flex_flow": null,
            "grid_area": null,
            "grid_auto_columns": null,
            "grid_auto_flow": null,
            "grid_auto_rows": null,
            "grid_column": null,
            "grid_gap": null,
            "grid_row": null,
            "grid_template_areas": null,
            "grid_template_columns": null,
            "grid_template_rows": null,
            "height": null,
            "justify_content": null,
            "justify_items": null,
            "left": null,
            "margin": null,
            "max_height": null,
            "max_width": null,
            "min_height": null,
            "min_width": null,
            "object_fit": null,
            "object_position": null,
            "order": null,
            "overflow": null,
            "overflow_x": null,
            "overflow_y": null,
            "padding": null,
            "right": null,
            "top": null,
            "visibility": null,
            "width": null
          }
        },
        "2dd06f69d5a94e96827d3c2e2c5ddba9": {
          "model_module": "@jupyter-widgets/controls",
          "model_name": "ProgressStyleModel",
          "model_module_version": "1.5.0",
          "state": {
            "_model_module": "@jupyter-widgets/controls",
            "_model_module_version": "1.5.0",
            "_model_name": "ProgressStyleModel",
            "_view_count": null,
            "_view_module": "@jupyter-widgets/base",
            "_view_module_version": "1.2.0",
            "_view_name": "StyleView",
            "bar_color": null,
            "description_width": ""
          }
        },
        "a0e6f415bae54d12948e1d370efd3c56": {
          "model_module": "@jupyter-widgets/base",
          "model_name": "LayoutModel",
          "model_module_version": "1.2.0",
          "state": {
            "_model_module": "@jupyter-widgets/base",
            "_model_module_version": "1.2.0",
            "_model_name": "LayoutModel",
            "_view_count": null,
            "_view_module": "@jupyter-widgets/base",
            "_view_module_version": "1.2.0",
            "_view_name": "LayoutView",
            "align_content": null,
            "align_items": null,
            "align_self": null,
            "border": null,
            "bottom": null,
            "display": null,
            "flex": null,
            "flex_flow": null,
            "grid_area": null,
            "grid_auto_columns": null,
            "grid_auto_flow": null,
            "grid_auto_rows": null,
            "grid_column": null,
            "grid_gap": null,
            "grid_row": null,
            "grid_template_areas": null,
            "grid_template_columns": null,
            "grid_template_rows": null,
            "height": null,
            "justify_content": null,
            "justify_items": null,
            "left": null,
            "margin": null,
            "max_height": null,
            "max_width": null,
            "min_height": null,
            "min_width": null,
            "object_fit": null,
            "object_position": null,
            "order": null,
            "overflow": null,
            "overflow_x": null,
            "overflow_y": null,
            "padding": null,
            "right": null,
            "top": null,
            "visibility": null,
            "width": null
          }
        },
        "044f6d71b09449948cc272d07587708f": {
          "model_module": "@jupyter-widgets/controls",
          "model_name": "DescriptionStyleModel",
          "model_module_version": "1.5.0",
          "state": {
            "_model_module": "@jupyter-widgets/controls",
            "_model_module_version": "1.5.0",
            "_model_name": "DescriptionStyleModel",
            "_view_count": null,
            "_view_module": "@jupyter-widgets/base",
            "_view_module_version": "1.2.0",
            "_view_name": "StyleView",
            "description_width": ""
          }
        },
        "7202d060d1fa41988e579d79e1893815": {
          "model_module": "@jupyter-widgets/controls",
          "model_name": "HBoxModel",
          "model_module_version": "1.5.0",
          "state": {
            "_dom_classes": [],
            "_model_module": "@jupyter-widgets/controls",
            "_model_module_version": "1.5.0",
            "_model_name": "HBoxModel",
            "_view_count": null,
            "_view_module": "@jupyter-widgets/controls",
            "_view_module_version": "1.5.0",
            "_view_name": "HBoxView",
            "box_style": "",
            "children": [
              "IPY_MODEL_30498a63a8da4901a1f9161186067bea",
              "IPY_MODEL_a954c0911e234a4788fd55524c3a2028",
              "IPY_MODEL_5323c6da2ad84d47b06fe6fa6fb8bec8"
            ],
            "layout": "IPY_MODEL_86e1d10dccee4af084433be1b7d30dd7"
          }
        },
        "30498a63a8da4901a1f9161186067bea": {
          "model_module": "@jupyter-widgets/controls",
          "model_name": "HTMLModel",
          "model_module_version": "1.5.0",
          "state": {
            "_dom_classes": [],
            "_model_module": "@jupyter-widgets/controls",
            "_model_module_version": "1.5.0",
            "_model_name": "HTMLModel",
            "_view_count": null,
            "_view_module": "@jupyter-widgets/controls",
            "_view_module_version": "1.5.0",
            "_view_name": "HTMLView",
            "description": "",
            "description_tooltip": null,
            "layout": "IPY_MODEL_8820ceea478f48838deb8a0e5aab96fc",
            "placeholder": "​",
            "style": "IPY_MODEL_cf7326be997844ab8d1b8d945548e8c3",
            "value": "100%"
          }
        },
        "a954c0911e234a4788fd55524c3a2028": {
          "model_module": "@jupyter-widgets/controls",
          "model_name": "FloatProgressModel",
          "model_module_version": "1.5.0",
          "state": {
            "_dom_classes": [],
            "_model_module": "@jupyter-widgets/controls",
            "_model_module_version": "1.5.0",
            "_model_name": "FloatProgressModel",
            "_view_count": null,
            "_view_module": "@jupyter-widgets/controls",
            "_view_module_version": "1.5.0",
            "_view_name": "ProgressView",
            "bar_style": "success",
            "description": "",
            "description_tooltip": null,
            "layout": "IPY_MODEL_089a3202ec164dd4ad9c0a98c0030009",
            "max": 10,
            "min": 0,
            "orientation": "horizontal",
            "style": "IPY_MODEL_f73143357922450ba7376fde24adb7e4",
            "value": 10
          }
        },
        "5323c6da2ad84d47b06fe6fa6fb8bec8": {
          "model_module": "@jupyter-widgets/controls",
          "model_name": "HTMLModel",
          "model_module_version": "1.5.0",
          "state": {
            "_dom_classes": [],
            "_model_module": "@jupyter-widgets/controls",
            "_model_module_version": "1.5.0",
            "_model_name": "HTMLModel",
            "_view_count": null,
            "_view_module": "@jupyter-widgets/controls",
            "_view_module_version": "1.5.0",
            "_view_name": "HTMLView",
            "description": "",
            "description_tooltip": null,
            "layout": "IPY_MODEL_df3c33732f994d3b9621cf196b1225f0",
            "placeholder": "​",
            "style": "IPY_MODEL_2ec1eaeb8ca347dab0e3a215a1f386d2",
            "value": " 10/10 [00:42&lt;00:00,  4.00s/it]"
          }
        },
        "86e1d10dccee4af084433be1b7d30dd7": {
          "model_module": "@jupyter-widgets/base",
          "model_name": "LayoutModel",
          "model_module_version": "1.2.0",
          "state": {
            "_model_module": "@jupyter-widgets/base",
            "_model_module_version": "1.2.0",
            "_model_name": "LayoutModel",
            "_view_count": null,
            "_view_module": "@jupyter-widgets/base",
            "_view_module_version": "1.2.0",
            "_view_name": "LayoutView",
            "align_content": null,
            "align_items": null,
            "align_self": null,
            "border": null,
            "bottom": null,
            "display": null,
            "flex": null,
            "flex_flow": null,
            "grid_area": null,
            "grid_auto_columns": null,
            "grid_auto_flow": null,
            "grid_auto_rows": null,
            "grid_column": null,
            "grid_gap": null,
            "grid_row": null,
            "grid_template_areas": null,
            "grid_template_columns": null,
            "grid_template_rows": null,
            "height": null,
            "justify_content": null,
            "justify_items": null,
            "left": null,
            "margin": null,
            "max_height": null,
            "max_width": null,
            "min_height": null,
            "min_width": null,
            "object_fit": null,
            "object_position": null,
            "order": null,
            "overflow": null,
            "overflow_x": null,
            "overflow_y": null,
            "padding": null,
            "right": null,
            "top": null,
            "visibility": null,
            "width": null
          }
        },
        "8820ceea478f48838deb8a0e5aab96fc": {
          "model_module": "@jupyter-widgets/base",
          "model_name": "LayoutModel",
          "model_module_version": "1.2.0",
          "state": {
            "_model_module": "@jupyter-widgets/base",
            "_model_module_version": "1.2.0",
            "_model_name": "LayoutModel",
            "_view_count": null,
            "_view_module": "@jupyter-widgets/base",
            "_view_module_version": "1.2.0",
            "_view_name": "LayoutView",
            "align_content": null,
            "align_items": null,
            "align_self": null,
            "border": null,
            "bottom": null,
            "display": null,
            "flex": null,
            "flex_flow": null,
            "grid_area": null,
            "grid_auto_columns": null,
            "grid_auto_flow": null,
            "grid_auto_rows": null,
            "grid_column": null,
            "grid_gap": null,
            "grid_row": null,
            "grid_template_areas": null,
            "grid_template_columns": null,
            "grid_template_rows": null,
            "height": null,
            "justify_content": null,
            "justify_items": null,
            "left": null,
            "margin": null,
            "max_height": null,
            "max_width": null,
            "min_height": null,
            "min_width": null,
            "object_fit": null,
            "object_position": null,
            "order": null,
            "overflow": null,
            "overflow_x": null,
            "overflow_y": null,
            "padding": null,
            "right": null,
            "top": null,
            "visibility": null,
            "width": null
          }
        },
        "cf7326be997844ab8d1b8d945548e8c3": {
          "model_module": "@jupyter-widgets/controls",
          "model_name": "DescriptionStyleModel",
          "model_module_version": "1.5.0",
          "state": {
            "_model_module": "@jupyter-widgets/controls",
            "_model_module_version": "1.5.0",
            "_model_name": "DescriptionStyleModel",
            "_view_count": null,
            "_view_module": "@jupyter-widgets/base",
            "_view_module_version": "1.2.0",
            "_view_name": "StyleView",
            "description_width": ""
          }
        },
        "089a3202ec164dd4ad9c0a98c0030009": {
          "model_module": "@jupyter-widgets/base",
          "model_name": "LayoutModel",
          "model_module_version": "1.2.0",
          "state": {
            "_model_module": "@jupyter-widgets/base",
            "_model_module_version": "1.2.0",
            "_model_name": "LayoutModel",
            "_view_count": null,
            "_view_module": "@jupyter-widgets/base",
            "_view_module_version": "1.2.0",
            "_view_name": "LayoutView",
            "align_content": null,
            "align_items": null,
            "align_self": null,
            "border": null,
            "bottom": null,
            "display": null,
            "flex": null,
            "flex_flow": null,
            "grid_area": null,
            "grid_auto_columns": null,
            "grid_auto_flow": null,
            "grid_auto_rows": null,
            "grid_column": null,
            "grid_gap": null,
            "grid_row": null,
            "grid_template_areas": null,
            "grid_template_columns": null,
            "grid_template_rows": null,
            "height": null,
            "justify_content": null,
            "justify_items": null,
            "left": null,
            "margin": null,
            "max_height": null,
            "max_width": null,
            "min_height": null,
            "min_width": null,
            "object_fit": null,
            "object_position": null,
            "order": null,
            "overflow": null,
            "overflow_x": null,
            "overflow_y": null,
            "padding": null,
            "right": null,
            "top": null,
            "visibility": null,
            "width": null
          }
        },
        "f73143357922450ba7376fde24adb7e4": {
          "model_module": "@jupyter-widgets/controls",
          "model_name": "ProgressStyleModel",
          "model_module_version": "1.5.0",
          "state": {
            "_model_module": "@jupyter-widgets/controls",
            "_model_module_version": "1.5.0",
            "_model_name": "ProgressStyleModel",
            "_view_count": null,
            "_view_module": "@jupyter-widgets/base",
            "_view_module_version": "1.2.0",
            "_view_name": "StyleView",
            "bar_color": null,
            "description_width": ""
          }
        },
        "df3c33732f994d3b9621cf196b1225f0": {
          "model_module": "@jupyter-widgets/base",
          "model_name": "LayoutModel",
          "model_module_version": "1.2.0",
          "state": {
            "_model_module": "@jupyter-widgets/base",
            "_model_module_version": "1.2.0",
            "_model_name": "LayoutModel",
            "_view_count": null,
            "_view_module": "@jupyter-widgets/base",
            "_view_module_version": "1.2.0",
            "_view_name": "LayoutView",
            "align_content": null,
            "align_items": null,
            "align_self": null,
            "border": null,
            "bottom": null,
            "display": null,
            "flex": null,
            "flex_flow": null,
            "grid_area": null,
            "grid_auto_columns": null,
            "grid_auto_flow": null,
            "grid_auto_rows": null,
            "grid_column": null,
            "grid_gap": null,
            "grid_row": null,
            "grid_template_areas": null,
            "grid_template_columns": null,
            "grid_template_rows": null,
            "height": null,
            "justify_content": null,
            "justify_items": null,
            "left": null,
            "margin": null,
            "max_height": null,
            "max_width": null,
            "min_height": null,
            "min_width": null,
            "object_fit": null,
            "object_position": null,
            "order": null,
            "overflow": null,
            "overflow_x": null,
            "overflow_y": null,
            "padding": null,
            "right": null,
            "top": null,
            "visibility": null,
            "width": null
          }
        },
        "2ec1eaeb8ca347dab0e3a215a1f386d2": {
          "model_module": "@jupyter-widgets/controls",
          "model_name": "DescriptionStyleModel",
          "model_module_version": "1.5.0",
          "state": {
            "_model_module": "@jupyter-widgets/controls",
            "_model_module_version": "1.5.0",
            "_model_name": "DescriptionStyleModel",
            "_view_count": null,
            "_view_module": "@jupyter-widgets/base",
            "_view_module_version": "1.2.0",
            "_view_name": "StyleView",
            "description_width": ""
          }
        },
        "605c1018a9734122b059ec64a09fdc21": {
          "model_module": "@jupyter-widgets/controls",
          "model_name": "HBoxModel",
          "model_module_version": "1.5.0",
          "state": {
            "_dom_classes": [],
            "_model_module": "@jupyter-widgets/controls",
            "_model_module_version": "1.5.0",
            "_model_name": "HBoxModel",
            "_view_count": null,
            "_view_module": "@jupyter-widgets/controls",
            "_view_module_version": "1.5.0",
            "_view_name": "HBoxView",
            "box_style": "",
            "children": [
              "IPY_MODEL_4dc9b3c5501d4db08b88db3e129e7e55",
              "IPY_MODEL_62d8fa00185e451c8167ca3486413152",
              "IPY_MODEL_896003cf6482425bb5a8b02ea1313547"
            ],
            "layout": "IPY_MODEL_907cc2426cd04e5d9f3670b503e7363d"
          }
        },
        "4dc9b3c5501d4db08b88db3e129e7e55": {
          "model_module": "@jupyter-widgets/controls",
          "model_name": "HTMLModel",
          "model_module_version": "1.5.0",
          "state": {
            "_dom_classes": [],
            "_model_module": "@jupyter-widgets/controls",
            "_model_module_version": "1.5.0",
            "_model_name": "HTMLModel",
            "_view_count": null,
            "_view_module": "@jupyter-widgets/controls",
            "_view_module_version": "1.5.0",
            "_view_name": "HTMLView",
            "description": "",
            "description_tooltip": null,
            "layout": "IPY_MODEL_2f9accceacd7492f873a9b65a9ebb202",
            "placeholder": "​",
            "style": "IPY_MODEL_05755e6204204fdb9916b1d10e905067",
            "value": "100%"
          }
        },
        "62d8fa00185e451c8167ca3486413152": {
          "model_module": "@jupyter-widgets/controls",
          "model_name": "FloatProgressModel",
          "model_module_version": "1.5.0",
          "state": {
            "_dom_classes": [],
            "_model_module": "@jupyter-widgets/controls",
            "_model_module_version": "1.5.0",
            "_model_name": "FloatProgressModel",
            "_view_count": null,
            "_view_module": "@jupyter-widgets/controls",
            "_view_module_version": "1.5.0",
            "_view_name": "ProgressView",
            "bar_style": "success",
            "description": "",
            "description_tooltip": null,
            "layout": "IPY_MODEL_1c9440f80de5438e95ac29a09ed6dd01",
            "max": 10,
            "min": 0,
            "orientation": "horizontal",
            "style": "IPY_MODEL_70e4b8e1c1bf41c296e5975df32bc617",
            "value": 10
          }
        },
        "896003cf6482425bb5a8b02ea1313547": {
          "model_module": "@jupyter-widgets/controls",
          "model_name": "HTMLModel",
          "model_module_version": "1.5.0",
          "state": {
            "_dom_classes": [],
            "_model_module": "@jupyter-widgets/controls",
            "_model_module_version": "1.5.0",
            "_model_name": "HTMLModel",
            "_view_count": null,
            "_view_module": "@jupyter-widgets/controls",
            "_view_module_version": "1.5.0",
            "_view_name": "HTMLView",
            "description": "",
            "description_tooltip": null,
            "layout": "IPY_MODEL_734ef9c5a2984945b3e087b1468ebc7f",
            "placeholder": "​",
            "style": "IPY_MODEL_cbc6d01d0133469ab79dec5b7507aa70",
            "value": " 10/10 [00:41&lt;00:00,  4.12s/it]"
          }
        },
        "907cc2426cd04e5d9f3670b503e7363d": {
          "model_module": "@jupyter-widgets/base",
          "model_name": "LayoutModel",
          "model_module_version": "1.2.0",
          "state": {
            "_model_module": "@jupyter-widgets/base",
            "_model_module_version": "1.2.0",
            "_model_name": "LayoutModel",
            "_view_count": null,
            "_view_module": "@jupyter-widgets/base",
            "_view_module_version": "1.2.0",
            "_view_name": "LayoutView",
            "align_content": null,
            "align_items": null,
            "align_self": null,
            "border": null,
            "bottom": null,
            "display": null,
            "flex": null,
            "flex_flow": null,
            "grid_area": null,
            "grid_auto_columns": null,
            "grid_auto_flow": null,
            "grid_auto_rows": null,
            "grid_column": null,
            "grid_gap": null,
            "grid_row": null,
            "grid_template_areas": null,
            "grid_template_columns": null,
            "grid_template_rows": null,
            "height": null,
            "justify_content": null,
            "justify_items": null,
            "left": null,
            "margin": null,
            "max_height": null,
            "max_width": null,
            "min_height": null,
            "min_width": null,
            "object_fit": null,
            "object_position": null,
            "order": null,
            "overflow": null,
            "overflow_x": null,
            "overflow_y": null,
            "padding": null,
            "right": null,
            "top": null,
            "visibility": null,
            "width": null
          }
        },
        "2f9accceacd7492f873a9b65a9ebb202": {
          "model_module": "@jupyter-widgets/base",
          "model_name": "LayoutModel",
          "model_module_version": "1.2.0",
          "state": {
            "_model_module": "@jupyter-widgets/base",
            "_model_module_version": "1.2.0",
            "_model_name": "LayoutModel",
            "_view_count": null,
            "_view_module": "@jupyter-widgets/base",
            "_view_module_version": "1.2.0",
            "_view_name": "LayoutView",
            "align_content": null,
            "align_items": null,
            "align_self": null,
            "border": null,
            "bottom": null,
            "display": null,
            "flex": null,
            "flex_flow": null,
            "grid_area": null,
            "grid_auto_columns": null,
            "grid_auto_flow": null,
            "grid_auto_rows": null,
            "grid_column": null,
            "grid_gap": null,
            "grid_row": null,
            "grid_template_areas": null,
            "grid_template_columns": null,
            "grid_template_rows": null,
            "height": null,
            "justify_content": null,
            "justify_items": null,
            "left": null,
            "margin": null,
            "max_height": null,
            "max_width": null,
            "min_height": null,
            "min_width": null,
            "object_fit": null,
            "object_position": null,
            "order": null,
            "overflow": null,
            "overflow_x": null,
            "overflow_y": null,
            "padding": null,
            "right": null,
            "top": null,
            "visibility": null,
            "width": null
          }
        },
        "05755e6204204fdb9916b1d10e905067": {
          "model_module": "@jupyter-widgets/controls",
          "model_name": "DescriptionStyleModel",
          "model_module_version": "1.5.0",
          "state": {
            "_model_module": "@jupyter-widgets/controls",
            "_model_module_version": "1.5.0",
            "_model_name": "DescriptionStyleModel",
            "_view_count": null,
            "_view_module": "@jupyter-widgets/base",
            "_view_module_version": "1.2.0",
            "_view_name": "StyleView",
            "description_width": ""
          }
        },
        "1c9440f80de5438e95ac29a09ed6dd01": {
          "model_module": "@jupyter-widgets/base",
          "model_name": "LayoutModel",
          "model_module_version": "1.2.0",
          "state": {
            "_model_module": "@jupyter-widgets/base",
            "_model_module_version": "1.2.0",
            "_model_name": "LayoutModel",
            "_view_count": null,
            "_view_module": "@jupyter-widgets/base",
            "_view_module_version": "1.2.0",
            "_view_name": "LayoutView",
            "align_content": null,
            "align_items": null,
            "align_self": null,
            "border": null,
            "bottom": null,
            "display": null,
            "flex": null,
            "flex_flow": null,
            "grid_area": null,
            "grid_auto_columns": null,
            "grid_auto_flow": null,
            "grid_auto_rows": null,
            "grid_column": null,
            "grid_gap": null,
            "grid_row": null,
            "grid_template_areas": null,
            "grid_template_columns": null,
            "grid_template_rows": null,
            "height": null,
            "justify_content": null,
            "justify_items": null,
            "left": null,
            "margin": null,
            "max_height": null,
            "max_width": null,
            "min_height": null,
            "min_width": null,
            "object_fit": null,
            "object_position": null,
            "order": null,
            "overflow": null,
            "overflow_x": null,
            "overflow_y": null,
            "padding": null,
            "right": null,
            "top": null,
            "visibility": null,
            "width": null
          }
        },
        "70e4b8e1c1bf41c296e5975df32bc617": {
          "model_module": "@jupyter-widgets/controls",
          "model_name": "ProgressStyleModel",
          "model_module_version": "1.5.0",
          "state": {
            "_model_module": "@jupyter-widgets/controls",
            "_model_module_version": "1.5.0",
            "_model_name": "ProgressStyleModel",
            "_view_count": null,
            "_view_module": "@jupyter-widgets/base",
            "_view_module_version": "1.2.0",
            "_view_name": "StyleView",
            "bar_color": null,
            "description_width": ""
          }
        },
        "734ef9c5a2984945b3e087b1468ebc7f": {
          "model_module": "@jupyter-widgets/base",
          "model_name": "LayoutModel",
          "model_module_version": "1.2.0",
          "state": {
            "_model_module": "@jupyter-widgets/base",
            "_model_module_version": "1.2.0",
            "_model_name": "LayoutModel",
            "_view_count": null,
            "_view_module": "@jupyter-widgets/base",
            "_view_module_version": "1.2.0",
            "_view_name": "LayoutView",
            "align_content": null,
            "align_items": null,
            "align_self": null,
            "border": null,
            "bottom": null,
            "display": null,
            "flex": null,
            "flex_flow": null,
            "grid_area": null,
            "grid_auto_columns": null,
            "grid_auto_flow": null,
            "grid_auto_rows": null,
            "grid_column": null,
            "grid_gap": null,
            "grid_row": null,
            "grid_template_areas": null,
            "grid_template_columns": null,
            "grid_template_rows": null,
            "height": null,
            "justify_content": null,
            "justify_items": null,
            "left": null,
            "margin": null,
            "max_height": null,
            "max_width": null,
            "min_height": null,
            "min_width": null,
            "object_fit": null,
            "object_position": null,
            "order": null,
            "overflow": null,
            "overflow_x": null,
            "overflow_y": null,
            "padding": null,
            "right": null,
            "top": null,
            "visibility": null,
            "width": null
          }
        },
        "cbc6d01d0133469ab79dec5b7507aa70": {
          "model_module": "@jupyter-widgets/controls",
          "model_name": "DescriptionStyleModel",
          "model_module_version": "1.5.0",
          "state": {
            "_model_module": "@jupyter-widgets/controls",
            "_model_module_version": "1.5.0",
            "_model_name": "DescriptionStyleModel",
            "_view_count": null,
            "_view_module": "@jupyter-widgets/base",
            "_view_module_version": "1.2.0",
            "_view_name": "StyleView",
            "description_width": ""
          }
        },
        "ee520088676d46c2bda47e69bfed9d33": {
          "model_module": "@jupyter-widgets/controls",
          "model_name": "HBoxModel",
          "model_module_version": "1.5.0",
          "state": {
            "_dom_classes": [],
            "_model_module": "@jupyter-widgets/controls",
            "_model_module_version": "1.5.0",
            "_model_name": "HBoxModel",
            "_view_count": null,
            "_view_module": "@jupyter-widgets/controls",
            "_view_module_version": "1.5.0",
            "_view_name": "HBoxView",
            "box_style": "",
            "children": [
              "IPY_MODEL_ab5de87f783f463fadbc9232c9fc7bc9",
              "IPY_MODEL_46f91742fbad46f3a64879d4178746e8",
              "IPY_MODEL_c7eceba4436e48ecaa86fd6c9430bf12"
            ],
            "layout": "IPY_MODEL_2d952d4054a94a13a67e1730dc579cfd"
          }
        },
        "ab5de87f783f463fadbc9232c9fc7bc9": {
          "model_module": "@jupyter-widgets/controls",
          "model_name": "HTMLModel",
          "model_module_version": "1.5.0",
          "state": {
            "_dom_classes": [],
            "_model_module": "@jupyter-widgets/controls",
            "_model_module_version": "1.5.0",
            "_model_name": "HTMLModel",
            "_view_count": null,
            "_view_module": "@jupyter-widgets/controls",
            "_view_module_version": "1.5.0",
            "_view_name": "HTMLView",
            "description": "",
            "description_tooltip": null,
            "layout": "IPY_MODEL_facd47cf860a4730aa66d215861d50f3",
            "placeholder": "​",
            "style": "IPY_MODEL_c021fb95cd50400f873bef8e2c697c83",
            "value": "100%"
          }
        },
        "46f91742fbad46f3a64879d4178746e8": {
          "model_module": "@jupyter-widgets/controls",
          "model_name": "FloatProgressModel",
          "model_module_version": "1.5.0",
          "state": {
            "_dom_classes": [],
            "_model_module": "@jupyter-widgets/controls",
            "_model_module_version": "1.5.0",
            "_model_name": "FloatProgressModel",
            "_view_count": null,
            "_view_module": "@jupyter-widgets/controls",
            "_view_module_version": "1.5.0",
            "_view_name": "ProgressView",
            "bar_style": "success",
            "description": "",
            "description_tooltip": null,
            "layout": "IPY_MODEL_a2d7d706db3245439ba2fe85660b06b2",
            "max": 10,
            "min": 0,
            "orientation": "horizontal",
            "style": "IPY_MODEL_81cdf6f1e49c46bbaeabcf69fab1ef1d",
            "value": 10
          }
        },
        "c7eceba4436e48ecaa86fd6c9430bf12": {
          "model_module": "@jupyter-widgets/controls",
          "model_name": "HTMLModel",
          "model_module_version": "1.5.0",
          "state": {
            "_dom_classes": [],
            "_model_module": "@jupyter-widgets/controls",
            "_model_module_version": "1.5.0",
            "_model_name": "HTMLModel",
            "_view_count": null,
            "_view_module": "@jupyter-widgets/controls",
            "_view_module_version": "1.5.0",
            "_view_name": "HTMLView",
            "description": "",
            "description_tooltip": null,
            "layout": "IPY_MODEL_c7f3ccf323104158ab773be1cc2f192d",
            "placeholder": "​",
            "style": "IPY_MODEL_1cf3567efb534c359f3ecc58b22b9e9b",
            "value": " 10/10 [00:41&lt;00:00,  4.28s/it]"
          }
        },
        "2d952d4054a94a13a67e1730dc579cfd": {
          "model_module": "@jupyter-widgets/base",
          "model_name": "LayoutModel",
          "model_module_version": "1.2.0",
          "state": {
            "_model_module": "@jupyter-widgets/base",
            "_model_module_version": "1.2.0",
            "_model_name": "LayoutModel",
            "_view_count": null,
            "_view_module": "@jupyter-widgets/base",
            "_view_module_version": "1.2.0",
            "_view_name": "LayoutView",
            "align_content": null,
            "align_items": null,
            "align_self": null,
            "border": null,
            "bottom": null,
            "display": null,
            "flex": null,
            "flex_flow": null,
            "grid_area": null,
            "grid_auto_columns": null,
            "grid_auto_flow": null,
            "grid_auto_rows": null,
            "grid_column": null,
            "grid_gap": null,
            "grid_row": null,
            "grid_template_areas": null,
            "grid_template_columns": null,
            "grid_template_rows": null,
            "height": null,
            "justify_content": null,
            "justify_items": null,
            "left": null,
            "margin": null,
            "max_height": null,
            "max_width": null,
            "min_height": null,
            "min_width": null,
            "object_fit": null,
            "object_position": null,
            "order": null,
            "overflow": null,
            "overflow_x": null,
            "overflow_y": null,
            "padding": null,
            "right": null,
            "top": null,
            "visibility": null,
            "width": null
          }
        },
        "facd47cf860a4730aa66d215861d50f3": {
          "model_module": "@jupyter-widgets/base",
          "model_name": "LayoutModel",
          "model_module_version": "1.2.0",
          "state": {
            "_model_module": "@jupyter-widgets/base",
            "_model_module_version": "1.2.0",
            "_model_name": "LayoutModel",
            "_view_count": null,
            "_view_module": "@jupyter-widgets/base",
            "_view_module_version": "1.2.0",
            "_view_name": "LayoutView",
            "align_content": null,
            "align_items": null,
            "align_self": null,
            "border": null,
            "bottom": null,
            "display": null,
            "flex": null,
            "flex_flow": null,
            "grid_area": null,
            "grid_auto_columns": null,
            "grid_auto_flow": null,
            "grid_auto_rows": null,
            "grid_column": null,
            "grid_gap": null,
            "grid_row": null,
            "grid_template_areas": null,
            "grid_template_columns": null,
            "grid_template_rows": null,
            "height": null,
            "justify_content": null,
            "justify_items": null,
            "left": null,
            "margin": null,
            "max_height": null,
            "max_width": null,
            "min_height": null,
            "min_width": null,
            "object_fit": null,
            "object_position": null,
            "order": null,
            "overflow": null,
            "overflow_x": null,
            "overflow_y": null,
            "padding": null,
            "right": null,
            "top": null,
            "visibility": null,
            "width": null
          }
        },
        "c021fb95cd50400f873bef8e2c697c83": {
          "model_module": "@jupyter-widgets/controls",
          "model_name": "DescriptionStyleModel",
          "model_module_version": "1.5.0",
          "state": {
            "_model_module": "@jupyter-widgets/controls",
            "_model_module_version": "1.5.0",
            "_model_name": "DescriptionStyleModel",
            "_view_count": null,
            "_view_module": "@jupyter-widgets/base",
            "_view_module_version": "1.2.0",
            "_view_name": "StyleView",
            "description_width": ""
          }
        },
        "a2d7d706db3245439ba2fe85660b06b2": {
          "model_module": "@jupyter-widgets/base",
          "model_name": "LayoutModel",
          "model_module_version": "1.2.0",
          "state": {
            "_model_module": "@jupyter-widgets/base",
            "_model_module_version": "1.2.0",
            "_model_name": "LayoutModel",
            "_view_count": null,
            "_view_module": "@jupyter-widgets/base",
            "_view_module_version": "1.2.0",
            "_view_name": "LayoutView",
            "align_content": null,
            "align_items": null,
            "align_self": null,
            "border": null,
            "bottom": null,
            "display": null,
            "flex": null,
            "flex_flow": null,
            "grid_area": null,
            "grid_auto_columns": null,
            "grid_auto_flow": null,
            "grid_auto_rows": null,
            "grid_column": null,
            "grid_gap": null,
            "grid_row": null,
            "grid_template_areas": null,
            "grid_template_columns": null,
            "grid_template_rows": null,
            "height": null,
            "justify_content": null,
            "justify_items": null,
            "left": null,
            "margin": null,
            "max_height": null,
            "max_width": null,
            "min_height": null,
            "min_width": null,
            "object_fit": null,
            "object_position": null,
            "order": null,
            "overflow": null,
            "overflow_x": null,
            "overflow_y": null,
            "padding": null,
            "right": null,
            "top": null,
            "visibility": null,
            "width": null
          }
        },
        "81cdf6f1e49c46bbaeabcf69fab1ef1d": {
          "model_module": "@jupyter-widgets/controls",
          "model_name": "ProgressStyleModel",
          "model_module_version": "1.5.0",
          "state": {
            "_model_module": "@jupyter-widgets/controls",
            "_model_module_version": "1.5.0",
            "_model_name": "ProgressStyleModel",
            "_view_count": null,
            "_view_module": "@jupyter-widgets/base",
            "_view_module_version": "1.2.0",
            "_view_name": "StyleView",
            "bar_color": null,
            "description_width": ""
          }
        },
        "c7f3ccf323104158ab773be1cc2f192d": {
          "model_module": "@jupyter-widgets/base",
          "model_name": "LayoutModel",
          "model_module_version": "1.2.0",
          "state": {
            "_model_module": "@jupyter-widgets/base",
            "_model_module_version": "1.2.0",
            "_model_name": "LayoutModel",
            "_view_count": null,
            "_view_module": "@jupyter-widgets/base",
            "_view_module_version": "1.2.0",
            "_view_name": "LayoutView",
            "align_content": null,
            "align_items": null,
            "align_self": null,
            "border": null,
            "bottom": null,
            "display": null,
            "flex": null,
            "flex_flow": null,
            "grid_area": null,
            "grid_auto_columns": null,
            "grid_auto_flow": null,
            "grid_auto_rows": null,
            "grid_column": null,
            "grid_gap": null,
            "grid_row": null,
            "grid_template_areas": null,
            "grid_template_columns": null,
            "grid_template_rows": null,
            "height": null,
            "justify_content": null,
            "justify_items": null,
            "left": null,
            "margin": null,
            "max_height": null,
            "max_width": null,
            "min_height": null,
            "min_width": null,
            "object_fit": null,
            "object_position": null,
            "order": null,
            "overflow": null,
            "overflow_x": null,
            "overflow_y": null,
            "padding": null,
            "right": null,
            "top": null,
            "visibility": null,
            "width": null
          }
        },
        "1cf3567efb534c359f3ecc58b22b9e9b": {
          "model_module": "@jupyter-widgets/controls",
          "model_name": "DescriptionStyleModel",
          "model_module_version": "1.5.0",
          "state": {
            "_model_module": "@jupyter-widgets/controls",
            "_model_module_version": "1.5.0",
            "_model_name": "DescriptionStyleModel",
            "_view_count": null,
            "_view_module": "@jupyter-widgets/base",
            "_view_module_version": "1.2.0",
            "_view_name": "StyleView",
            "description_width": ""
          }
        },
        "59501a9047c64012ac9bef4dce329410": {
          "model_module": "@jupyter-widgets/controls",
          "model_name": "HBoxModel",
          "model_module_version": "1.5.0",
          "state": {
            "_dom_classes": [],
            "_model_module": "@jupyter-widgets/controls",
            "_model_module_version": "1.5.0",
            "_model_name": "HBoxModel",
            "_view_count": null,
            "_view_module": "@jupyter-widgets/controls",
            "_view_module_version": "1.5.0",
            "_view_name": "HBoxView",
            "box_style": "",
            "children": [
              "IPY_MODEL_54266806d88440e0b0720c25e018d416",
              "IPY_MODEL_641495b20e844bf2bc73672f417223d7",
              "IPY_MODEL_3f757f522da9483e992d371b1502d5dc"
            ],
            "layout": "IPY_MODEL_81b1f6f1a9024ffd83a57c35f042dac8"
          }
        },
        "54266806d88440e0b0720c25e018d416": {
          "model_module": "@jupyter-widgets/controls",
          "model_name": "HTMLModel",
          "model_module_version": "1.5.0",
          "state": {
            "_dom_classes": [],
            "_model_module": "@jupyter-widgets/controls",
            "_model_module_version": "1.5.0",
            "_model_name": "HTMLModel",
            "_view_count": null,
            "_view_module": "@jupyter-widgets/controls",
            "_view_module_version": "1.5.0",
            "_view_name": "HTMLView",
            "description": "",
            "description_tooltip": null,
            "layout": "IPY_MODEL_eabb4cb1b85b4e5cbeb1341231ec9c0e",
            "placeholder": "​",
            "style": "IPY_MODEL_a006e4605b9d4caebc0b9e39ea67ec5d",
            "value": "100%"
          }
        },
        "641495b20e844bf2bc73672f417223d7": {
          "model_module": "@jupyter-widgets/controls",
          "model_name": "FloatProgressModel",
          "model_module_version": "1.5.0",
          "state": {
            "_dom_classes": [],
            "_model_module": "@jupyter-widgets/controls",
            "_model_module_version": "1.5.0",
            "_model_name": "FloatProgressModel",
            "_view_count": null,
            "_view_module": "@jupyter-widgets/controls",
            "_view_module_version": "1.5.0",
            "_view_name": "ProgressView",
            "bar_style": "success",
            "description": "",
            "description_tooltip": null,
            "layout": "IPY_MODEL_99ad139399a648708b3a04f96f4d59bd",
            "max": 25,
            "min": 0,
            "orientation": "horizontal",
            "style": "IPY_MODEL_5c22da3afe3c4671bef8649f10636d6a",
            "value": 25
          }
        },
        "3f757f522da9483e992d371b1502d5dc": {
          "model_module": "@jupyter-widgets/controls",
          "model_name": "HTMLModel",
          "model_module_version": "1.5.0",
          "state": {
            "_dom_classes": [],
            "_model_module": "@jupyter-widgets/controls",
            "_model_module_version": "1.5.0",
            "_model_name": "HTMLModel",
            "_view_count": null,
            "_view_module": "@jupyter-widgets/controls",
            "_view_module_version": "1.5.0",
            "_view_name": "HTMLView",
            "description": "",
            "description_tooltip": null,
            "layout": "IPY_MODEL_7caae2ed61d74ef7b3f50ef611628d17",
            "placeholder": "​",
            "style": "IPY_MODEL_adfbbb8b5fb2416db77b0a0b7ef3ae3b",
            "value": " 25/25 [01:44&lt;00:00,  4.15s/it]"
          }
        },
        "81b1f6f1a9024ffd83a57c35f042dac8": {
          "model_module": "@jupyter-widgets/base",
          "model_name": "LayoutModel",
          "model_module_version": "1.2.0",
          "state": {
            "_model_module": "@jupyter-widgets/base",
            "_model_module_version": "1.2.0",
            "_model_name": "LayoutModel",
            "_view_count": null,
            "_view_module": "@jupyter-widgets/base",
            "_view_module_version": "1.2.0",
            "_view_name": "LayoutView",
            "align_content": null,
            "align_items": null,
            "align_self": null,
            "border": null,
            "bottom": null,
            "display": null,
            "flex": null,
            "flex_flow": null,
            "grid_area": null,
            "grid_auto_columns": null,
            "grid_auto_flow": null,
            "grid_auto_rows": null,
            "grid_column": null,
            "grid_gap": null,
            "grid_row": null,
            "grid_template_areas": null,
            "grid_template_columns": null,
            "grid_template_rows": null,
            "height": null,
            "justify_content": null,
            "justify_items": null,
            "left": null,
            "margin": null,
            "max_height": null,
            "max_width": null,
            "min_height": null,
            "min_width": null,
            "object_fit": null,
            "object_position": null,
            "order": null,
            "overflow": null,
            "overflow_x": null,
            "overflow_y": null,
            "padding": null,
            "right": null,
            "top": null,
            "visibility": null,
            "width": null
          }
        },
        "eabb4cb1b85b4e5cbeb1341231ec9c0e": {
          "model_module": "@jupyter-widgets/base",
          "model_name": "LayoutModel",
          "model_module_version": "1.2.0",
          "state": {
            "_model_module": "@jupyter-widgets/base",
            "_model_module_version": "1.2.0",
            "_model_name": "LayoutModel",
            "_view_count": null,
            "_view_module": "@jupyter-widgets/base",
            "_view_module_version": "1.2.0",
            "_view_name": "LayoutView",
            "align_content": null,
            "align_items": null,
            "align_self": null,
            "border": null,
            "bottom": null,
            "display": null,
            "flex": null,
            "flex_flow": null,
            "grid_area": null,
            "grid_auto_columns": null,
            "grid_auto_flow": null,
            "grid_auto_rows": null,
            "grid_column": null,
            "grid_gap": null,
            "grid_row": null,
            "grid_template_areas": null,
            "grid_template_columns": null,
            "grid_template_rows": null,
            "height": null,
            "justify_content": null,
            "justify_items": null,
            "left": null,
            "margin": null,
            "max_height": null,
            "max_width": null,
            "min_height": null,
            "min_width": null,
            "object_fit": null,
            "object_position": null,
            "order": null,
            "overflow": null,
            "overflow_x": null,
            "overflow_y": null,
            "padding": null,
            "right": null,
            "top": null,
            "visibility": null,
            "width": null
          }
        },
        "a006e4605b9d4caebc0b9e39ea67ec5d": {
          "model_module": "@jupyter-widgets/controls",
          "model_name": "DescriptionStyleModel",
          "model_module_version": "1.5.0",
          "state": {
            "_model_module": "@jupyter-widgets/controls",
            "_model_module_version": "1.5.0",
            "_model_name": "DescriptionStyleModel",
            "_view_count": null,
            "_view_module": "@jupyter-widgets/base",
            "_view_module_version": "1.2.0",
            "_view_name": "StyleView",
            "description_width": ""
          }
        },
        "99ad139399a648708b3a04f96f4d59bd": {
          "model_module": "@jupyter-widgets/base",
          "model_name": "LayoutModel",
          "model_module_version": "1.2.0",
          "state": {
            "_model_module": "@jupyter-widgets/base",
            "_model_module_version": "1.2.0",
            "_model_name": "LayoutModel",
            "_view_count": null,
            "_view_module": "@jupyter-widgets/base",
            "_view_module_version": "1.2.0",
            "_view_name": "LayoutView",
            "align_content": null,
            "align_items": null,
            "align_self": null,
            "border": null,
            "bottom": null,
            "display": null,
            "flex": null,
            "flex_flow": null,
            "grid_area": null,
            "grid_auto_columns": null,
            "grid_auto_flow": null,
            "grid_auto_rows": null,
            "grid_column": null,
            "grid_gap": null,
            "grid_row": null,
            "grid_template_areas": null,
            "grid_template_columns": null,
            "grid_template_rows": null,
            "height": null,
            "justify_content": null,
            "justify_items": null,
            "left": null,
            "margin": null,
            "max_height": null,
            "max_width": null,
            "min_height": null,
            "min_width": null,
            "object_fit": null,
            "object_position": null,
            "order": null,
            "overflow": null,
            "overflow_x": null,
            "overflow_y": null,
            "padding": null,
            "right": null,
            "top": null,
            "visibility": null,
            "width": null
          }
        },
        "5c22da3afe3c4671bef8649f10636d6a": {
          "model_module": "@jupyter-widgets/controls",
          "model_name": "ProgressStyleModel",
          "model_module_version": "1.5.0",
          "state": {
            "_model_module": "@jupyter-widgets/controls",
            "_model_module_version": "1.5.0",
            "_model_name": "ProgressStyleModel",
            "_view_count": null,
            "_view_module": "@jupyter-widgets/base",
            "_view_module_version": "1.2.0",
            "_view_name": "StyleView",
            "bar_color": null,
            "description_width": ""
          }
        },
        "7caae2ed61d74ef7b3f50ef611628d17": {
          "model_module": "@jupyter-widgets/base",
          "model_name": "LayoutModel",
          "model_module_version": "1.2.0",
          "state": {
            "_model_module": "@jupyter-widgets/base",
            "_model_module_version": "1.2.0",
            "_model_name": "LayoutModel",
            "_view_count": null,
            "_view_module": "@jupyter-widgets/base",
            "_view_module_version": "1.2.0",
            "_view_name": "LayoutView",
            "align_content": null,
            "align_items": null,
            "align_self": null,
            "border": null,
            "bottom": null,
            "display": null,
            "flex": null,
            "flex_flow": null,
            "grid_area": null,
            "grid_auto_columns": null,
            "grid_auto_flow": null,
            "grid_auto_rows": null,
            "grid_column": null,
            "grid_gap": null,
            "grid_row": null,
            "grid_template_areas": null,
            "grid_template_columns": null,
            "grid_template_rows": null,
            "height": null,
            "justify_content": null,
            "justify_items": null,
            "left": null,
            "margin": null,
            "max_height": null,
            "max_width": null,
            "min_height": null,
            "min_width": null,
            "object_fit": null,
            "object_position": null,
            "order": null,
            "overflow": null,
            "overflow_x": null,
            "overflow_y": null,
            "padding": null,
            "right": null,
            "top": null,
            "visibility": null,
            "width": null
          }
        },
        "adfbbb8b5fb2416db77b0a0b7ef3ae3b": {
          "model_module": "@jupyter-widgets/controls",
          "model_name": "DescriptionStyleModel",
          "model_module_version": "1.5.0",
          "state": {
            "_model_module": "@jupyter-widgets/controls",
            "_model_module_version": "1.5.0",
            "_model_name": "DescriptionStyleModel",
            "_view_count": null,
            "_view_module": "@jupyter-widgets/base",
            "_view_module_version": "1.2.0",
            "_view_name": "StyleView",
            "description_width": ""
          }
        },
        "007d7b9c38404f2da747e82637bfcac8": {
          "model_module": "@jupyter-widgets/controls",
          "model_name": "HBoxModel",
          "model_module_version": "1.5.0",
          "state": {
            "_dom_classes": [],
            "_model_module": "@jupyter-widgets/controls",
            "_model_module_version": "1.5.0",
            "_model_name": "HBoxModel",
            "_view_count": null,
            "_view_module": "@jupyter-widgets/controls",
            "_view_module_version": "1.5.0",
            "_view_name": "HBoxView",
            "box_style": "",
            "children": [
              "IPY_MODEL_f41ca098e8ed47978a848b7517134a02",
              "IPY_MODEL_739f2628d3cc4dfebe6683016b327214",
              "IPY_MODEL_0c725dc679144b20b4a388ec2d245709"
            ],
            "layout": "IPY_MODEL_e906d5e03b0f43c8bd38e4701cbe244f"
          }
        },
        "f41ca098e8ed47978a848b7517134a02": {
          "model_module": "@jupyter-widgets/controls",
          "model_name": "HTMLModel",
          "model_module_version": "1.5.0",
          "state": {
            "_dom_classes": [],
            "_model_module": "@jupyter-widgets/controls",
            "_model_module_version": "1.5.0",
            "_model_name": "HTMLModel",
            "_view_count": null,
            "_view_module": "@jupyter-widgets/controls",
            "_view_module_version": "1.5.0",
            "_view_name": "HTMLView",
            "description": "",
            "description_tooltip": null,
            "layout": "IPY_MODEL_56d10edfe63e4cecb99d09f73b945581",
            "placeholder": "​",
            "style": "IPY_MODEL_6f8addcc0e8d4f058776d507c87ba6d6",
            "value": "100%"
          }
        },
        "739f2628d3cc4dfebe6683016b327214": {
          "model_module": "@jupyter-widgets/controls",
          "model_name": "FloatProgressModel",
          "model_module_version": "1.5.0",
          "state": {
            "_dom_classes": [],
            "_model_module": "@jupyter-widgets/controls",
            "_model_module_version": "1.5.0",
            "_model_name": "FloatProgressModel",
            "_view_count": null,
            "_view_module": "@jupyter-widgets/controls",
            "_view_module_version": "1.5.0",
            "_view_name": "ProgressView",
            "bar_style": "success",
            "description": "",
            "description_tooltip": null,
            "layout": "IPY_MODEL_f1d46fe4fec3496aa29930daa3e1c1af",
            "max": 10,
            "min": 0,
            "orientation": "horizontal",
            "style": "IPY_MODEL_4b81696e35254130a547ea7ec7f3fa04",
            "value": 10
          }
        },
        "0c725dc679144b20b4a388ec2d245709": {
          "model_module": "@jupyter-widgets/controls",
          "model_name": "HTMLModel",
          "model_module_version": "1.5.0",
          "state": {
            "_dom_classes": [],
            "_model_module": "@jupyter-widgets/controls",
            "_model_module_version": "1.5.0",
            "_model_name": "HTMLModel",
            "_view_count": null,
            "_view_module": "@jupyter-widgets/controls",
            "_view_module_version": "1.5.0",
            "_view_name": "HTMLView",
            "description": "",
            "description_tooltip": null,
            "layout": "IPY_MODEL_f80c2c2dbe6048f5b580be4120d6889f",
            "placeholder": "​",
            "style": "IPY_MODEL_bece7010554746bd993a61bca14f93d6",
            "value": " 10/10 [00:46&lt;00:00,  4.55s/it]"
          }
        },
        "e906d5e03b0f43c8bd38e4701cbe244f": {
          "model_module": "@jupyter-widgets/base",
          "model_name": "LayoutModel",
          "model_module_version": "1.2.0",
          "state": {
            "_model_module": "@jupyter-widgets/base",
            "_model_module_version": "1.2.0",
            "_model_name": "LayoutModel",
            "_view_count": null,
            "_view_module": "@jupyter-widgets/base",
            "_view_module_version": "1.2.0",
            "_view_name": "LayoutView",
            "align_content": null,
            "align_items": null,
            "align_self": null,
            "border": null,
            "bottom": null,
            "display": null,
            "flex": null,
            "flex_flow": null,
            "grid_area": null,
            "grid_auto_columns": null,
            "grid_auto_flow": null,
            "grid_auto_rows": null,
            "grid_column": null,
            "grid_gap": null,
            "grid_row": null,
            "grid_template_areas": null,
            "grid_template_columns": null,
            "grid_template_rows": null,
            "height": null,
            "justify_content": null,
            "justify_items": null,
            "left": null,
            "margin": null,
            "max_height": null,
            "max_width": null,
            "min_height": null,
            "min_width": null,
            "object_fit": null,
            "object_position": null,
            "order": null,
            "overflow": null,
            "overflow_x": null,
            "overflow_y": null,
            "padding": null,
            "right": null,
            "top": null,
            "visibility": null,
            "width": null
          }
        },
        "56d10edfe63e4cecb99d09f73b945581": {
          "model_module": "@jupyter-widgets/base",
          "model_name": "LayoutModel",
          "model_module_version": "1.2.0",
          "state": {
            "_model_module": "@jupyter-widgets/base",
            "_model_module_version": "1.2.0",
            "_model_name": "LayoutModel",
            "_view_count": null,
            "_view_module": "@jupyter-widgets/base",
            "_view_module_version": "1.2.0",
            "_view_name": "LayoutView",
            "align_content": null,
            "align_items": null,
            "align_self": null,
            "border": null,
            "bottom": null,
            "display": null,
            "flex": null,
            "flex_flow": null,
            "grid_area": null,
            "grid_auto_columns": null,
            "grid_auto_flow": null,
            "grid_auto_rows": null,
            "grid_column": null,
            "grid_gap": null,
            "grid_row": null,
            "grid_template_areas": null,
            "grid_template_columns": null,
            "grid_template_rows": null,
            "height": null,
            "justify_content": null,
            "justify_items": null,
            "left": null,
            "margin": null,
            "max_height": null,
            "max_width": null,
            "min_height": null,
            "min_width": null,
            "object_fit": null,
            "object_position": null,
            "order": null,
            "overflow": null,
            "overflow_x": null,
            "overflow_y": null,
            "padding": null,
            "right": null,
            "top": null,
            "visibility": null,
            "width": null
          }
        },
        "6f8addcc0e8d4f058776d507c87ba6d6": {
          "model_module": "@jupyter-widgets/controls",
          "model_name": "DescriptionStyleModel",
          "model_module_version": "1.5.0",
          "state": {
            "_model_module": "@jupyter-widgets/controls",
            "_model_module_version": "1.5.0",
            "_model_name": "DescriptionStyleModel",
            "_view_count": null,
            "_view_module": "@jupyter-widgets/base",
            "_view_module_version": "1.2.0",
            "_view_name": "StyleView",
            "description_width": ""
          }
        },
        "f1d46fe4fec3496aa29930daa3e1c1af": {
          "model_module": "@jupyter-widgets/base",
          "model_name": "LayoutModel",
          "model_module_version": "1.2.0",
          "state": {
            "_model_module": "@jupyter-widgets/base",
            "_model_module_version": "1.2.0",
            "_model_name": "LayoutModel",
            "_view_count": null,
            "_view_module": "@jupyter-widgets/base",
            "_view_module_version": "1.2.0",
            "_view_name": "LayoutView",
            "align_content": null,
            "align_items": null,
            "align_self": null,
            "border": null,
            "bottom": null,
            "display": null,
            "flex": null,
            "flex_flow": null,
            "grid_area": null,
            "grid_auto_columns": null,
            "grid_auto_flow": null,
            "grid_auto_rows": null,
            "grid_column": null,
            "grid_gap": null,
            "grid_row": null,
            "grid_template_areas": null,
            "grid_template_columns": null,
            "grid_template_rows": null,
            "height": null,
            "justify_content": null,
            "justify_items": null,
            "left": null,
            "margin": null,
            "max_height": null,
            "max_width": null,
            "min_height": null,
            "min_width": null,
            "object_fit": null,
            "object_position": null,
            "order": null,
            "overflow": null,
            "overflow_x": null,
            "overflow_y": null,
            "padding": null,
            "right": null,
            "top": null,
            "visibility": null,
            "width": null
          }
        },
        "4b81696e35254130a547ea7ec7f3fa04": {
          "model_module": "@jupyter-widgets/controls",
          "model_name": "ProgressStyleModel",
          "model_module_version": "1.5.0",
          "state": {
            "_model_module": "@jupyter-widgets/controls",
            "_model_module_version": "1.5.0",
            "_model_name": "ProgressStyleModel",
            "_view_count": null,
            "_view_module": "@jupyter-widgets/base",
            "_view_module_version": "1.2.0",
            "_view_name": "StyleView",
            "bar_color": null,
            "description_width": ""
          }
        },
        "f80c2c2dbe6048f5b580be4120d6889f": {
          "model_module": "@jupyter-widgets/base",
          "model_name": "LayoutModel",
          "model_module_version": "1.2.0",
          "state": {
            "_model_module": "@jupyter-widgets/base",
            "_model_module_version": "1.2.0",
            "_model_name": "LayoutModel",
            "_view_count": null,
            "_view_module": "@jupyter-widgets/base",
            "_view_module_version": "1.2.0",
            "_view_name": "LayoutView",
            "align_content": null,
            "align_items": null,
            "align_self": null,
            "border": null,
            "bottom": null,
            "display": null,
            "flex": null,
            "flex_flow": null,
            "grid_area": null,
            "grid_auto_columns": null,
            "grid_auto_flow": null,
            "grid_auto_rows": null,
            "grid_column": null,
            "grid_gap": null,
            "grid_row": null,
            "grid_template_areas": null,
            "grid_template_columns": null,
            "grid_template_rows": null,
            "height": null,
            "justify_content": null,
            "justify_items": null,
            "left": null,
            "margin": null,
            "max_height": null,
            "max_width": null,
            "min_height": null,
            "min_width": null,
            "object_fit": null,
            "object_position": null,
            "order": null,
            "overflow": null,
            "overflow_x": null,
            "overflow_y": null,
            "padding": null,
            "right": null,
            "top": null,
            "visibility": null,
            "width": null
          }
        },
        "bece7010554746bd993a61bca14f93d6": {
          "model_module": "@jupyter-widgets/controls",
          "model_name": "DescriptionStyleModel",
          "model_module_version": "1.5.0",
          "state": {
            "_model_module": "@jupyter-widgets/controls",
            "_model_module_version": "1.5.0",
            "_model_name": "DescriptionStyleModel",
            "_view_count": null,
            "_view_module": "@jupyter-widgets/base",
            "_view_module_version": "1.2.0",
            "_view_name": "StyleView",
            "description_width": ""
          }
        },
        "a6ead6cb30274672b0fc97306cbc131e": {
          "model_module": "@jupyter-widgets/controls",
          "model_name": "HBoxModel",
          "model_module_version": "1.5.0",
          "state": {
            "_dom_classes": [],
            "_model_module": "@jupyter-widgets/controls",
            "_model_module_version": "1.5.0",
            "_model_name": "HBoxModel",
            "_view_count": null,
            "_view_module": "@jupyter-widgets/controls",
            "_view_module_version": "1.5.0",
            "_view_name": "HBoxView",
            "box_style": "",
            "children": [
              "IPY_MODEL_c5b89289ed994c97983b60a5b1dc8141",
              "IPY_MODEL_c7196004e3c74259b3b9e0ae33d4fd55",
              "IPY_MODEL_9483ce269b1042ba92c1a70e5a04635a"
            ],
            "layout": "IPY_MODEL_0410114a264c4e66a7977e6d463f7b19"
          }
        },
        "c5b89289ed994c97983b60a5b1dc8141": {
          "model_module": "@jupyter-widgets/controls",
          "model_name": "HTMLModel",
          "model_module_version": "1.5.0",
          "state": {
            "_dom_classes": [],
            "_model_module": "@jupyter-widgets/controls",
            "_model_module_version": "1.5.0",
            "_model_name": "HTMLModel",
            "_view_count": null,
            "_view_module": "@jupyter-widgets/controls",
            "_view_module_version": "1.5.0",
            "_view_name": "HTMLView",
            "description": "",
            "description_tooltip": null,
            "layout": "IPY_MODEL_0ba7db7f85254ab88abdb393c91bcedc",
            "placeholder": "​",
            "style": "IPY_MODEL_3e1f423971444b76b46fd252d5e00147",
            "value": "100%"
          }
        },
        "c7196004e3c74259b3b9e0ae33d4fd55": {
          "model_module": "@jupyter-widgets/controls",
          "model_name": "FloatProgressModel",
          "model_module_version": "1.5.0",
          "state": {
            "_dom_classes": [],
            "_model_module": "@jupyter-widgets/controls",
            "_model_module_version": "1.5.0",
            "_model_name": "FloatProgressModel",
            "_view_count": null,
            "_view_module": "@jupyter-widgets/controls",
            "_view_module_version": "1.5.0",
            "_view_name": "ProgressView",
            "bar_style": "success",
            "description": "",
            "description_tooltip": null,
            "layout": "IPY_MODEL_4a379145f2d945d7844de09fc9ab85de",
            "max": 10,
            "min": 0,
            "orientation": "horizontal",
            "style": "IPY_MODEL_60b20613fac64b4381bd1343fb262c2c",
            "value": 10
          }
        },
        "9483ce269b1042ba92c1a70e5a04635a": {
          "model_module": "@jupyter-widgets/controls",
          "model_name": "HTMLModel",
          "model_module_version": "1.5.0",
          "state": {
            "_dom_classes": [],
            "_model_module": "@jupyter-widgets/controls",
            "_model_module_version": "1.5.0",
            "_model_name": "HTMLModel",
            "_view_count": null,
            "_view_module": "@jupyter-widgets/controls",
            "_view_module_version": "1.5.0",
            "_view_name": "HTMLView",
            "description": "",
            "description_tooltip": null,
            "layout": "IPY_MODEL_564a64108ddc4e5cb0dbcfc36fa59f6b",
            "placeholder": "​",
            "style": "IPY_MODEL_0bd50457ca4f4ec49f363030626d3669",
            "value": " 10/10 [01:32&lt;00:00,  9.41s/it]"
          }
        },
        "0410114a264c4e66a7977e6d463f7b19": {
          "model_module": "@jupyter-widgets/base",
          "model_name": "LayoutModel",
          "model_module_version": "1.2.0",
          "state": {
            "_model_module": "@jupyter-widgets/base",
            "_model_module_version": "1.2.0",
            "_model_name": "LayoutModel",
            "_view_count": null,
            "_view_module": "@jupyter-widgets/base",
            "_view_module_version": "1.2.0",
            "_view_name": "LayoutView",
            "align_content": null,
            "align_items": null,
            "align_self": null,
            "border": null,
            "bottom": null,
            "display": null,
            "flex": null,
            "flex_flow": null,
            "grid_area": null,
            "grid_auto_columns": null,
            "grid_auto_flow": null,
            "grid_auto_rows": null,
            "grid_column": null,
            "grid_gap": null,
            "grid_row": null,
            "grid_template_areas": null,
            "grid_template_columns": null,
            "grid_template_rows": null,
            "height": null,
            "justify_content": null,
            "justify_items": null,
            "left": null,
            "margin": null,
            "max_height": null,
            "max_width": null,
            "min_height": null,
            "min_width": null,
            "object_fit": null,
            "object_position": null,
            "order": null,
            "overflow": null,
            "overflow_x": null,
            "overflow_y": null,
            "padding": null,
            "right": null,
            "top": null,
            "visibility": null,
            "width": null
          }
        },
        "0ba7db7f85254ab88abdb393c91bcedc": {
          "model_module": "@jupyter-widgets/base",
          "model_name": "LayoutModel",
          "model_module_version": "1.2.0",
          "state": {
            "_model_module": "@jupyter-widgets/base",
            "_model_module_version": "1.2.0",
            "_model_name": "LayoutModel",
            "_view_count": null,
            "_view_module": "@jupyter-widgets/base",
            "_view_module_version": "1.2.0",
            "_view_name": "LayoutView",
            "align_content": null,
            "align_items": null,
            "align_self": null,
            "border": null,
            "bottom": null,
            "display": null,
            "flex": null,
            "flex_flow": null,
            "grid_area": null,
            "grid_auto_columns": null,
            "grid_auto_flow": null,
            "grid_auto_rows": null,
            "grid_column": null,
            "grid_gap": null,
            "grid_row": null,
            "grid_template_areas": null,
            "grid_template_columns": null,
            "grid_template_rows": null,
            "height": null,
            "justify_content": null,
            "justify_items": null,
            "left": null,
            "margin": null,
            "max_height": null,
            "max_width": null,
            "min_height": null,
            "min_width": null,
            "object_fit": null,
            "object_position": null,
            "order": null,
            "overflow": null,
            "overflow_x": null,
            "overflow_y": null,
            "padding": null,
            "right": null,
            "top": null,
            "visibility": null,
            "width": null
          }
        },
        "3e1f423971444b76b46fd252d5e00147": {
          "model_module": "@jupyter-widgets/controls",
          "model_name": "DescriptionStyleModel",
          "model_module_version": "1.5.0",
          "state": {
            "_model_module": "@jupyter-widgets/controls",
            "_model_module_version": "1.5.0",
            "_model_name": "DescriptionStyleModel",
            "_view_count": null,
            "_view_module": "@jupyter-widgets/base",
            "_view_module_version": "1.2.0",
            "_view_name": "StyleView",
            "description_width": ""
          }
        },
        "4a379145f2d945d7844de09fc9ab85de": {
          "model_module": "@jupyter-widgets/base",
          "model_name": "LayoutModel",
          "model_module_version": "1.2.0",
          "state": {
            "_model_module": "@jupyter-widgets/base",
            "_model_module_version": "1.2.0",
            "_model_name": "LayoutModel",
            "_view_count": null,
            "_view_module": "@jupyter-widgets/base",
            "_view_module_version": "1.2.0",
            "_view_name": "LayoutView",
            "align_content": null,
            "align_items": null,
            "align_self": null,
            "border": null,
            "bottom": null,
            "display": null,
            "flex": null,
            "flex_flow": null,
            "grid_area": null,
            "grid_auto_columns": null,
            "grid_auto_flow": null,
            "grid_auto_rows": null,
            "grid_column": null,
            "grid_gap": null,
            "grid_row": null,
            "grid_template_areas": null,
            "grid_template_columns": null,
            "grid_template_rows": null,
            "height": null,
            "justify_content": null,
            "justify_items": null,
            "left": null,
            "margin": null,
            "max_height": null,
            "max_width": null,
            "min_height": null,
            "min_width": null,
            "object_fit": null,
            "object_position": null,
            "order": null,
            "overflow": null,
            "overflow_x": null,
            "overflow_y": null,
            "padding": null,
            "right": null,
            "top": null,
            "visibility": null,
            "width": null
          }
        },
        "60b20613fac64b4381bd1343fb262c2c": {
          "model_module": "@jupyter-widgets/controls",
          "model_name": "ProgressStyleModel",
          "model_module_version": "1.5.0",
          "state": {
            "_model_module": "@jupyter-widgets/controls",
            "_model_module_version": "1.5.0",
            "_model_name": "ProgressStyleModel",
            "_view_count": null,
            "_view_module": "@jupyter-widgets/base",
            "_view_module_version": "1.2.0",
            "_view_name": "StyleView",
            "bar_color": null,
            "description_width": ""
          }
        },
        "564a64108ddc4e5cb0dbcfc36fa59f6b": {
          "model_module": "@jupyter-widgets/base",
          "model_name": "LayoutModel",
          "model_module_version": "1.2.0",
          "state": {
            "_model_module": "@jupyter-widgets/base",
            "_model_module_version": "1.2.0",
            "_model_name": "LayoutModel",
            "_view_count": null,
            "_view_module": "@jupyter-widgets/base",
            "_view_module_version": "1.2.0",
            "_view_name": "LayoutView",
            "align_content": null,
            "align_items": null,
            "align_self": null,
            "border": null,
            "bottom": null,
            "display": null,
            "flex": null,
            "flex_flow": null,
            "grid_area": null,
            "grid_auto_columns": null,
            "grid_auto_flow": null,
            "grid_auto_rows": null,
            "grid_column": null,
            "grid_gap": null,
            "grid_row": null,
            "grid_template_areas": null,
            "grid_template_columns": null,
            "grid_template_rows": null,
            "height": null,
            "justify_content": null,
            "justify_items": null,
            "left": null,
            "margin": null,
            "max_height": null,
            "max_width": null,
            "min_height": null,
            "min_width": null,
            "object_fit": null,
            "object_position": null,
            "order": null,
            "overflow": null,
            "overflow_x": null,
            "overflow_y": null,
            "padding": null,
            "right": null,
            "top": null,
            "visibility": null,
            "width": null
          }
        },
        "0bd50457ca4f4ec49f363030626d3669": {
          "model_module": "@jupyter-widgets/controls",
          "model_name": "DescriptionStyleModel",
          "model_module_version": "1.5.0",
          "state": {
            "_model_module": "@jupyter-widgets/controls",
            "_model_module_version": "1.5.0",
            "_model_name": "DescriptionStyleModel",
            "_view_count": null,
            "_view_module": "@jupyter-widgets/base",
            "_view_module_version": "1.2.0",
            "_view_name": "StyleView",
            "description_width": ""
          }
        },
        "9f1f25d2739c44b294c21abe76732271": {
          "model_module": "@jupyter-widgets/controls",
          "model_name": "HBoxModel",
          "model_module_version": "1.5.0",
          "state": {
            "_dom_classes": [],
            "_model_module": "@jupyter-widgets/controls",
            "_model_module_version": "1.5.0",
            "_model_name": "HBoxModel",
            "_view_count": null,
            "_view_module": "@jupyter-widgets/controls",
            "_view_module_version": "1.5.0",
            "_view_name": "HBoxView",
            "box_style": "",
            "children": [
              "IPY_MODEL_9317a4f4424f49e287df98b6d34e1bc6",
              "IPY_MODEL_ef1313d3b37c4a7388a8ca4a9b0949be",
              "IPY_MODEL_8254adcfff90487a950a56d9ac4e660c"
            ],
            "layout": "IPY_MODEL_08f6239ed0c24fb69dfc22a8f5bd1912"
          }
        },
        "9317a4f4424f49e287df98b6d34e1bc6": {
          "model_module": "@jupyter-widgets/controls",
          "model_name": "HTMLModel",
          "model_module_version": "1.5.0",
          "state": {
            "_dom_classes": [],
            "_model_module": "@jupyter-widgets/controls",
            "_model_module_version": "1.5.0",
            "_model_name": "HTMLModel",
            "_view_count": null,
            "_view_module": "@jupyter-widgets/controls",
            "_view_module_version": "1.5.0",
            "_view_name": "HTMLView",
            "description": "",
            "description_tooltip": null,
            "layout": "IPY_MODEL_00bc95f93ffb437a88fbf8574d54c132",
            "placeholder": "​",
            "style": "IPY_MODEL_9d555125f92c4713934b9f13c44ed04f",
            "value": "100%"
          }
        },
        "ef1313d3b37c4a7388a8ca4a9b0949be": {
          "model_module": "@jupyter-widgets/controls",
          "model_name": "FloatProgressModel",
          "model_module_version": "1.5.0",
          "state": {
            "_dom_classes": [],
            "_model_module": "@jupyter-widgets/controls",
            "_model_module_version": "1.5.0",
            "_model_name": "FloatProgressModel",
            "_view_count": null,
            "_view_module": "@jupyter-widgets/controls",
            "_view_module_version": "1.5.0",
            "_view_name": "ProgressView",
            "bar_style": "success",
            "description": "",
            "description_tooltip": null,
            "layout": "IPY_MODEL_cdc25dcfea6b4d92816e7a16cf45be30",
            "max": 25,
            "min": 0,
            "orientation": "horizontal",
            "style": "IPY_MODEL_c14d0af3b4b74daa824325f07e40ddc8",
            "value": 25
          }
        },
        "8254adcfff90487a950a56d9ac4e660c": {
          "model_module": "@jupyter-widgets/controls",
          "model_name": "HTMLModel",
          "model_module_version": "1.5.0",
          "state": {
            "_dom_classes": [],
            "_model_module": "@jupyter-widgets/controls",
            "_model_module_version": "1.5.0",
            "_model_name": "HTMLModel",
            "_view_count": null,
            "_view_module": "@jupyter-widgets/controls",
            "_view_module_version": "1.5.0",
            "_view_name": "HTMLView",
            "description": "",
            "description_tooltip": null,
            "layout": "IPY_MODEL_0955707e0b0d4a1c819a5b22a45e9d7c",
            "placeholder": "​",
            "style": "IPY_MODEL_50e30248bcc34501a6e2a8ff3cb36ad3",
            "value": " 25/25 [01:56&lt;00:00,  4.94s/it]"
          }
        },
        "08f6239ed0c24fb69dfc22a8f5bd1912": {
          "model_module": "@jupyter-widgets/base",
          "model_name": "LayoutModel",
          "model_module_version": "1.2.0",
          "state": {
            "_model_module": "@jupyter-widgets/base",
            "_model_module_version": "1.2.0",
            "_model_name": "LayoutModel",
            "_view_count": null,
            "_view_module": "@jupyter-widgets/base",
            "_view_module_version": "1.2.0",
            "_view_name": "LayoutView",
            "align_content": null,
            "align_items": null,
            "align_self": null,
            "border": null,
            "bottom": null,
            "display": null,
            "flex": null,
            "flex_flow": null,
            "grid_area": null,
            "grid_auto_columns": null,
            "grid_auto_flow": null,
            "grid_auto_rows": null,
            "grid_column": null,
            "grid_gap": null,
            "grid_row": null,
            "grid_template_areas": null,
            "grid_template_columns": null,
            "grid_template_rows": null,
            "height": null,
            "justify_content": null,
            "justify_items": null,
            "left": null,
            "margin": null,
            "max_height": null,
            "max_width": null,
            "min_height": null,
            "min_width": null,
            "object_fit": null,
            "object_position": null,
            "order": null,
            "overflow": null,
            "overflow_x": null,
            "overflow_y": null,
            "padding": null,
            "right": null,
            "top": null,
            "visibility": null,
            "width": null
          }
        },
        "00bc95f93ffb437a88fbf8574d54c132": {
          "model_module": "@jupyter-widgets/base",
          "model_name": "LayoutModel",
          "model_module_version": "1.2.0",
          "state": {
            "_model_module": "@jupyter-widgets/base",
            "_model_module_version": "1.2.0",
            "_model_name": "LayoutModel",
            "_view_count": null,
            "_view_module": "@jupyter-widgets/base",
            "_view_module_version": "1.2.0",
            "_view_name": "LayoutView",
            "align_content": null,
            "align_items": null,
            "align_self": null,
            "border": null,
            "bottom": null,
            "display": null,
            "flex": null,
            "flex_flow": null,
            "grid_area": null,
            "grid_auto_columns": null,
            "grid_auto_flow": null,
            "grid_auto_rows": null,
            "grid_column": null,
            "grid_gap": null,
            "grid_row": null,
            "grid_template_areas": null,
            "grid_template_columns": null,
            "grid_template_rows": null,
            "height": null,
            "justify_content": null,
            "justify_items": null,
            "left": null,
            "margin": null,
            "max_height": null,
            "max_width": null,
            "min_height": null,
            "min_width": null,
            "object_fit": null,
            "object_position": null,
            "order": null,
            "overflow": null,
            "overflow_x": null,
            "overflow_y": null,
            "padding": null,
            "right": null,
            "top": null,
            "visibility": null,
            "width": null
          }
        },
        "9d555125f92c4713934b9f13c44ed04f": {
          "model_module": "@jupyter-widgets/controls",
          "model_name": "DescriptionStyleModel",
          "model_module_version": "1.5.0",
          "state": {
            "_model_module": "@jupyter-widgets/controls",
            "_model_module_version": "1.5.0",
            "_model_name": "DescriptionStyleModel",
            "_view_count": null,
            "_view_module": "@jupyter-widgets/base",
            "_view_module_version": "1.2.0",
            "_view_name": "StyleView",
            "description_width": ""
          }
        },
        "cdc25dcfea6b4d92816e7a16cf45be30": {
          "model_module": "@jupyter-widgets/base",
          "model_name": "LayoutModel",
          "model_module_version": "1.2.0",
          "state": {
            "_model_module": "@jupyter-widgets/base",
            "_model_module_version": "1.2.0",
            "_model_name": "LayoutModel",
            "_view_count": null,
            "_view_module": "@jupyter-widgets/base",
            "_view_module_version": "1.2.0",
            "_view_name": "LayoutView",
            "align_content": null,
            "align_items": null,
            "align_self": null,
            "border": null,
            "bottom": null,
            "display": null,
            "flex": null,
            "flex_flow": null,
            "grid_area": null,
            "grid_auto_columns": null,
            "grid_auto_flow": null,
            "grid_auto_rows": null,
            "grid_column": null,
            "grid_gap": null,
            "grid_row": null,
            "grid_template_areas": null,
            "grid_template_columns": null,
            "grid_template_rows": null,
            "height": null,
            "justify_content": null,
            "justify_items": null,
            "left": null,
            "margin": null,
            "max_height": null,
            "max_width": null,
            "min_height": null,
            "min_width": null,
            "object_fit": null,
            "object_position": null,
            "order": null,
            "overflow": null,
            "overflow_x": null,
            "overflow_y": null,
            "padding": null,
            "right": null,
            "top": null,
            "visibility": null,
            "width": null
          }
        },
        "c14d0af3b4b74daa824325f07e40ddc8": {
          "model_module": "@jupyter-widgets/controls",
          "model_name": "ProgressStyleModel",
          "model_module_version": "1.5.0",
          "state": {
            "_model_module": "@jupyter-widgets/controls",
            "_model_module_version": "1.5.0",
            "_model_name": "ProgressStyleModel",
            "_view_count": null,
            "_view_module": "@jupyter-widgets/base",
            "_view_module_version": "1.2.0",
            "_view_name": "StyleView",
            "bar_color": null,
            "description_width": ""
          }
        },
        "0955707e0b0d4a1c819a5b22a45e9d7c": {
          "model_module": "@jupyter-widgets/base",
          "model_name": "LayoutModel",
          "model_module_version": "1.2.0",
          "state": {
            "_model_module": "@jupyter-widgets/base",
            "_model_module_version": "1.2.0",
            "_model_name": "LayoutModel",
            "_view_count": null,
            "_view_module": "@jupyter-widgets/base",
            "_view_module_version": "1.2.0",
            "_view_name": "LayoutView",
            "align_content": null,
            "align_items": null,
            "align_self": null,
            "border": null,
            "bottom": null,
            "display": null,
            "flex": null,
            "flex_flow": null,
            "grid_area": null,
            "grid_auto_columns": null,
            "grid_auto_flow": null,
            "grid_auto_rows": null,
            "grid_column": null,
            "grid_gap": null,
            "grid_row": null,
            "grid_template_areas": null,
            "grid_template_columns": null,
            "grid_template_rows": null,
            "height": null,
            "justify_content": null,
            "justify_items": null,
            "left": null,
            "margin": null,
            "max_height": null,
            "max_width": null,
            "min_height": null,
            "min_width": null,
            "object_fit": null,
            "object_position": null,
            "order": null,
            "overflow": null,
            "overflow_x": null,
            "overflow_y": null,
            "padding": null,
            "right": null,
            "top": null,
            "visibility": null,
            "width": null
          }
        },
        "50e30248bcc34501a6e2a8ff3cb36ad3": {
          "model_module": "@jupyter-widgets/controls",
          "model_name": "DescriptionStyleModel",
          "model_module_version": "1.5.0",
          "state": {
            "_model_module": "@jupyter-widgets/controls",
            "_model_module_version": "1.5.0",
            "_model_name": "DescriptionStyleModel",
            "_view_count": null,
            "_view_module": "@jupyter-widgets/base",
            "_view_module_version": "1.2.0",
            "_view_name": "StyleView",
            "description_width": ""
          }
        }
      }
    }
  },
  "cells": [
    {
      "cell_type": "markdown",
      "source": [
        "# **Modelo de clasificación para caracteres japoneses**"
      ],
      "metadata": {
        "id": "w7r1oYKmnVjW"
      }
    },
    {
      "cell_type": "markdown",
      "source": [
        "# **Entendimiento del caso**\n",
        "---"
      ],
      "metadata": {
        "id": "IaoKwrup2aRl"
      }
    },
    {
      "cell_type": "markdown",
      "source": [
        "## **1. Contexto**\n",
        "---\n",
        "En este proyecto se usará un conjunto de datos con muestras de diez **`caracteres`** del alfabeto japonés en formato de imágenes de $28 \\times 28$ pixeles. Se buscará clasificar dichas imágenes según su símbolo correcto."
      ],
      "metadata": {
        "id": "MvAZTiwj2dQ_"
      }
    },
    {
      "cell_type": "markdown",
      "source": [
        "## **2. Categorías**\n",
        "---\n",
        "Cabe anotar que el autor de este conjunto de datos etiquetó los símbolos como:\n",
        "\n",
        "<img src = \"https://drive.google.com/uc?id=1C65CCMBdkC2t6GLLSuxd-LEm7E521muw\" alt = \"kana1\">  </img>\n",
        "\n",
        "Pero algunas de las imágenes están nombradas incorrectamente, pues los símbolos a los que realmente corresponden son:\n",
        "\n",
        "<img src = \"https://drive.google.com/uc?id=1tnaEahgokstS3Xx1PRXMQkUPWTEKc56d\" alt = \"kana2\">  </img>\n",
        "\n",
        "Lo anterior no afectará al presente estudio, porque la variable objetivo estará representada como un número entre $0$ y $9$. Entonces es indiferente a qué caracteres corresponden los dígitos."
      ],
      "metadata": {
        "id": "wylGyoqQ3yDj"
      }
    },
    {
      "cell_type": "markdown",
      "source": [
        "# **Entendimiento de los datos**\n",
        "---"
      ],
      "metadata": {
        "id": "876486dohVO9"
      }
    },
    {
      "cell_type": "markdown",
      "source": [
        "## **1. Adquisición de datos**\n",
        "---"
      ],
      "metadata": {
        "id": "h188Bl3rhoiy"
      }
    },
    {
      "cell_type": "code",
      "source": [
        "!pip install -U scikit-learn\n",
        "\n",
        "import sklearn"
      ],
      "metadata": {
        "colab": {
          "base_uri": "https://localhost:8080/"
        },
        "id": "l0ycDzJoNSZ3",
        "outputId": "18eab595-99d2-4e36-fffb-b24999dfe481"
      },
      "execution_count": null,
      "outputs": [
        {
          "output_type": "stream",
          "name": "stdout",
          "text": [
            "Requirement already satisfied: scikit-learn in /usr/local/lib/python3.10/dist-packages (1.2.2)\n",
            "Collecting scikit-learn\n",
            "  Downloading scikit_learn-1.3.1-cp310-cp310-manylinux_2_17_x86_64.manylinux2014_x86_64.whl (10.8 MB)\n",
            "\u001b[2K     \u001b[90m━━━━━━━━━━━━━━━━━━━━━━━━━━━━━━━━━━━━━━━━\u001b[0m \u001b[32m10.8/10.8 MB\u001b[0m \u001b[31m75.7 MB/s\u001b[0m eta \u001b[36m0:00:00\u001b[0m\n",
            "\u001b[?25hRequirement already satisfied: numpy<2.0,>=1.17.3 in /usr/local/lib/python3.10/dist-packages (from scikit-learn) (1.23.5)\n",
            "Requirement already satisfied: scipy>=1.5.0 in /usr/local/lib/python3.10/dist-packages (from scikit-learn) (1.11.3)\n",
            "Requirement already satisfied: joblib>=1.1.1 in /usr/local/lib/python3.10/dist-packages (from scikit-learn) (1.3.2)\n",
            "Requirement already satisfied: threadpoolctl>=2.0.0 in /usr/local/lib/python3.10/dist-packages (from scikit-learn) (3.2.0)\n",
            "Installing collected packages: scikit-learn\n",
            "  Attempting uninstall: scikit-learn\n",
            "    Found existing installation: scikit-learn 1.2.2\n",
            "    Uninstalling scikit-learn-1.2.2:\n",
            "      Successfully uninstalled scikit-learn-1.2.2\n",
            "Successfully installed scikit-learn-1.3.1\n"
          ]
        }
      ]
    },
    {
      "cell_type": "code",
      "source": [
        "# Módulos estándar\n",
        "from random import seed, randint\n",
        "seed(30)\n",
        "\n",
        "import numpy as np\n",
        "import pandas as pd\n",
        "\n",
        "from sklearn.decomposition import PCA\n",
        "\n",
        "# PyTorch\n",
        "import torch\n",
        "import torch.nn as nn\n",
        "import torch.nn.functional as F\n",
        "import torchvision\n",
        "import torch.utils.data\n",
        "from torch.utils.data import DataLoader\n",
        "import torchvision.transforms as transforms\n",
        "\n",
        "# Módulos de visualización\n",
        "import matplotlib as mpl\n",
        "import matplotlib.pyplot as plt\n",
        "from matplotlib.colors import to_rgba\n",
        "\n",
        "import seaborn as sns\n",
        "sns.set()\n",
        "\n",
        "# Configuraciones de Matplotlib\n",
        "%matplotlib inline\n",
        "plt.rcParams['figure.dpi'] = 110\n",
        "\n",
        "# Barra de progreso\n",
        "from tqdm.notebook import tqdm"
      ],
      "metadata": {
        "id": "K2VL144TjwCC"
      },
      "execution_count": null,
      "outputs": []
    },
    {
      "cell_type": "markdown",
      "source": [
        "Este material se realizó con las siguientes versiones:\n",
        "- **`Python`**: 3.10.12\n",
        "- **`Numpy`**: 1.23.5\n",
        "- **`Pandas`**: 1.5.3\n",
        "- **`Scikit-learn`**: 1.3.1\n",
        "- **`PyTorch`**: 2.0.1\n",
        "- **`Matplotlib`**: 3.7.1\n",
        "- **`Seaborn`**: 0.12.2"
      ],
      "metadata": {
        "id": "ZaLUOjFbTcye"
      }
    },
    {
      "cell_type": "code",
      "source": [
        "!python --version\n",
        "print(\"Numpy\", np.__version__)\n",
        "print(\"Pandas\", pd.__version__)\n",
        "print('Scikit-learn', sklearn.__version__)\n",
        "print(\"PyTorch\", torch.__version__)\n",
        "print(\"Matplotlib\", mpl.__version__)\n",
        "print(\"Seaborn\", sns.__version__)"
      ],
      "metadata": {
        "colab": {
          "base_uri": "https://localhost:8080/"
        },
        "id": "8psXwogATnpY",
        "outputId": "c700aa65-5f29-4deb-9f3c-69de9d349d92"
      },
      "execution_count": null,
      "outputs": [
        {
          "output_type": "stream",
          "name": "stdout",
          "text": [
            "Python 3.10.12\n",
            "Numpy 1.23.5\n",
            "Pandas 1.5.3\n",
            "Scikit-learn 1.3.1\n",
            "PyTorch 2.0.1+cu118\n",
            "Matplotlib 3.7.1\n",
            "Seaborn 0.12.2\n"
          ]
        }
      ]
    },
    {
      "cell_type": "markdown",
      "source": [
        "Para este caso de estudio se utilizará el conjunto de datos [Japanese Characters](https://www.kaggle.com/datasets/notshrirang/japanese-characters) disponible en *Kaggle*."
      ],
      "metadata": {
        "id": "xVCbQ04e4RDY"
      }
    },
    {
      "cell_type": "code",
      "source": [
        "trainset = pd.read_csv(\"train_data.csv\")\n",
        "testset = pd.read_csv(\"test_data.csv\")"
      ],
      "metadata": {
        "id": "n25LGS_Rj2q6"
      },
      "execution_count": null,
      "outputs": []
    },
    {
      "cell_type": "markdown",
      "source": [
        "## **2. Funciones de utilidad**\n",
        "---"
      ],
      "metadata": {
        "id": "I7cukV40nZQf"
      }
    },
    {
      "cell_type": "markdown",
      "source": [
        "Se crea una función para **`entrenar y guardar`** los distintos modelos. También se mantiene una variable global con el nombre del **`mejor modelo`** encontrado hasta el momento de cada entrenamiento."
      ],
      "metadata": {
        "id": "3_TZZzwq0yUE"
      }
    },
    {
      "cell_type": "code",
      "source": [
        "overall_min = np.inf\n",
        "best_model = \"\"\n",
        "\n",
        "def train_model(model, optimizer, loss_module, train_loader, valid_loader, num_epochs=1, file=\"model_hiragana.pt\"):\n",
        "    global overall_min, best_model\n",
        "\n",
        "    valid_loss_min = np.inf\n",
        "\n",
        "    for epoch in tqdm(range(num_epochs)):\n",
        "\n",
        "        model.train()\n",
        "        train_loss = 0.0\n",
        "        valid_loss = 0.0\n",
        "        for data, target in train_loader:\n",
        "            data = data.to(device)\n",
        "            target = target.type(torch.LongTensor)\n",
        "            target = target.to(device)\n",
        "            optimizer.zero_grad()\n",
        "            preds = model(data)\n",
        "            preds = preds.squeeze(dim=1)\n",
        "            loss = loss_module(preds, target)\n",
        "            loss.backward()\n",
        "            optimizer.step()\n",
        "            train_loss += loss.item()*data.size(0)\n",
        "        train_loss = train_loss/len(train_loader.dataset)\n",
        "\n",
        "        model.eval()\n",
        "        for data, target in valid_loader:\n",
        "            data = data.to(device)\n",
        "            target = target.type(torch.LongTensor)\n",
        "            target = target.to(device)\n",
        "            output = model(data)\n",
        "            loss = loss_module(output, target)\n",
        "            valid_loss += loss.item()*data.size(0)\n",
        "        valid_loss = valid_loss/len(valid_loader.dataset)\n",
        "\n",
        "        print(f\"Epoch: {epoch}\", end=\"\\t\")\n",
        "        print(f\"Training Loss: {round(train_loss, 5)}\", end=\"\\t\")\n",
        "        print(f\"Validation Loss: {round(valid_loss, 5)}\")\n",
        "        if valid_loss < valid_loss_min:\n",
        "            if valid_loss < overall_min:\n",
        "                best_model = file[:-3]\n",
        "                overall_min = valid_loss\n",
        "            print(f\"Validation loss decreased ({round(valid_loss_min, 5)} --> {round(valid_loss, 5)}). Saving model...\\n\")\n",
        "            torch.save(model.state_dict(), file)\n",
        "            valid_loss_min = valid_loss"
      ],
      "metadata": {
        "id": "aEiFc8e9924X"
      },
      "execution_count": null,
      "outputs": []
    },
    {
      "cell_type": "markdown",
      "source": [
        "También se usará recurrentemente la función **`accuracy_test`**, la cual evalúa un modelo en un conjunto de datos e imprime la **`exactitud`** de las predicciones."
      ],
      "metadata": {
        "id": "V4wcVCHu1Ux3"
      }
    },
    {
      "cell_type": "code",
      "source": [
        "def accuracy_test(model, dataset):\n",
        "    model.eval()\n",
        "    total, correct = 0, 0\n",
        "\n",
        "    for data, target in dataset:\n",
        "        data = data.to(device)\n",
        "        target = target.to(device)\n",
        "        output = model(data)\n",
        "        _, output = torch.max(output.data, 1)\n",
        "        total += target.size(0)\n",
        "        correct += (output == target).sum().item()\n",
        "\n",
        "    print(f\"The testing set accuracy of the network is: {100*correct / total} %\")"
      ],
      "metadata": {
        "id": "jTCDRRobjvpM"
      },
      "execution_count": null,
      "outputs": []
    },
    {
      "cell_type": "markdown",
      "source": [
        "## **3. Análisis exploratorio de datos**\n",
        "---"
      ],
      "metadata": {
        "id": "XRmbZQcth2F8"
      }
    },
    {
      "cell_type": "markdown",
      "source": [
        "### **2.1. Descripciones y selección de características**\n",
        "---"
      ],
      "metadata": {
        "id": "aa8FCcxoiDNU"
      }
    },
    {
      "cell_type": "markdown",
      "source": [
        "Se seleccionan algunos datos de la tabla para adquirir un **`entendimiento general`** de la composición de las filas."
      ],
      "metadata": {
        "id": "rkvkqWIN51O_"
      }
    },
    {
      "cell_type": "code",
      "source": [
        "trainset.head()"
      ],
      "metadata": {
        "colab": {
          "base_uri": "https://localhost:8080/",
          "height": 236
        },
        "id": "YosIcsrEkgR7",
        "outputId": "1e1bebec-a640-4a5d-a8fd-bd814690f167"
      },
      "execution_count": null,
      "outputs": [
        {
          "output_type": "execute_result",
          "data": {
            "text/plain": [
              "   Unnamed: 0  label  0  1  2  3  4  5  6  7  ...  774  775  776  777  778  \\\n",
              "0           0      8  0  0  0  0  0  0  0  0  ...  122  255   90    0    0   \n",
              "1           1      7  0  0  0  0  0  0  0  0  ...    0    0    0    0    0   \n",
              "2           2      0  0  0  0  0  0  0  0  0  ...    0    0    0    0    0   \n",
              "3           3      1  0  0  0  0  0  0  0  0  ...  255   64    0    0    0   \n",
              "4           4      4  0  0  0  0  0  0  0  0  ...    0    0    0    0    0   \n",
              "\n",
              "   779  780  781  782  783  \n",
              "0    0    0    0    0    0  \n",
              "1    0    0    0    0    0  \n",
              "2    0    0    0    0    0  \n",
              "3    0    0    0    0    0  \n",
              "4    0    0    0    0    0  \n",
              "\n",
              "[5 rows x 786 columns]"
            ],
            "text/html": [
              "\n",
              "  <div id=\"df-106a0ac5-c557-4ddf-ab73-fa4d0b6feece\" class=\"colab-df-container\">\n",
              "    <div>\n",
              "<style scoped>\n",
              "    .dataframe tbody tr th:only-of-type {\n",
              "        vertical-align: middle;\n",
              "    }\n",
              "\n",
              "    .dataframe tbody tr th {\n",
              "        vertical-align: top;\n",
              "    }\n",
              "\n",
              "    .dataframe thead th {\n",
              "        text-align: right;\n",
              "    }\n",
              "</style>\n",
              "<table border=\"1\" class=\"dataframe\">\n",
              "  <thead>\n",
              "    <tr style=\"text-align: right;\">\n",
              "      <th></th>\n",
              "      <th>Unnamed: 0</th>\n",
              "      <th>label</th>\n",
              "      <th>0</th>\n",
              "      <th>1</th>\n",
              "      <th>2</th>\n",
              "      <th>3</th>\n",
              "      <th>4</th>\n",
              "      <th>5</th>\n",
              "      <th>6</th>\n",
              "      <th>7</th>\n",
              "      <th>...</th>\n",
              "      <th>774</th>\n",
              "      <th>775</th>\n",
              "      <th>776</th>\n",
              "      <th>777</th>\n",
              "      <th>778</th>\n",
              "      <th>779</th>\n",
              "      <th>780</th>\n",
              "      <th>781</th>\n",
              "      <th>782</th>\n",
              "      <th>783</th>\n",
              "    </tr>\n",
              "  </thead>\n",
              "  <tbody>\n",
              "    <tr>\n",
              "      <th>0</th>\n",
              "      <td>0</td>\n",
              "      <td>8</td>\n",
              "      <td>0</td>\n",
              "      <td>0</td>\n",
              "      <td>0</td>\n",
              "      <td>0</td>\n",
              "      <td>0</td>\n",
              "      <td>0</td>\n",
              "      <td>0</td>\n",
              "      <td>0</td>\n",
              "      <td>...</td>\n",
              "      <td>122</td>\n",
              "      <td>255</td>\n",
              "      <td>90</td>\n",
              "      <td>0</td>\n",
              "      <td>0</td>\n",
              "      <td>0</td>\n",
              "      <td>0</td>\n",
              "      <td>0</td>\n",
              "      <td>0</td>\n",
              "      <td>0</td>\n",
              "    </tr>\n",
              "    <tr>\n",
              "      <th>1</th>\n",
              "      <td>1</td>\n",
              "      <td>7</td>\n",
              "      <td>0</td>\n",
              "      <td>0</td>\n",
              "      <td>0</td>\n",
              "      <td>0</td>\n",
              "      <td>0</td>\n",
              "      <td>0</td>\n",
              "      <td>0</td>\n",
              "      <td>0</td>\n",
              "      <td>...</td>\n",
              "      <td>0</td>\n",
              "      <td>0</td>\n",
              "      <td>0</td>\n",
              "      <td>0</td>\n",
              "      <td>0</td>\n",
              "      <td>0</td>\n",
              "      <td>0</td>\n",
              "      <td>0</td>\n",
              "      <td>0</td>\n",
              "      <td>0</td>\n",
              "    </tr>\n",
              "    <tr>\n",
              "      <th>2</th>\n",
              "      <td>2</td>\n",
              "      <td>0</td>\n",
              "      <td>0</td>\n",
              "      <td>0</td>\n",
              "      <td>0</td>\n",
              "      <td>0</td>\n",
              "      <td>0</td>\n",
              "      <td>0</td>\n",
              "      <td>0</td>\n",
              "      <td>0</td>\n",
              "      <td>...</td>\n",
              "      <td>0</td>\n",
              "      <td>0</td>\n",
              "      <td>0</td>\n",
              "      <td>0</td>\n",
              "      <td>0</td>\n",
              "      <td>0</td>\n",
              "      <td>0</td>\n",
              "      <td>0</td>\n",
              "      <td>0</td>\n",
              "      <td>0</td>\n",
              "    </tr>\n",
              "    <tr>\n",
              "      <th>3</th>\n",
              "      <td>3</td>\n",
              "      <td>1</td>\n",
              "      <td>0</td>\n",
              "      <td>0</td>\n",
              "      <td>0</td>\n",
              "      <td>0</td>\n",
              "      <td>0</td>\n",
              "      <td>0</td>\n",
              "      <td>0</td>\n",
              "      <td>0</td>\n",
              "      <td>...</td>\n",
              "      <td>255</td>\n",
              "      <td>64</td>\n",
              "      <td>0</td>\n",
              "      <td>0</td>\n",
              "      <td>0</td>\n",
              "      <td>0</td>\n",
              "      <td>0</td>\n",
              "      <td>0</td>\n",
              "      <td>0</td>\n",
              "      <td>0</td>\n",
              "    </tr>\n",
              "    <tr>\n",
              "      <th>4</th>\n",
              "      <td>4</td>\n",
              "      <td>4</td>\n",
              "      <td>0</td>\n",
              "      <td>0</td>\n",
              "      <td>0</td>\n",
              "      <td>0</td>\n",
              "      <td>0</td>\n",
              "      <td>0</td>\n",
              "      <td>0</td>\n",
              "      <td>0</td>\n",
              "      <td>...</td>\n",
              "      <td>0</td>\n",
              "      <td>0</td>\n",
              "      <td>0</td>\n",
              "      <td>0</td>\n",
              "      <td>0</td>\n",
              "      <td>0</td>\n",
              "      <td>0</td>\n",
              "      <td>0</td>\n",
              "      <td>0</td>\n",
              "      <td>0</td>\n",
              "    </tr>\n",
              "  </tbody>\n",
              "</table>\n",
              "<p>5 rows × 786 columns</p>\n",
              "</div>\n",
              "    <div class=\"colab-df-buttons\">\n",
              "\n",
              "  <div class=\"colab-df-container\">\n",
              "    <button class=\"colab-df-convert\" onclick=\"convertToInteractive('df-106a0ac5-c557-4ddf-ab73-fa4d0b6feece')\"\n",
              "            title=\"Convert this dataframe to an interactive table.\"\n",
              "            style=\"display:none;\">\n",
              "\n",
              "  <svg xmlns=\"http://www.w3.org/2000/svg\" height=\"24px\" viewBox=\"0 -960 960 960\">\n",
              "    <path d=\"M120-120v-720h720v720H120Zm60-500h600v-160H180v160Zm220 220h160v-160H400v160Zm0 220h160v-160H400v160ZM180-400h160v-160H180v160Zm440 0h160v-160H620v160ZM180-180h160v-160H180v160Zm440 0h160v-160H620v160Z\"/>\n",
              "  </svg>\n",
              "    </button>\n",
              "\n",
              "  <style>\n",
              "    .colab-df-container {\n",
              "      display:flex;\n",
              "      gap: 12px;\n",
              "    }\n",
              "\n",
              "    .colab-df-convert {\n",
              "      background-color: #E8F0FE;\n",
              "      border: none;\n",
              "      border-radius: 50%;\n",
              "      cursor: pointer;\n",
              "      display: none;\n",
              "      fill: #1967D2;\n",
              "      height: 32px;\n",
              "      padding: 0 0 0 0;\n",
              "      width: 32px;\n",
              "    }\n",
              "\n",
              "    .colab-df-convert:hover {\n",
              "      background-color: #E2EBFA;\n",
              "      box-shadow: 0px 1px 2px rgba(60, 64, 67, 0.3), 0px 1px 3px 1px rgba(60, 64, 67, 0.15);\n",
              "      fill: #174EA6;\n",
              "    }\n",
              "\n",
              "    .colab-df-buttons div {\n",
              "      margin-bottom: 4px;\n",
              "    }\n",
              "\n",
              "    [theme=dark] .colab-df-convert {\n",
              "      background-color: #3B4455;\n",
              "      fill: #D2E3FC;\n",
              "    }\n",
              "\n",
              "    [theme=dark] .colab-df-convert:hover {\n",
              "      background-color: #434B5C;\n",
              "      box-shadow: 0px 1px 3px 1px rgba(0, 0, 0, 0.15);\n",
              "      filter: drop-shadow(0px 1px 2px rgba(0, 0, 0, 0.3));\n",
              "      fill: #FFFFFF;\n",
              "    }\n",
              "  </style>\n",
              "\n",
              "    <script>\n",
              "      const buttonEl =\n",
              "        document.querySelector('#df-106a0ac5-c557-4ddf-ab73-fa4d0b6feece button.colab-df-convert');\n",
              "      buttonEl.style.display =\n",
              "        google.colab.kernel.accessAllowed ? 'block' : 'none';\n",
              "\n",
              "      async function convertToInteractive(key) {\n",
              "        const element = document.querySelector('#df-106a0ac5-c557-4ddf-ab73-fa4d0b6feece');\n",
              "        const dataTable =\n",
              "          await google.colab.kernel.invokeFunction('convertToInteractive',\n",
              "                                                    [key], {});\n",
              "        if (!dataTable) return;\n",
              "\n",
              "        const docLinkHtml = 'Like what you see? Visit the ' +\n",
              "          '<a target=\"_blank\" href=https://colab.research.google.com/notebooks/data_table.ipynb>data table notebook</a>'\n",
              "          + ' to learn more about interactive tables.';\n",
              "        element.innerHTML = '';\n",
              "        dataTable['output_type'] = 'display_data';\n",
              "        await google.colab.output.renderOutput(dataTable, element);\n",
              "        const docLink = document.createElement('div');\n",
              "        docLink.innerHTML = docLinkHtml;\n",
              "        element.appendChild(docLink);\n",
              "      }\n",
              "    </script>\n",
              "  </div>\n",
              "\n",
              "\n",
              "<div id=\"df-7388af61-9cb5-44b4-bd36-e6b69d5a6af6\">\n",
              "  <button class=\"colab-df-quickchart\" onclick=\"quickchart('df-7388af61-9cb5-44b4-bd36-e6b69d5a6af6')\"\n",
              "            title=\"Suggest charts.\"\n",
              "            style=\"display:none;\">\n",
              "\n",
              "<svg xmlns=\"http://www.w3.org/2000/svg\" height=\"24px\"viewBox=\"0 0 24 24\"\n",
              "     width=\"24px\">\n",
              "    <g>\n",
              "        <path d=\"M19 3H5c-1.1 0-2 .9-2 2v14c0 1.1.9 2 2 2h14c1.1 0 2-.9 2-2V5c0-1.1-.9-2-2-2zM9 17H7v-7h2v7zm4 0h-2V7h2v10zm4 0h-2v-4h2v4z\"/>\n",
              "    </g>\n",
              "</svg>\n",
              "  </button>\n",
              "\n",
              "<style>\n",
              "  .colab-df-quickchart {\n",
              "      --bg-color: #E8F0FE;\n",
              "      --fill-color: #1967D2;\n",
              "      --hover-bg-color: #E2EBFA;\n",
              "      --hover-fill-color: #174EA6;\n",
              "      --disabled-fill-color: #AAA;\n",
              "      --disabled-bg-color: #DDD;\n",
              "  }\n",
              "\n",
              "  [theme=dark] .colab-df-quickchart {\n",
              "      --bg-color: #3B4455;\n",
              "      --fill-color: #D2E3FC;\n",
              "      --hover-bg-color: #434B5C;\n",
              "      --hover-fill-color: #FFFFFF;\n",
              "      --disabled-bg-color: #3B4455;\n",
              "      --disabled-fill-color: #666;\n",
              "  }\n",
              "\n",
              "  .colab-df-quickchart {\n",
              "    background-color: var(--bg-color);\n",
              "    border: none;\n",
              "    border-radius: 50%;\n",
              "    cursor: pointer;\n",
              "    display: none;\n",
              "    fill: var(--fill-color);\n",
              "    height: 32px;\n",
              "    padding: 0;\n",
              "    width: 32px;\n",
              "  }\n",
              "\n",
              "  .colab-df-quickchart:hover {\n",
              "    background-color: var(--hover-bg-color);\n",
              "    box-shadow: 0 1px 2px rgba(60, 64, 67, 0.3), 0 1px 3px 1px rgba(60, 64, 67, 0.15);\n",
              "    fill: var(--button-hover-fill-color);\n",
              "  }\n",
              "\n",
              "  .colab-df-quickchart-complete:disabled,\n",
              "  .colab-df-quickchart-complete:disabled:hover {\n",
              "    background-color: var(--disabled-bg-color);\n",
              "    fill: var(--disabled-fill-color);\n",
              "    box-shadow: none;\n",
              "  }\n",
              "\n",
              "  .colab-df-spinner {\n",
              "    border: 2px solid var(--fill-color);\n",
              "    border-color: transparent;\n",
              "    border-bottom-color: var(--fill-color);\n",
              "    animation:\n",
              "      spin 1s steps(1) infinite;\n",
              "  }\n",
              "\n",
              "  @keyframes spin {\n",
              "    0% {\n",
              "      border-color: transparent;\n",
              "      border-bottom-color: var(--fill-color);\n",
              "      border-left-color: var(--fill-color);\n",
              "    }\n",
              "    20% {\n",
              "      border-color: transparent;\n",
              "      border-left-color: var(--fill-color);\n",
              "      border-top-color: var(--fill-color);\n",
              "    }\n",
              "    30% {\n",
              "      border-color: transparent;\n",
              "      border-left-color: var(--fill-color);\n",
              "      border-top-color: var(--fill-color);\n",
              "      border-right-color: var(--fill-color);\n",
              "    }\n",
              "    40% {\n",
              "      border-color: transparent;\n",
              "      border-right-color: var(--fill-color);\n",
              "      border-top-color: var(--fill-color);\n",
              "    }\n",
              "    60% {\n",
              "      border-color: transparent;\n",
              "      border-right-color: var(--fill-color);\n",
              "    }\n",
              "    80% {\n",
              "      border-color: transparent;\n",
              "      border-right-color: var(--fill-color);\n",
              "      border-bottom-color: var(--fill-color);\n",
              "    }\n",
              "    90% {\n",
              "      border-color: transparent;\n",
              "      border-bottom-color: var(--fill-color);\n",
              "    }\n",
              "  }\n",
              "</style>\n",
              "\n",
              "  <script>\n",
              "    async function quickchart(key) {\n",
              "      const quickchartButtonEl =\n",
              "        document.querySelector('#' + key + ' button');\n",
              "      quickchartButtonEl.disabled = true;  // To prevent multiple clicks.\n",
              "      quickchartButtonEl.classList.add('colab-df-spinner');\n",
              "      try {\n",
              "        const charts = await google.colab.kernel.invokeFunction(\n",
              "            'suggestCharts', [key], {});\n",
              "      } catch (error) {\n",
              "        console.error('Error during call to suggestCharts:', error);\n",
              "      }\n",
              "      quickchartButtonEl.classList.remove('colab-df-spinner');\n",
              "      quickchartButtonEl.classList.add('colab-df-quickchart-complete');\n",
              "    }\n",
              "    (() => {\n",
              "      let quickchartButtonEl =\n",
              "        document.querySelector('#df-7388af61-9cb5-44b4-bd36-e6b69d5a6af6 button');\n",
              "      quickchartButtonEl.style.display =\n",
              "        google.colab.kernel.accessAllowed ? 'block' : 'none';\n",
              "    })();\n",
              "  </script>\n",
              "</div>\n",
              "    </div>\n",
              "  </div>\n"
            ]
          },
          "metadata": {},
          "execution_count": 7
        }
      ]
    },
    {
      "cell_type": "markdown",
      "source": [
        "Con esta vista premilinar se identifica una columna que no aporta **`información relevante`** para el análisis que se busca realizar. Por esto, se elimina a continuación:"
      ],
      "metadata": {
        "id": "Cv-cX4jh61wX"
      }
    },
    {
      "cell_type": "code",
      "source": [
        "trainset = trainset.drop(columns=[\"Unnamed: 0\"])\n",
        "testset = testset.drop(columns=[\"Unnamed: 0\"])"
      ],
      "metadata": {
        "id": "KUEYs5Gk6gGB"
      },
      "execution_count": null,
      "outputs": []
    },
    {
      "cell_type": "markdown",
      "source": [
        "Con esto, se revisa la **`información general`** del conjunto de datos y se puede detallar que todas las columnas tienen un formato numérico, por lo que ya están listas para el análisis de clasificación. Además, se hace la anotación de que la primera variable es la que se busca describir (**`label`**)."
      ],
      "metadata": {
        "id": "qXMBzCOt-c01"
      }
    },
    {
      "cell_type": "code",
      "source": [
        "trainset.info()"
      ],
      "metadata": {
        "colab": {
          "base_uri": "https://localhost:8080/"
        },
        "id": "2SAQPOGrkw3Z",
        "outputId": "06762b7b-ec70-44f1-fdb3-2d8ba0e505c6"
      },
      "execution_count": null,
      "outputs": [
        {
          "output_type": "stream",
          "name": "stdout",
          "text": [
            "<class 'pandas.core.frame.DataFrame'>\n",
            "RangeIndex: 60000 entries, 0 to 59999\n",
            "Columns: 785 entries, label to 783\n",
            "dtypes: int64(785)\n",
            "memory usage: 359.3 MB\n"
          ]
        }
      ]
    },
    {
      "cell_type": "code",
      "source": [
        "testset.info()"
      ],
      "metadata": {
        "colab": {
          "base_uri": "https://localhost:8080/"
        },
        "id": "xfTu9j1KrphK",
        "outputId": "751b7128-f06a-466e-e741-f9027c5534a2"
      },
      "execution_count": null,
      "outputs": [
        {
          "output_type": "stream",
          "name": "stdout",
          "text": [
            "<class 'pandas.core.frame.DataFrame'>\n",
            "RangeIndex: 10000 entries, 0 to 9999\n",
            "Columns: 785 entries, label to 783\n",
            "dtypes: int64(785)\n",
            "memory usage: 59.9 MB\n"
          ]
        }
      ]
    },
    {
      "cell_type": "markdown",
      "source": [
        "# **Preparación de los datos**\n",
        "---"
      ],
      "metadata": {
        "id": "HiGdLed8ig6s"
      }
    },
    {
      "cell_type": "markdown",
      "source": [
        "## **1. Limpieza de datos**\n",
        "---"
      ],
      "metadata": {
        "id": "R-5vP4SnioJp"
      }
    },
    {
      "cell_type": "markdown",
      "source": [
        "Por medio del método **`info`** se identificó que ningún parámetro posee valores nulos o faltantes, por lo que no es necesario eliminar filas.\n",
        "\n",
        "\n",
        "\n"
      ],
      "metadata": {
        "id": "DEXoDQpx_7Wl"
      }
    },
    {
      "cell_type": "markdown",
      "source": [
        "## **2. Nuevos datos preparados**\n",
        "---"
      ],
      "metadata": {
        "id": "zbR5-l25C-nt"
      }
    },
    {
      "cell_type": "markdown",
      "source": [
        "Se selecciona una **`muestra aleatoria`** de la tabla para verificar el efecto de los cambios realizados."
      ],
      "metadata": {
        "id": "AU4IIcCI142f"
      }
    },
    {
      "cell_type": "code",
      "source": [
        "trainset.sample(3, random_state=42)"
      ],
      "metadata": {
        "colab": {
          "base_uri": "https://localhost:8080/",
          "height": 173
        },
        "id": "I9LJUuEy15v-",
        "outputId": "60fb671c-be9a-4f03-bbcc-659fb50e7299"
      },
      "execution_count": null,
      "outputs": [
        {
          "output_type": "execute_result",
          "data": {
            "text/plain": [
              "       label  0  1  2  3  4  5  6  7  8  ...  774  775  776  777  778  779  \\\n",
              "12628      6  0  0  0  0  0  0  0  0  0  ...    0    0    0    0    0    0   \n",
              "37730      4  0  0  0  0  0  0  0  0  1  ...   73  219   18    0    0    0   \n",
              "39991      7  0  0  0  0  0  0  0  0  0  ...    0    0    0    0    0    0   \n",
              "\n",
              "       780  781  782  783  \n",
              "12628    0    0    0    0  \n",
              "37730    0    0    0    0  \n",
              "39991    0    0    0    0  \n",
              "\n",
              "[3 rows x 785 columns]"
            ],
            "text/html": [
              "\n",
              "  <div id=\"df-bb7567b2-03a8-4362-a478-cb22d3703103\" class=\"colab-df-container\">\n",
              "    <div>\n",
              "<style scoped>\n",
              "    .dataframe tbody tr th:only-of-type {\n",
              "        vertical-align: middle;\n",
              "    }\n",
              "\n",
              "    .dataframe tbody tr th {\n",
              "        vertical-align: top;\n",
              "    }\n",
              "\n",
              "    .dataframe thead th {\n",
              "        text-align: right;\n",
              "    }\n",
              "</style>\n",
              "<table border=\"1\" class=\"dataframe\">\n",
              "  <thead>\n",
              "    <tr style=\"text-align: right;\">\n",
              "      <th></th>\n",
              "      <th>label</th>\n",
              "      <th>0</th>\n",
              "      <th>1</th>\n",
              "      <th>2</th>\n",
              "      <th>3</th>\n",
              "      <th>4</th>\n",
              "      <th>5</th>\n",
              "      <th>6</th>\n",
              "      <th>7</th>\n",
              "      <th>8</th>\n",
              "      <th>...</th>\n",
              "      <th>774</th>\n",
              "      <th>775</th>\n",
              "      <th>776</th>\n",
              "      <th>777</th>\n",
              "      <th>778</th>\n",
              "      <th>779</th>\n",
              "      <th>780</th>\n",
              "      <th>781</th>\n",
              "      <th>782</th>\n",
              "      <th>783</th>\n",
              "    </tr>\n",
              "  </thead>\n",
              "  <tbody>\n",
              "    <tr>\n",
              "      <th>12628</th>\n",
              "      <td>6</td>\n",
              "      <td>0</td>\n",
              "      <td>0</td>\n",
              "      <td>0</td>\n",
              "      <td>0</td>\n",
              "      <td>0</td>\n",
              "      <td>0</td>\n",
              "      <td>0</td>\n",
              "      <td>0</td>\n",
              "      <td>0</td>\n",
              "      <td>...</td>\n",
              "      <td>0</td>\n",
              "      <td>0</td>\n",
              "      <td>0</td>\n",
              "      <td>0</td>\n",
              "      <td>0</td>\n",
              "      <td>0</td>\n",
              "      <td>0</td>\n",
              "      <td>0</td>\n",
              "      <td>0</td>\n",
              "      <td>0</td>\n",
              "    </tr>\n",
              "    <tr>\n",
              "      <th>37730</th>\n",
              "      <td>4</td>\n",
              "      <td>0</td>\n",
              "      <td>0</td>\n",
              "      <td>0</td>\n",
              "      <td>0</td>\n",
              "      <td>0</td>\n",
              "      <td>0</td>\n",
              "      <td>0</td>\n",
              "      <td>0</td>\n",
              "      <td>1</td>\n",
              "      <td>...</td>\n",
              "      <td>73</td>\n",
              "      <td>219</td>\n",
              "      <td>18</td>\n",
              "      <td>0</td>\n",
              "      <td>0</td>\n",
              "      <td>0</td>\n",
              "      <td>0</td>\n",
              "      <td>0</td>\n",
              "      <td>0</td>\n",
              "      <td>0</td>\n",
              "    </tr>\n",
              "    <tr>\n",
              "      <th>39991</th>\n",
              "      <td>7</td>\n",
              "      <td>0</td>\n",
              "      <td>0</td>\n",
              "      <td>0</td>\n",
              "      <td>0</td>\n",
              "      <td>0</td>\n",
              "      <td>0</td>\n",
              "      <td>0</td>\n",
              "      <td>0</td>\n",
              "      <td>0</td>\n",
              "      <td>...</td>\n",
              "      <td>0</td>\n",
              "      <td>0</td>\n",
              "      <td>0</td>\n",
              "      <td>0</td>\n",
              "      <td>0</td>\n",
              "      <td>0</td>\n",
              "      <td>0</td>\n",
              "      <td>0</td>\n",
              "      <td>0</td>\n",
              "      <td>0</td>\n",
              "    </tr>\n",
              "  </tbody>\n",
              "</table>\n",
              "<p>3 rows × 785 columns</p>\n",
              "</div>\n",
              "    <div class=\"colab-df-buttons\">\n",
              "\n",
              "  <div class=\"colab-df-container\">\n",
              "    <button class=\"colab-df-convert\" onclick=\"convertToInteractive('df-bb7567b2-03a8-4362-a478-cb22d3703103')\"\n",
              "            title=\"Convert this dataframe to an interactive table.\"\n",
              "            style=\"display:none;\">\n",
              "\n",
              "  <svg xmlns=\"http://www.w3.org/2000/svg\" height=\"24px\" viewBox=\"0 -960 960 960\">\n",
              "    <path d=\"M120-120v-720h720v720H120Zm60-500h600v-160H180v160Zm220 220h160v-160H400v160Zm0 220h160v-160H400v160ZM180-400h160v-160H180v160Zm440 0h160v-160H620v160ZM180-180h160v-160H180v160Zm440 0h160v-160H620v160Z\"/>\n",
              "  </svg>\n",
              "    </button>\n",
              "\n",
              "  <style>\n",
              "    .colab-df-container {\n",
              "      display:flex;\n",
              "      gap: 12px;\n",
              "    }\n",
              "\n",
              "    .colab-df-convert {\n",
              "      background-color: #E8F0FE;\n",
              "      border: none;\n",
              "      border-radius: 50%;\n",
              "      cursor: pointer;\n",
              "      display: none;\n",
              "      fill: #1967D2;\n",
              "      height: 32px;\n",
              "      padding: 0 0 0 0;\n",
              "      width: 32px;\n",
              "    }\n",
              "\n",
              "    .colab-df-convert:hover {\n",
              "      background-color: #E2EBFA;\n",
              "      box-shadow: 0px 1px 2px rgba(60, 64, 67, 0.3), 0px 1px 3px 1px rgba(60, 64, 67, 0.15);\n",
              "      fill: #174EA6;\n",
              "    }\n",
              "\n",
              "    .colab-df-buttons div {\n",
              "      margin-bottom: 4px;\n",
              "    }\n",
              "\n",
              "    [theme=dark] .colab-df-convert {\n",
              "      background-color: #3B4455;\n",
              "      fill: #D2E3FC;\n",
              "    }\n",
              "\n",
              "    [theme=dark] .colab-df-convert:hover {\n",
              "      background-color: #434B5C;\n",
              "      box-shadow: 0px 1px 3px 1px rgba(0, 0, 0, 0.15);\n",
              "      filter: drop-shadow(0px 1px 2px rgba(0, 0, 0, 0.3));\n",
              "      fill: #FFFFFF;\n",
              "    }\n",
              "  </style>\n",
              "\n",
              "    <script>\n",
              "      const buttonEl =\n",
              "        document.querySelector('#df-bb7567b2-03a8-4362-a478-cb22d3703103 button.colab-df-convert');\n",
              "      buttonEl.style.display =\n",
              "        google.colab.kernel.accessAllowed ? 'block' : 'none';\n",
              "\n",
              "      async function convertToInteractive(key) {\n",
              "        const element = document.querySelector('#df-bb7567b2-03a8-4362-a478-cb22d3703103');\n",
              "        const dataTable =\n",
              "          await google.colab.kernel.invokeFunction('convertToInteractive',\n",
              "                                                    [key], {});\n",
              "        if (!dataTable) return;\n",
              "\n",
              "        const docLinkHtml = 'Like what you see? Visit the ' +\n",
              "          '<a target=\"_blank\" href=https://colab.research.google.com/notebooks/data_table.ipynb>data table notebook</a>'\n",
              "          + ' to learn more about interactive tables.';\n",
              "        element.innerHTML = '';\n",
              "        dataTable['output_type'] = 'display_data';\n",
              "        await google.colab.output.renderOutput(dataTable, element);\n",
              "        const docLink = document.createElement('div');\n",
              "        docLink.innerHTML = docLinkHtml;\n",
              "        element.appendChild(docLink);\n",
              "      }\n",
              "    </script>\n",
              "  </div>\n",
              "\n",
              "\n",
              "<div id=\"df-2895014f-f514-4228-8cf8-57a2bba1229d\">\n",
              "  <button class=\"colab-df-quickchart\" onclick=\"quickchart('df-2895014f-f514-4228-8cf8-57a2bba1229d')\"\n",
              "            title=\"Suggest charts.\"\n",
              "            style=\"display:none;\">\n",
              "\n",
              "<svg xmlns=\"http://www.w3.org/2000/svg\" height=\"24px\"viewBox=\"0 0 24 24\"\n",
              "     width=\"24px\">\n",
              "    <g>\n",
              "        <path d=\"M19 3H5c-1.1 0-2 .9-2 2v14c0 1.1.9 2 2 2h14c1.1 0 2-.9 2-2V5c0-1.1-.9-2-2-2zM9 17H7v-7h2v7zm4 0h-2V7h2v10zm4 0h-2v-4h2v4z\"/>\n",
              "    </g>\n",
              "</svg>\n",
              "  </button>\n",
              "\n",
              "<style>\n",
              "  .colab-df-quickchart {\n",
              "      --bg-color: #E8F0FE;\n",
              "      --fill-color: #1967D2;\n",
              "      --hover-bg-color: #E2EBFA;\n",
              "      --hover-fill-color: #174EA6;\n",
              "      --disabled-fill-color: #AAA;\n",
              "      --disabled-bg-color: #DDD;\n",
              "  }\n",
              "\n",
              "  [theme=dark] .colab-df-quickchart {\n",
              "      --bg-color: #3B4455;\n",
              "      --fill-color: #D2E3FC;\n",
              "      --hover-bg-color: #434B5C;\n",
              "      --hover-fill-color: #FFFFFF;\n",
              "      --disabled-bg-color: #3B4455;\n",
              "      --disabled-fill-color: #666;\n",
              "  }\n",
              "\n",
              "  .colab-df-quickchart {\n",
              "    background-color: var(--bg-color);\n",
              "    border: none;\n",
              "    border-radius: 50%;\n",
              "    cursor: pointer;\n",
              "    display: none;\n",
              "    fill: var(--fill-color);\n",
              "    height: 32px;\n",
              "    padding: 0;\n",
              "    width: 32px;\n",
              "  }\n",
              "\n",
              "  .colab-df-quickchart:hover {\n",
              "    background-color: var(--hover-bg-color);\n",
              "    box-shadow: 0 1px 2px rgba(60, 64, 67, 0.3), 0 1px 3px 1px rgba(60, 64, 67, 0.15);\n",
              "    fill: var(--button-hover-fill-color);\n",
              "  }\n",
              "\n",
              "  .colab-df-quickchart-complete:disabled,\n",
              "  .colab-df-quickchart-complete:disabled:hover {\n",
              "    background-color: var(--disabled-bg-color);\n",
              "    fill: var(--disabled-fill-color);\n",
              "    box-shadow: none;\n",
              "  }\n",
              "\n",
              "  .colab-df-spinner {\n",
              "    border: 2px solid var(--fill-color);\n",
              "    border-color: transparent;\n",
              "    border-bottom-color: var(--fill-color);\n",
              "    animation:\n",
              "      spin 1s steps(1) infinite;\n",
              "  }\n",
              "\n",
              "  @keyframes spin {\n",
              "    0% {\n",
              "      border-color: transparent;\n",
              "      border-bottom-color: var(--fill-color);\n",
              "      border-left-color: var(--fill-color);\n",
              "    }\n",
              "    20% {\n",
              "      border-color: transparent;\n",
              "      border-left-color: var(--fill-color);\n",
              "      border-top-color: var(--fill-color);\n",
              "    }\n",
              "    30% {\n",
              "      border-color: transparent;\n",
              "      border-left-color: var(--fill-color);\n",
              "      border-top-color: var(--fill-color);\n",
              "      border-right-color: var(--fill-color);\n",
              "    }\n",
              "    40% {\n",
              "      border-color: transparent;\n",
              "      border-right-color: var(--fill-color);\n",
              "      border-top-color: var(--fill-color);\n",
              "    }\n",
              "    60% {\n",
              "      border-color: transparent;\n",
              "      border-right-color: var(--fill-color);\n",
              "    }\n",
              "    80% {\n",
              "      border-color: transparent;\n",
              "      border-right-color: var(--fill-color);\n",
              "      border-bottom-color: var(--fill-color);\n",
              "    }\n",
              "    90% {\n",
              "      border-color: transparent;\n",
              "      border-bottom-color: var(--fill-color);\n",
              "    }\n",
              "  }\n",
              "</style>\n",
              "\n",
              "  <script>\n",
              "    async function quickchart(key) {\n",
              "      const quickchartButtonEl =\n",
              "        document.querySelector('#' + key + ' button');\n",
              "      quickchartButtonEl.disabled = true;  // To prevent multiple clicks.\n",
              "      quickchartButtonEl.classList.add('colab-df-spinner');\n",
              "      try {\n",
              "        const charts = await google.colab.kernel.invokeFunction(\n",
              "            'suggestCharts', [key], {});\n",
              "      } catch (error) {\n",
              "        console.error('Error during call to suggestCharts:', error);\n",
              "      }\n",
              "      quickchartButtonEl.classList.remove('colab-df-spinner');\n",
              "      quickchartButtonEl.classList.add('colab-df-quickchart-complete');\n",
              "    }\n",
              "    (() => {\n",
              "      let quickchartButtonEl =\n",
              "        document.querySelector('#df-2895014f-f514-4228-8cf8-57a2bba1229d button');\n",
              "      quickchartButtonEl.style.display =\n",
              "        google.colab.kernel.accessAllowed ? 'block' : 'none';\n",
              "    })();\n",
              "  </script>\n",
              "</div>\n",
              "    </div>\n",
              "  </div>\n"
            ]
          },
          "metadata": {},
          "execution_count": 11
        }
      ]
    },
    {
      "cell_type": "markdown",
      "source": [
        "Con una **`descripción estadística básica`** muy general sobre las columnas de la tabla se identifica que los atributos a tener en cuenta muestran valores entre $0$ y $255$, es decir, corresponden a los pixeles de **`imágenes monocromáticas`**.\n",
        "\n",
        "También es posible distinguir que la variable objetivo comprende valores de un solo dígito."
      ],
      "metadata": {
        "id": "Iyd82xuJPzvs"
      }
    },
    {
      "cell_type": "code",
      "source": [
        "trainset.describe()"
      ],
      "metadata": {
        "colab": {
          "base_uri": "https://localhost:8080/",
          "height": 350
        },
        "id": "3Cr2e8icD6kL",
        "outputId": "b9859bf1-af49-4840-9599-49cb1973de92"
      },
      "execution_count": null,
      "outputs": [
        {
          "output_type": "execute_result",
          "data": {
            "text/plain": [
              "              label             0             1             2             3  \\\n",
              "count  60000.000000  60000.000000  60000.000000  60000.000000  60000.000000   \n",
              "mean       4.500000      0.315700      0.754383      1.236933      2.163267   \n",
              "std        2.872305      6.356808     10.545225     13.658704     18.474369   \n",
              "min        0.000000      0.000000      0.000000      0.000000      0.000000   \n",
              "25%        2.000000      0.000000      0.000000      0.000000      0.000000   \n",
              "50%        4.500000      0.000000      0.000000      0.000000      0.000000   \n",
              "75%        7.000000      0.000000      0.000000      0.000000      0.000000   \n",
              "max        9.000000    255.000000    255.000000    255.000000    255.000000   \n",
              "\n",
              "                  4             5             6             7            8  \\\n",
              "count  60000.000000  60000.000000  60000.000000  60000.000000  60000.00000   \n",
              "mean       3.640333      5.816667      8.689600     12.477250     16.83380   \n",
              "std       24.101083     30.263832     36.837178     44.035469     50.87871   \n",
              "min        0.000000      0.000000      0.000000      0.000000      0.00000   \n",
              "25%        0.000000      0.000000      0.000000      0.000000      0.00000   \n",
              "50%        0.000000      0.000000      0.000000      0.000000      0.00000   \n",
              "75%        0.000000      0.000000      0.000000      0.000000      0.00000   \n",
              "max      255.000000    255.000000    255.000000    255.000000    255.00000   \n",
              "\n",
              "       ...           774           775           776           777  \\\n",
              "count  ...  60000.000000  60000.000000  60000.000000  60000.000000   \n",
              "mean   ...     34.513467     25.495917     17.772467     12.065067   \n",
              "std    ...     74.740559     65.277428     55.017623     45.355241   \n",
              "min    ...      0.000000      0.000000      0.000000      0.000000   \n",
              "25%    ...      0.000000      0.000000      0.000000      0.000000   \n",
              "50%    ...      0.000000      0.000000      0.000000      0.000000   \n",
              "75%    ...      2.000000      0.000000      0.000000      0.000000   \n",
              "max    ...    255.000000    255.000000    255.000000    255.000000   \n",
              "\n",
              "              778           779           780           781           782  \\\n",
              "count  60000.0000  60000.000000  60000.000000  60000.000000  60000.000000   \n",
              "mean       8.4089      6.019767      4.379817      2.973267      1.619700   \n",
              "std       37.9353     31.982104     27.193214     22.296007     15.947465   \n",
              "min        0.0000      0.000000      0.000000      0.000000      0.000000   \n",
              "25%        0.0000      0.000000      0.000000      0.000000      0.000000   \n",
              "50%        0.0000      0.000000      0.000000      0.000000      0.000000   \n",
              "75%        0.0000      0.000000      0.000000      0.000000      0.000000   \n",
              "max      255.0000    255.000000    255.000000    255.000000    255.000000   \n",
              "\n",
              "                783  \n",
              "count  60000.000000  \n",
              "mean       0.505217  \n",
              "std        7.678269  \n",
              "min        0.000000  \n",
              "25%        0.000000  \n",
              "50%        0.000000  \n",
              "75%        0.000000  \n",
              "max      255.000000  \n",
              "\n",
              "[8 rows x 785 columns]"
            ],
            "text/html": [
              "\n",
              "  <div id=\"df-4d6ab5b8-bb4e-432b-b045-07bb72b805d7\" class=\"colab-df-container\">\n",
              "    <div>\n",
              "<style scoped>\n",
              "    .dataframe tbody tr th:only-of-type {\n",
              "        vertical-align: middle;\n",
              "    }\n",
              "\n",
              "    .dataframe tbody tr th {\n",
              "        vertical-align: top;\n",
              "    }\n",
              "\n",
              "    .dataframe thead th {\n",
              "        text-align: right;\n",
              "    }\n",
              "</style>\n",
              "<table border=\"1\" class=\"dataframe\">\n",
              "  <thead>\n",
              "    <tr style=\"text-align: right;\">\n",
              "      <th></th>\n",
              "      <th>label</th>\n",
              "      <th>0</th>\n",
              "      <th>1</th>\n",
              "      <th>2</th>\n",
              "      <th>3</th>\n",
              "      <th>4</th>\n",
              "      <th>5</th>\n",
              "      <th>6</th>\n",
              "      <th>7</th>\n",
              "      <th>8</th>\n",
              "      <th>...</th>\n",
              "      <th>774</th>\n",
              "      <th>775</th>\n",
              "      <th>776</th>\n",
              "      <th>777</th>\n",
              "      <th>778</th>\n",
              "      <th>779</th>\n",
              "      <th>780</th>\n",
              "      <th>781</th>\n",
              "      <th>782</th>\n",
              "      <th>783</th>\n",
              "    </tr>\n",
              "  </thead>\n",
              "  <tbody>\n",
              "    <tr>\n",
              "      <th>count</th>\n",
              "      <td>60000.000000</td>\n",
              "      <td>60000.000000</td>\n",
              "      <td>60000.000000</td>\n",
              "      <td>60000.000000</td>\n",
              "      <td>60000.000000</td>\n",
              "      <td>60000.000000</td>\n",
              "      <td>60000.000000</td>\n",
              "      <td>60000.000000</td>\n",
              "      <td>60000.000000</td>\n",
              "      <td>60000.00000</td>\n",
              "      <td>...</td>\n",
              "      <td>60000.000000</td>\n",
              "      <td>60000.000000</td>\n",
              "      <td>60000.000000</td>\n",
              "      <td>60000.000000</td>\n",
              "      <td>60000.0000</td>\n",
              "      <td>60000.000000</td>\n",
              "      <td>60000.000000</td>\n",
              "      <td>60000.000000</td>\n",
              "      <td>60000.000000</td>\n",
              "      <td>60000.000000</td>\n",
              "    </tr>\n",
              "    <tr>\n",
              "      <th>mean</th>\n",
              "      <td>4.500000</td>\n",
              "      <td>0.315700</td>\n",
              "      <td>0.754383</td>\n",
              "      <td>1.236933</td>\n",
              "      <td>2.163267</td>\n",
              "      <td>3.640333</td>\n",
              "      <td>5.816667</td>\n",
              "      <td>8.689600</td>\n",
              "      <td>12.477250</td>\n",
              "      <td>16.83380</td>\n",
              "      <td>...</td>\n",
              "      <td>34.513467</td>\n",
              "      <td>25.495917</td>\n",
              "      <td>17.772467</td>\n",
              "      <td>12.065067</td>\n",
              "      <td>8.4089</td>\n",
              "      <td>6.019767</td>\n",
              "      <td>4.379817</td>\n",
              "      <td>2.973267</td>\n",
              "      <td>1.619700</td>\n",
              "      <td>0.505217</td>\n",
              "    </tr>\n",
              "    <tr>\n",
              "      <th>std</th>\n",
              "      <td>2.872305</td>\n",
              "      <td>6.356808</td>\n",
              "      <td>10.545225</td>\n",
              "      <td>13.658704</td>\n",
              "      <td>18.474369</td>\n",
              "      <td>24.101083</td>\n",
              "      <td>30.263832</td>\n",
              "      <td>36.837178</td>\n",
              "      <td>44.035469</td>\n",
              "      <td>50.87871</td>\n",
              "      <td>...</td>\n",
              "      <td>74.740559</td>\n",
              "      <td>65.277428</td>\n",
              "      <td>55.017623</td>\n",
              "      <td>45.355241</td>\n",
              "      <td>37.9353</td>\n",
              "      <td>31.982104</td>\n",
              "      <td>27.193214</td>\n",
              "      <td>22.296007</td>\n",
              "      <td>15.947465</td>\n",
              "      <td>7.678269</td>\n",
              "    </tr>\n",
              "    <tr>\n",
              "      <th>min</th>\n",
              "      <td>0.000000</td>\n",
              "      <td>0.000000</td>\n",
              "      <td>0.000000</td>\n",
              "      <td>0.000000</td>\n",
              "      <td>0.000000</td>\n",
              "      <td>0.000000</td>\n",
              "      <td>0.000000</td>\n",
              "      <td>0.000000</td>\n",
              "      <td>0.000000</td>\n",
              "      <td>0.00000</td>\n",
              "      <td>...</td>\n",
              "      <td>0.000000</td>\n",
              "      <td>0.000000</td>\n",
              "      <td>0.000000</td>\n",
              "      <td>0.000000</td>\n",
              "      <td>0.0000</td>\n",
              "      <td>0.000000</td>\n",
              "      <td>0.000000</td>\n",
              "      <td>0.000000</td>\n",
              "      <td>0.000000</td>\n",
              "      <td>0.000000</td>\n",
              "    </tr>\n",
              "    <tr>\n",
              "      <th>25%</th>\n",
              "      <td>2.000000</td>\n",
              "      <td>0.000000</td>\n",
              "      <td>0.000000</td>\n",
              "      <td>0.000000</td>\n",
              "      <td>0.000000</td>\n",
              "      <td>0.000000</td>\n",
              "      <td>0.000000</td>\n",
              "      <td>0.000000</td>\n",
              "      <td>0.000000</td>\n",
              "      <td>0.00000</td>\n",
              "      <td>...</td>\n",
              "      <td>0.000000</td>\n",
              "      <td>0.000000</td>\n",
              "      <td>0.000000</td>\n",
              "      <td>0.000000</td>\n",
              "      <td>0.0000</td>\n",
              "      <td>0.000000</td>\n",
              "      <td>0.000000</td>\n",
              "      <td>0.000000</td>\n",
              "      <td>0.000000</td>\n",
              "      <td>0.000000</td>\n",
              "    </tr>\n",
              "    <tr>\n",
              "      <th>50%</th>\n",
              "      <td>4.500000</td>\n",
              "      <td>0.000000</td>\n",
              "      <td>0.000000</td>\n",
              "      <td>0.000000</td>\n",
              "      <td>0.000000</td>\n",
              "      <td>0.000000</td>\n",
              "      <td>0.000000</td>\n",
              "      <td>0.000000</td>\n",
              "      <td>0.000000</td>\n",
              "      <td>0.00000</td>\n",
              "      <td>...</td>\n",
              "      <td>0.000000</td>\n",
              "      <td>0.000000</td>\n",
              "      <td>0.000000</td>\n",
              "      <td>0.000000</td>\n",
              "      <td>0.0000</td>\n",
              "      <td>0.000000</td>\n",
              "      <td>0.000000</td>\n",
              "      <td>0.000000</td>\n",
              "      <td>0.000000</td>\n",
              "      <td>0.000000</td>\n",
              "    </tr>\n",
              "    <tr>\n",
              "      <th>75%</th>\n",
              "      <td>7.000000</td>\n",
              "      <td>0.000000</td>\n",
              "      <td>0.000000</td>\n",
              "      <td>0.000000</td>\n",
              "      <td>0.000000</td>\n",
              "      <td>0.000000</td>\n",
              "      <td>0.000000</td>\n",
              "      <td>0.000000</td>\n",
              "      <td>0.000000</td>\n",
              "      <td>0.00000</td>\n",
              "      <td>...</td>\n",
              "      <td>2.000000</td>\n",
              "      <td>0.000000</td>\n",
              "      <td>0.000000</td>\n",
              "      <td>0.000000</td>\n",
              "      <td>0.0000</td>\n",
              "      <td>0.000000</td>\n",
              "      <td>0.000000</td>\n",
              "      <td>0.000000</td>\n",
              "      <td>0.000000</td>\n",
              "      <td>0.000000</td>\n",
              "    </tr>\n",
              "    <tr>\n",
              "      <th>max</th>\n",
              "      <td>9.000000</td>\n",
              "      <td>255.000000</td>\n",
              "      <td>255.000000</td>\n",
              "      <td>255.000000</td>\n",
              "      <td>255.000000</td>\n",
              "      <td>255.000000</td>\n",
              "      <td>255.000000</td>\n",
              "      <td>255.000000</td>\n",
              "      <td>255.000000</td>\n",
              "      <td>255.00000</td>\n",
              "      <td>...</td>\n",
              "      <td>255.000000</td>\n",
              "      <td>255.000000</td>\n",
              "      <td>255.000000</td>\n",
              "      <td>255.000000</td>\n",
              "      <td>255.0000</td>\n",
              "      <td>255.000000</td>\n",
              "      <td>255.000000</td>\n",
              "      <td>255.000000</td>\n",
              "      <td>255.000000</td>\n",
              "      <td>255.000000</td>\n",
              "    </tr>\n",
              "  </tbody>\n",
              "</table>\n",
              "<p>8 rows × 785 columns</p>\n",
              "</div>\n",
              "    <div class=\"colab-df-buttons\">\n",
              "\n",
              "  <div class=\"colab-df-container\">\n",
              "    <button class=\"colab-df-convert\" onclick=\"convertToInteractive('df-4d6ab5b8-bb4e-432b-b045-07bb72b805d7')\"\n",
              "            title=\"Convert this dataframe to an interactive table.\"\n",
              "            style=\"display:none;\">\n",
              "\n",
              "  <svg xmlns=\"http://www.w3.org/2000/svg\" height=\"24px\" viewBox=\"0 -960 960 960\">\n",
              "    <path d=\"M120-120v-720h720v720H120Zm60-500h600v-160H180v160Zm220 220h160v-160H400v160Zm0 220h160v-160H400v160ZM180-400h160v-160H180v160Zm440 0h160v-160H620v160ZM180-180h160v-160H180v160Zm440 0h160v-160H620v160Z\"/>\n",
              "  </svg>\n",
              "    </button>\n",
              "\n",
              "  <style>\n",
              "    .colab-df-container {\n",
              "      display:flex;\n",
              "      gap: 12px;\n",
              "    }\n",
              "\n",
              "    .colab-df-convert {\n",
              "      background-color: #E8F0FE;\n",
              "      border: none;\n",
              "      border-radius: 50%;\n",
              "      cursor: pointer;\n",
              "      display: none;\n",
              "      fill: #1967D2;\n",
              "      height: 32px;\n",
              "      padding: 0 0 0 0;\n",
              "      width: 32px;\n",
              "    }\n",
              "\n",
              "    .colab-df-convert:hover {\n",
              "      background-color: #E2EBFA;\n",
              "      box-shadow: 0px 1px 2px rgba(60, 64, 67, 0.3), 0px 1px 3px 1px rgba(60, 64, 67, 0.15);\n",
              "      fill: #174EA6;\n",
              "    }\n",
              "\n",
              "    .colab-df-buttons div {\n",
              "      margin-bottom: 4px;\n",
              "    }\n",
              "\n",
              "    [theme=dark] .colab-df-convert {\n",
              "      background-color: #3B4455;\n",
              "      fill: #D2E3FC;\n",
              "    }\n",
              "\n",
              "    [theme=dark] .colab-df-convert:hover {\n",
              "      background-color: #434B5C;\n",
              "      box-shadow: 0px 1px 3px 1px rgba(0, 0, 0, 0.15);\n",
              "      filter: drop-shadow(0px 1px 2px rgba(0, 0, 0, 0.3));\n",
              "      fill: #FFFFFF;\n",
              "    }\n",
              "  </style>\n",
              "\n",
              "    <script>\n",
              "      const buttonEl =\n",
              "        document.querySelector('#df-4d6ab5b8-bb4e-432b-b045-07bb72b805d7 button.colab-df-convert');\n",
              "      buttonEl.style.display =\n",
              "        google.colab.kernel.accessAllowed ? 'block' : 'none';\n",
              "\n",
              "      async function convertToInteractive(key) {\n",
              "        const element = document.querySelector('#df-4d6ab5b8-bb4e-432b-b045-07bb72b805d7');\n",
              "        const dataTable =\n",
              "          await google.colab.kernel.invokeFunction('convertToInteractive',\n",
              "                                                    [key], {});\n",
              "        if (!dataTable) return;\n",
              "\n",
              "        const docLinkHtml = 'Like what you see? Visit the ' +\n",
              "          '<a target=\"_blank\" href=https://colab.research.google.com/notebooks/data_table.ipynb>data table notebook</a>'\n",
              "          + ' to learn more about interactive tables.';\n",
              "        element.innerHTML = '';\n",
              "        dataTable['output_type'] = 'display_data';\n",
              "        await google.colab.output.renderOutput(dataTable, element);\n",
              "        const docLink = document.createElement('div');\n",
              "        docLink.innerHTML = docLinkHtml;\n",
              "        element.appendChild(docLink);\n",
              "      }\n",
              "    </script>\n",
              "  </div>\n",
              "\n",
              "\n",
              "<div id=\"df-83dd8ff2-6865-40d7-956a-5c8a62dae002\">\n",
              "  <button class=\"colab-df-quickchart\" onclick=\"quickchart('df-83dd8ff2-6865-40d7-956a-5c8a62dae002')\"\n",
              "            title=\"Suggest charts.\"\n",
              "            style=\"display:none;\">\n",
              "\n",
              "<svg xmlns=\"http://www.w3.org/2000/svg\" height=\"24px\"viewBox=\"0 0 24 24\"\n",
              "     width=\"24px\">\n",
              "    <g>\n",
              "        <path d=\"M19 3H5c-1.1 0-2 .9-2 2v14c0 1.1.9 2 2 2h14c1.1 0 2-.9 2-2V5c0-1.1-.9-2-2-2zM9 17H7v-7h2v7zm4 0h-2V7h2v10zm4 0h-2v-4h2v4z\"/>\n",
              "    </g>\n",
              "</svg>\n",
              "  </button>\n",
              "\n",
              "<style>\n",
              "  .colab-df-quickchart {\n",
              "      --bg-color: #E8F0FE;\n",
              "      --fill-color: #1967D2;\n",
              "      --hover-bg-color: #E2EBFA;\n",
              "      --hover-fill-color: #174EA6;\n",
              "      --disabled-fill-color: #AAA;\n",
              "      --disabled-bg-color: #DDD;\n",
              "  }\n",
              "\n",
              "  [theme=dark] .colab-df-quickchart {\n",
              "      --bg-color: #3B4455;\n",
              "      --fill-color: #D2E3FC;\n",
              "      --hover-bg-color: #434B5C;\n",
              "      --hover-fill-color: #FFFFFF;\n",
              "      --disabled-bg-color: #3B4455;\n",
              "      --disabled-fill-color: #666;\n",
              "  }\n",
              "\n",
              "  .colab-df-quickchart {\n",
              "    background-color: var(--bg-color);\n",
              "    border: none;\n",
              "    border-radius: 50%;\n",
              "    cursor: pointer;\n",
              "    display: none;\n",
              "    fill: var(--fill-color);\n",
              "    height: 32px;\n",
              "    padding: 0;\n",
              "    width: 32px;\n",
              "  }\n",
              "\n",
              "  .colab-df-quickchart:hover {\n",
              "    background-color: var(--hover-bg-color);\n",
              "    box-shadow: 0 1px 2px rgba(60, 64, 67, 0.3), 0 1px 3px 1px rgba(60, 64, 67, 0.15);\n",
              "    fill: var(--button-hover-fill-color);\n",
              "  }\n",
              "\n",
              "  .colab-df-quickchart-complete:disabled,\n",
              "  .colab-df-quickchart-complete:disabled:hover {\n",
              "    background-color: var(--disabled-bg-color);\n",
              "    fill: var(--disabled-fill-color);\n",
              "    box-shadow: none;\n",
              "  }\n",
              "\n",
              "  .colab-df-spinner {\n",
              "    border: 2px solid var(--fill-color);\n",
              "    border-color: transparent;\n",
              "    border-bottom-color: var(--fill-color);\n",
              "    animation:\n",
              "      spin 1s steps(1) infinite;\n",
              "  }\n",
              "\n",
              "  @keyframes spin {\n",
              "    0% {\n",
              "      border-color: transparent;\n",
              "      border-bottom-color: var(--fill-color);\n",
              "      border-left-color: var(--fill-color);\n",
              "    }\n",
              "    20% {\n",
              "      border-color: transparent;\n",
              "      border-left-color: var(--fill-color);\n",
              "      border-top-color: var(--fill-color);\n",
              "    }\n",
              "    30% {\n",
              "      border-color: transparent;\n",
              "      border-left-color: var(--fill-color);\n",
              "      border-top-color: var(--fill-color);\n",
              "      border-right-color: var(--fill-color);\n",
              "    }\n",
              "    40% {\n",
              "      border-color: transparent;\n",
              "      border-right-color: var(--fill-color);\n",
              "      border-top-color: var(--fill-color);\n",
              "    }\n",
              "    60% {\n",
              "      border-color: transparent;\n",
              "      border-right-color: var(--fill-color);\n",
              "    }\n",
              "    80% {\n",
              "      border-color: transparent;\n",
              "      border-right-color: var(--fill-color);\n",
              "      border-bottom-color: var(--fill-color);\n",
              "    }\n",
              "    90% {\n",
              "      border-color: transparent;\n",
              "      border-bottom-color: var(--fill-color);\n",
              "    }\n",
              "  }\n",
              "</style>\n",
              "\n",
              "  <script>\n",
              "    async function quickchart(key) {\n",
              "      const quickchartButtonEl =\n",
              "        document.querySelector('#' + key + ' button');\n",
              "      quickchartButtonEl.disabled = true;  // To prevent multiple clicks.\n",
              "      quickchartButtonEl.classList.add('colab-df-spinner');\n",
              "      try {\n",
              "        const charts = await google.colab.kernel.invokeFunction(\n",
              "            'suggestCharts', [key], {});\n",
              "      } catch (error) {\n",
              "        console.error('Error during call to suggestCharts:', error);\n",
              "      }\n",
              "      quickchartButtonEl.classList.remove('colab-df-spinner');\n",
              "      quickchartButtonEl.classList.add('colab-df-quickchart-complete');\n",
              "    }\n",
              "    (() => {\n",
              "      let quickchartButtonEl =\n",
              "        document.querySelector('#df-83dd8ff2-6865-40d7-956a-5c8a62dae002 button');\n",
              "      quickchartButtonEl.style.display =\n",
              "        google.colab.kernel.accessAllowed ? 'block' : 'none';\n",
              "    })();\n",
              "  </script>\n",
              "</div>\n",
              "    </div>\n",
              "  </div>\n"
            ]
          },
          "metadata": {},
          "execution_count": 12
        }
      ]
    },
    {
      "cell_type": "markdown",
      "source": [
        "Al utilizar el método **`value_counts`** sobre la columna **`label`**, se puede concluir que el conjunto de datos de entrenamiento está totalmente balanceado (según la cantidad de registros de cada clase), pues todas poseen $6000$ observaciones."
      ],
      "metadata": {
        "id": "GzyADLKYtVt-"
      }
    },
    {
      "cell_type": "code",
      "source": [
        "trainset[\"label\"].value_counts().sort_index()"
      ],
      "metadata": {
        "colab": {
          "base_uri": "https://localhost:8080/"
        },
        "id": "1NJqSLY3tN-f",
        "outputId": "96c2877e-4891-4463-fc87-a98c3fa38200"
      },
      "execution_count": null,
      "outputs": [
        {
          "output_type": "execute_result",
          "data": {
            "text/plain": [
              "0    6000\n",
              "1    6000\n",
              "2    6000\n",
              "3    6000\n",
              "4    6000\n",
              "5    6000\n",
              "6    6000\n",
              "7    6000\n",
              "8    6000\n",
              "9    6000\n",
              "Name: label, dtype: int64"
            ]
          },
          "metadata": {},
          "execution_count": 13
        }
      ]
    },
    {
      "cell_type": "markdown",
      "source": [
        "## **3. Transformación de datos**\n",
        "---"
      ],
      "metadata": {
        "id": "a566VwivjQcB"
      }
    },
    {
      "cell_type": "markdown",
      "source": [
        "### **3.1. Partición de registros**\n",
        "---"
      ],
      "metadata": {
        "id": "r6x96s7wvS2A"
      }
    },
    {
      "cell_type": "markdown",
      "source": [
        "Se separan los datos de **`entrenamiento`** de los ejemplos con los que, posteriormente, se estimará el desempeño del modelo. Para esto se usará el **25%** de los registros en la **`validación`**."
      ],
      "metadata": {
        "id": "cRHaGVqgbVK0"
      }
    },
    {
      "cell_type": "code",
      "source": [
        "valset = trainset[:15000]"
      ],
      "metadata": {
        "id": "eaoxy_b694Qu"
      },
      "execution_count": null,
      "outputs": []
    },
    {
      "cell_type": "markdown",
      "source": [
        "### **3.2. Conversión a tensores**\n",
        "---"
      ],
      "metadata": {
        "id": "K6MA3llnvZgp"
      }
    },
    {
      "cell_type": "markdown",
      "source": [
        "Se crea una clase para convertir los datos actuales a parejas de **`tensores`** y poderlos usar en la red neuronal."
      ],
      "metadata": {
        "id": "A8auYXqptyo3"
      }
    },
    {
      "cell_type": "code",
      "source": [
        "class MyDataset():\n",
        "    def __init__(self, df, target):\n",
        "        X = df.drop(columns=[target]).values\n",
        "        y = df[target].values\n",
        "        self.X = torch.tensor(X, dtype=torch.float32)\n",
        "        self.y = torch.tensor(y, dtype=torch.float32)\n",
        "\n",
        "    def __len__(self):\n",
        "        return len(self.y)\n",
        "\n",
        "    def __getitem__(self, idx):\n",
        "        return self.X[idx], self.y[idx]"
      ],
      "metadata": {
        "id": "Myp3Q8GbsvlB"
      },
      "execution_count": null,
      "outputs": []
    },
    {
      "cell_type": "markdown",
      "source": [
        "Con esto, se genera la **`división`** entre las matrices de ejemplos y los vectores de etiquetas objetivo (en forma de tensores)."
      ],
      "metadata": {
        "id": "TQpIKeevuiuv"
      }
    },
    {
      "cell_type": "code",
      "source": [
        "train_sec = MyDataset(trainset, \"label\")\n",
        "test_sec = MyDataset(testset, \"label\")\n",
        "val_sec = MyDataset(valset, \"label\")"
      ],
      "metadata": {
        "id": "RG5lMzQ0uYyQ"
      },
      "execution_count": null,
      "outputs": []
    },
    {
      "cell_type": "markdown",
      "source": [
        "Se crean los **`dataloaders`** para iterar por lotes sobre los conjuntos de datos."
      ],
      "metadata": {
        "id": "QUxQ9VVPzX5j"
      }
    },
    {
      "cell_type": "code",
      "source": [
        "train_data = DataLoader(train_sec, batch_size=20)\n",
        "test_data = DataLoader(test_sec, batch_size=20)\n",
        "val_data = DataLoader(val_sec, batch_size=20)"
      ],
      "metadata": {
        "id": "EHpsdRUpx-t8"
      },
      "execution_count": null,
      "outputs": []
    },
    {
      "cell_type": "markdown",
      "source": [
        "Ahora los datos se encuentran agregados en **`grupos de 20`** muestras. Se siguen teniendo $784$ \"columnas\" para explicar la variable **`label`**."
      ],
      "metadata": {
        "id": "foWA3aQB0lxC"
      }
    },
    {
      "cell_type": "code",
      "source": [
        "for i, (data, labels) in enumerate(test_data):\n",
        "    print(data.shape, labels.shape)\n",
        "    break"
      ],
      "metadata": {
        "colab": {
          "base_uri": "https://localhost:8080/"
        },
        "id": "9p2GuUU90QJm",
        "outputId": "6c41c566-3f35-4fa4-ad92-b1d61f92bdf2"
      },
      "execution_count": null,
      "outputs": [
        {
          "output_type": "stream",
          "name": "stdout",
          "text": [
            "torch.Size([20, 784]) torch.Size([20])\n"
          ]
        }
      ]
    },
    {
      "cell_type": "markdown",
      "source": [
        "# **Modelamiento**\n",
        "---"
      ],
      "metadata": {
        "id": "3m_4GXIujKpE"
      }
    },
    {
      "cell_type": "markdown",
      "source": [
        "## **1. Red neuronal**\n",
        "---"
      ],
      "metadata": {
        "id": "8QKp2Wj2E8tR"
      }
    },
    {
      "cell_type": "markdown",
      "source": [
        "### **1.1. Estructura de la red**\n",
        "---"
      ],
      "metadata": {
        "id": "Zffkt840v7ZU"
      }
    },
    {
      "cell_type": "markdown",
      "source": [
        "Se define la arquitectura de la primera red neuronal. Esta contiene **`una capa oculta`** con $100$ nodos y se utiliza **`ReLU`** como función de activación."
      ],
      "metadata": {
        "id": "j6CApVTK2uoQ"
      }
    },
    {
      "cell_type": "code",
      "source": [
        "class Net(nn.Module):\n",
        "    def __init__(self, num_inputs):\n",
        "        super(Net, self).__init__()\n",
        "        self.fc1 = nn.Linear(num_inputs, 100)\n",
        "        self.fc2 = nn.Linear(100, 10)\n",
        "\n",
        "    def forward(self, x):\n",
        "        x = F.relu(self.fc1(x))\n",
        "        x = self.fc2(x)\n",
        "        return x"
      ],
      "metadata": {
        "id": "n62EhMoLz_0u"
      },
      "execution_count": null,
      "outputs": []
    },
    {
      "cell_type": "markdown",
      "source": [
        "### **1.2. Entrenamiento**\n",
        "---"
      ],
      "metadata": {
        "id": "0nJZnRdSWVmN"
      }
    },
    {
      "cell_type": "markdown",
      "source": [
        "Primero se revisa el entorno de ejecución para definir el dispositivo a utilizar."
      ],
      "metadata": {
        "id": "bzVA0wPd32X7"
      }
    },
    {
      "cell_type": "code",
      "source": [
        "device = torch.device(\"cuda\") if torch.cuda.is_available() else torch.device(\"cpu\")\n",
        "print(\"Device\", device)"
      ],
      "metadata": {
        "colab": {
          "base_uri": "https://localhost:8080/"
        },
        "id": "BZingrf63ibD",
        "outputId": "e42c9a24-644f-4817-9984-41f10052a0c0"
      },
      "execution_count": null,
      "outputs": [
        {
          "output_type": "stream",
          "name": "stdout",
          "text": [
            "Device cpu\n"
          ]
        }
      ]
    },
    {
      "cell_type": "markdown",
      "source": [
        "Se define una instancia del modelo para recibir una entrada con $784$ valores numéricos, los cuales corresponden a los $28 \\times 28$ pixeles de las imágenes."
      ],
      "metadata": {
        "id": "fhU0fRCq4O4V"
      }
    },
    {
      "cell_type": "code",
      "source": [
        "model1 = Net(784)"
      ],
      "metadata": {
        "id": "Bhm-qCwn4rys"
      },
      "execution_count": null,
      "outputs": []
    },
    {
      "cell_type": "markdown",
      "source": [
        "Se mueve el modelo actual hacia el dispositivo GPU. Esta acción se repetirá para cada modelo."
      ],
      "metadata": {
        "id": "t56MJrwP4wQA"
      }
    },
    {
      "cell_type": "code",
      "source": [
        "model1.to(device)"
      ],
      "metadata": {
        "colab": {
          "base_uri": "https://localhost:8080/"
        },
        "id": "RULuBoW24xw3",
        "outputId": "eef6db95-fe89-4241-9441-d1a9400eed19"
      },
      "execution_count": null,
      "outputs": [
        {
          "output_type": "execute_result",
          "data": {
            "text/plain": [
              "Net(\n",
              "  (fc1): Linear(in_features=784, out_features=100, bias=True)\n",
              "  (fc2): Linear(in_features=100, out_features=10, bias=True)\n",
              ")"
            ]
          },
          "metadata": {},
          "execution_count": 100
        }
      ]
    },
    {
      "cell_type": "markdown",
      "source": [
        "Por último, se escogen el optimizador y la función de costo. Para esto se usarán el descenso de gradiente estocástico **`SGD`** con una tasa de aprendizaje de $0.001$ y la **`entropía cruzada`**, respectivamente."
      ],
      "metadata": {
        "id": "9yD4YTA95AOM"
      }
    },
    {
      "cell_type": "code",
      "source": [
        "optimizer = torch.optim.SGD(model1.parameters(), lr=0.001)\n",
        "loss_module = nn.CrossEntropyLoss()"
      ],
      "metadata": {
        "id": "IOE-zyv840CV"
      },
      "execution_count": null,
      "outputs": []
    },
    {
      "cell_type": "markdown",
      "source": [
        "Ahora sí se lleva a cabo el entrenamiento con $10$ epochs y se guarda el modelo que muestre los mejores resultados de validación según la función de costo definida anteriormente.\n",
        "\n"
      ],
      "metadata": {
        "id": "ShAOU1Ij52Lo"
      }
    },
    {
      "cell_type": "code",
      "source": [
        "train_model(model1, optimizer, loss_module, train_data, val_data, 10, \"model1.pt\")"
      ],
      "metadata": {
        "colab": {
          "base_uri": "https://localhost:8080/",
          "height": 570,
          "referenced_widgets": [
            "daf55b9060a34b3abe8b18b51789ed3e",
            "71492ad5c2ea42b1b10d15a6f7b5ddf5",
            "ddbc8b1cd03e43adb04a5bc350f91333",
            "9ecaac01beec4b40ba1b9a61d4fb34e8",
            "73d419f3affc477e8a8dfb4989d3eb59",
            "e790f01b9bfd4e88998b754c91ed3d5e",
            "c96181f516ae4233abf398af57b83046",
            "3eb152b9e07c4f8bacc91d882eae708e",
            "2dd06f69d5a94e96827d3c2e2c5ddba9",
            "a0e6f415bae54d12948e1d370efd3c56",
            "044f6d71b09449948cc272d07587708f"
          ]
        },
        "id": "P0tTeEwRBZEx",
        "outputId": "2ea0c584-bcf9-446d-e65c-ddad916aa099"
      },
      "execution_count": null,
      "outputs": [
        {
          "output_type": "display_data",
          "data": {
            "text/plain": [
              "  0%|          | 0/10 [00:00<?, ?it/s]"
            ],
            "application/vnd.jupyter.widget-view+json": {
              "version_major": 2,
              "version_minor": 0,
              "model_id": "daf55b9060a34b3abe8b18b51789ed3e"
            }
          },
          "metadata": {}
        },
        {
          "output_type": "stream",
          "name": "stdout",
          "text": [
            "Epoch: 0\tTraining Loss: 0.71111\tValidation Loss: 0.41046\n",
            "Validation loss decreased (inf --> 0.41046). Saving model...\n",
            "\n",
            "Epoch: 1\tTraining Loss: 0.35572\tValidation Loss: 0.31261\n",
            "Validation loss decreased (0.41046 --> 0.31261). Saving model...\n",
            "\n",
            "Epoch: 2\tTraining Loss: 0.28436\tValidation Loss: 0.27714\n",
            "Validation loss decreased (0.31261 --> 0.27714). Saving model...\n",
            "\n",
            "Epoch: 3\tTraining Loss: 0.24702\tValidation Loss: 0.26277\n",
            "Validation loss decreased (0.27714 --> 0.26277). Saving model...\n",
            "\n",
            "Epoch: 4\tTraining Loss: 0.2187\tValidation Loss: 0.23667\n",
            "Validation loss decreased (0.26277 --> 0.23667). Saving model...\n",
            "\n",
            "Epoch: 5\tTraining Loss: 0.19532\tValidation Loss: 0.22336\n",
            "Validation loss decreased (0.23667 --> 0.22336). Saving model...\n",
            "\n",
            "Epoch: 6\tTraining Loss: 0.17788\tValidation Loss: 0.20187\n",
            "Validation loss decreased (0.22336 --> 0.20187). Saving model...\n",
            "\n",
            "Epoch: 7\tTraining Loss: 0.16177\tValidation Loss: 0.19071\n",
            "Validation loss decreased (0.20187 --> 0.19071). Saving model...\n",
            "\n",
            "Epoch: 8\tTraining Loss: 0.14984\tValidation Loss: 0.18753\n",
            "Validation loss decreased (0.19071 --> 0.18753). Saving model...\n",
            "\n",
            "Epoch: 9\tTraining Loss: 0.13806\tValidation Loss: 0.18007\n",
            "Validation loss decreased (0.18753 --> 0.18007). Saving model...\n",
            "\n"
          ]
        }
      ]
    },
    {
      "cell_type": "markdown",
      "source": [
        "### **1.3. Evaluación de desempeño**\n",
        "---"
      ],
      "metadata": {
        "id": "hrg0RpjFEY-E"
      }
    },
    {
      "cell_type": "markdown",
      "source": [
        "Luego se mide la exactitud con los datos de **`prueba`**. En términos generales, se tiene un desempeño bastante alto cercano al $80\\%$."
      ],
      "metadata": {
        "id": "7eQCizSR6dWi"
      }
    },
    {
      "cell_type": "code",
      "source": [
        "accuracy_test(model1, test_data)"
      ],
      "metadata": {
        "colab": {
          "base_uri": "https://localhost:8080/"
        },
        "id": "aYqJGsNOOMPe",
        "outputId": "1cd92cf1-5526-49b7-80a9-6b8b6b4cb33a"
      },
      "execution_count": null,
      "outputs": [
        {
          "output_type": "stream",
          "name": "stdout",
          "text": [
            "The testing set accuracy of the network is: 79.88 %\n"
          ]
        }
      ]
    },
    {
      "cell_type": "markdown",
      "source": [
        "## **2. Ajustes adicionales**\n",
        "---"
      ],
      "metadata": {
        "id": "OpT2HA4mEFHh"
      }
    },
    {
      "cell_type": "markdown",
      "source": [
        "A continuación, se buscará **`incrementar la métrica`** obtenida con el modelo original. Para ello, se desarrollan y discuten cuatro aproximaciones diferentes."
      ],
      "metadata": {
        "id": "bFRr2FHr8wKR"
      }
    },
    {
      "cell_type": "markdown",
      "source": [
        "### **2.1. Selección de atributos**\n",
        "---"
      ],
      "metadata": {
        "id": "Wgvbvzh8WcPT"
      }
    },
    {
      "cell_type": "markdown",
      "source": [
        "Se realiza un análisis de **`componentes principales`** para determinar si es posible explicar la mayoría de la varianza original con una **`entrada reducida`**. En este proyecto, sería un proceso similar al realizado en la compresión de imágenes."
      ],
      "metadata": {
        "id": "rDyYC-3h739e"
      }
    },
    {
      "cell_type": "code",
      "source": [
        "pca = PCA(n_components=None)\n",
        "X = trainset.drop(columns=[\"label\"]).values\n",
        "X_transf = pca.fit_transform(X)\n",
        "\n",
        "varianza_expl = pca.explained_variance_ratio_\n",
        "cum_var_exp = np.cumsum(varianza_expl)"
      ],
      "metadata": {
        "id": "xzGMvKWhNupt"
      },
      "execution_count": null,
      "outputs": []
    },
    {
      "cell_type": "markdown",
      "source": [
        "De esta manera se puede observar que las primeras $400$ componentes principales representan el $98.1\\%$ de la varianza de los datos. Originalmente se tenían $784$ variables, entonces es una buena simplificación."
      ],
      "metadata": {
        "id": "VEMC3dur-cXm"
      }
    },
    {
      "cell_type": "code",
      "source": [
        "print(f'Primeras 400 componentes: {cum_var_exp[399]}')"
      ],
      "metadata": {
        "colab": {
          "base_uri": "https://localhost:8080/"
        },
        "id": "C40NB_WXPzSE",
        "outputId": "1e0fc876-cfa8-4181-a3b1-bbb17cc0da00"
      },
      "execution_count": null,
      "outputs": [
        {
          "output_type": "stream",
          "name": "stdout",
          "text": [
            "Primeras 400 componentes: 0.9809025246109155\n"
          ]
        }
      ]
    },
    {
      "cell_type": "markdown",
      "source": [
        "Se crea una función para calcular las primeras **`n`** componentes de los conjuntos de datos almacenados en **`sets`**. Se retornan los datos actualizados."
      ],
      "metadata": {
        "id": "jqiWIjEqCzjZ"
      }
    },
    {
      "cell_type": "code",
      "source": [
        "def principal_components(sets, target, n):\n",
        "    pca = PCA(n_components=n)\n",
        "    whole = pd.concat(sets, ignore_index=True)\n",
        "\n",
        "    X = whole.drop(columns=[target]).values\n",
        "    y = whole[target]\n",
        "    Xp = pd.DataFrame(pca.fit_transform(X))\n",
        "    whole = pd.concat([Xp, y], axis = 1)\n",
        "\n",
        "    new = []\n",
        "    for df in sets:\n",
        "        s = df.shape[0]\n",
        "        dataset = whole[:s]\n",
        "        whole = whole[s:]\n",
        "        new.append(dataset)\n",
        "    return new"
      ],
      "metadata": {
        "id": "sUud64F6QWbQ"
      },
      "execution_count": null,
      "outputs": []
    },
    {
      "cell_type": "markdown",
      "source": [
        "Ahora se crean los conjuntos de datos con las componentes principales."
      ],
      "metadata": {
        "id": "dApdKpU_EP86"
      }
    },
    {
      "cell_type": "code",
      "source": [
        "trainset_PCA, valset_PCA, testset_PCA = principal_components([trainset, valset, testset], \"label\", 400)"
      ],
      "metadata": {
        "id": "g3Mt0mWQRVY-"
      },
      "execution_count": null,
      "outputs": []
    },
    {
      "cell_type": "markdown",
      "source": [
        "También es necesario transformar los nuevos datos para usarlos en la red neuronal."
      ],
      "metadata": {
        "id": "ao-LHD-PEYJk"
      }
    },
    {
      "cell_type": "code",
      "source": [
        "train_sec = MyDataset(trainset_PCA, \"label\")\n",
        "test_sec = MyDataset(testset_PCA, \"label\")\n",
        "val_sec = MyDataset(valset_PCA, \"label\")\n",
        "\n",
        "train_data_PCA = DataLoader(train_sec, batch_size=20)\n",
        "test_data_PCA = DataLoader(test_sec, batch_size=20)\n",
        "val_data_PCA = DataLoader(val_sec, batch_size=20)"
      ],
      "metadata": {
        "id": "SI7grqAZQ5Bv"
      },
      "execution_count": null,
      "outputs": []
    },
    {
      "cell_type": "markdown",
      "source": [
        "Se crea un segundo modelo con la misma estructura, pero ahora sólo recibirá $400$ variables."
      ],
      "metadata": {
        "id": "0HUoFj8KFIP-"
      }
    },
    {
      "cell_type": "code",
      "source": [
        "model1_PCA = Net(400)\n",
        "model1_PCA.to(device)\n",
        "optimizer = torch.optim.SGD(model1_PCA.parameters(), lr=0.001)"
      ],
      "metadata": {
        "id": "lrZxE_ytUkVZ"
      },
      "execution_count": null,
      "outputs": []
    },
    {
      "cell_type": "markdown",
      "source": [
        "De nuevo, se lleva a cabo el entrenamiento con $10$ epochs y se guarda el modelo con los mejores resultados."
      ],
      "metadata": {
        "id": "cYM6lZ8vFhHo"
      }
    },
    {
      "cell_type": "code",
      "source": [
        "train_model(model1_PCA, optimizer, loss_module, train_data_PCA, val_data_PCA, 10, \"model1_PCA.pt\")"
      ],
      "metadata": {
        "colab": {
          "base_uri": "https://localhost:8080/",
          "height": 257,
          "referenced_widgets": [
            "7202d060d1fa41988e579d79e1893815",
            "30498a63a8da4901a1f9161186067bea",
            "a954c0911e234a4788fd55524c3a2028",
            "5323c6da2ad84d47b06fe6fa6fb8bec8",
            "86e1d10dccee4af084433be1b7d30dd7",
            "8820ceea478f48838deb8a0e5aab96fc",
            "cf7326be997844ab8d1b8d945548e8c3",
            "089a3202ec164dd4ad9c0a98c0030009",
            "f73143357922450ba7376fde24adb7e4",
            "df3c33732f994d3b9621cf196b1225f0",
            "2ec1eaeb8ca347dab0e3a215a1f386d2"
          ]
        },
        "id": "8SaK6WzrQ_4e",
        "outputId": "b66c7ef2-35d6-4cc8-a09c-c5f1c2c687a4"
      },
      "execution_count": null,
      "outputs": [
        {
          "output_type": "display_data",
          "data": {
            "text/plain": [
              "  0%|          | 0/10 [00:00<?, ?it/s]"
            ],
            "application/vnd.jupyter.widget-view+json": {
              "version_major": 2,
              "version_minor": 0,
              "model_id": "7202d060d1fa41988e579d79e1893815"
            }
          },
          "metadata": {}
        },
        {
          "output_type": "stream",
          "name": "stdout",
          "text": [
            "Epoch: 0\tTraining Loss: 3.05078\tValidation Loss: 1.5213\n",
            "Validation loss decreased (inf --> 1.5213). Saving model...\n",
            "\n",
            "Epoch: 1\tTraining Loss: 2.01142\tValidation Loss: 1.63096\n",
            "Epoch: 2\tTraining Loss: 2.44242\tValidation Loss: 2.10881\n",
            "Epoch: 3\tTraining Loss: 3.17838\tValidation Loss: 4.57538\n",
            "Epoch: 4\tTraining Loss: 4.47054\tValidation Loss: 4.9306\n",
            "Epoch: 5\tTraining Loss: 6.38781\tValidation Loss: 6.34243\n",
            "Epoch: 6\tTraining Loss: 9.11556\tValidation Loss: 9.83451\n",
            "Epoch: 7\tTraining Loss: 13.25254\tValidation Loss: 13.65239\n",
            "Epoch: 8\tTraining Loss: 19.42991\tValidation Loss: 18.8301\n",
            "Epoch: 9\tTraining Loss: 29.83295\tValidation Loss: 32.97983\n"
          ]
        }
      ]
    },
    {
      "cell_type": "markdown",
      "source": [
        "Finalmente, se obtiene una **`exactitud muy similar`** a la del modelo original. Pero se evidencia una tendencia creciente en la pérdida de validación, por lo que el modelo original podría desempeñarse mejor si se usara una mayor cantidad de epochs."
      ],
      "metadata": {
        "id": "zP01EKRHFxKZ"
      }
    },
    {
      "cell_type": "code",
      "source": [
        "accuracy_test(model1_PCA, test_data_PCA)"
      ],
      "metadata": {
        "colab": {
          "base_uri": "https://localhost:8080/"
        },
        "id": "a-RoSmrcSpVY",
        "outputId": "fe606c24-d1ac-4efe-a6ac-b0a154da1429"
      },
      "execution_count": null,
      "outputs": [
        {
          "output_type": "stream",
          "name": "stdout",
          "text": [
            "The testing set accuracy of the network is: 80.28 %\n"
          ]
        }
      ]
    },
    {
      "cell_type": "markdown",
      "source": [
        "### **2.2. Estandarización de datos**\n",
        "---"
      ],
      "metadata": {
        "id": "lx_4R1mzWsCv"
      }
    },
    {
      "cell_type": "markdown",
      "source": [
        "Para el segundo intento de mejora, se cambia la **`escala de los datos`**. La siguiente función estandariza la distribución de cada conjunto de datos pasado como argumento."
      ],
      "metadata": {
        "id": "1KybNuONIgK2"
      }
    },
    {
      "cell_type": "code",
      "source": [
        "def standardize(sets, target):\n",
        "    new = []\n",
        "    for df in sets:\n",
        "        X = df.drop(columns=[target])\n",
        "        X = (X - X.mean())/X.std()\n",
        "        y = df[target]\n",
        "        dataset = pd.concat([X, y], axis = 1)\n",
        "        new.append(dataset)\n",
        "    return new"
      ],
      "metadata": {
        "id": "gA_dps34h_Kt"
      },
      "execution_count": null,
      "outputs": []
    },
    {
      "cell_type": "markdown",
      "source": [
        "Primero se actualizan los datos para tener todas las variables (distintas de la objetivo) estandarizadas."
      ],
      "metadata": {
        "id": "IaPVcTIiI297"
      }
    },
    {
      "cell_type": "code",
      "source": [
        "trainset_std, valset_std, testset_std = standardize([trainset, valset, testset], \"label\")"
      ],
      "metadata": {
        "id": "OaCk5tHdWFgz"
      },
      "execution_count": null,
      "outputs": []
    },
    {
      "cell_type": "markdown",
      "source": [
        "Igualmente, se debe obtener la representación de **`tensores`** de las matrices de datos."
      ],
      "metadata": {
        "id": "DhskiM2tJKQD"
      }
    },
    {
      "cell_type": "code",
      "source": [
        "train_sec = MyDataset(trainset_std, \"label\")\n",
        "test_sec = MyDataset(testset_std, \"label\")\n",
        "val_sec = MyDataset(valset_std, \"label\")\n",
        "\n",
        "train_data_std = DataLoader(train_sec, batch_size=20)\n",
        "test_data_std = DataLoader(test_sec, batch_size=20)\n",
        "val_data_std = DataLoader(val_sec, batch_size=20)"
      ],
      "metadata": {
        "id": "iYK0fUv6jQf8"
      },
      "execution_count": null,
      "outputs": []
    },
    {
      "cell_type": "markdown",
      "source": [
        "Se define una tercera instancia del mismo y único modelo utilizado hasta ahora."
      ],
      "metadata": {
        "id": "AyIxyI9MJcEa"
      }
    },
    {
      "cell_type": "code",
      "source": [
        "model1_std = Net(784)\n",
        "model1_std.to(device)\n",
        "optimizer = torch.optim.SGD(model1_std.parameters(), lr=0.001)"
      ],
      "metadata": {
        "id": "p-OA2LNk7MEw"
      },
      "execution_count": null,
      "outputs": []
    },
    {
      "cell_type": "markdown",
      "source": [
        "La entrada sigue conteniendo $784$ variables, ya que la diferencia solamente está en la **`distribución`** que siguen las observaciones. Otra vez se guarda el mejor modelo."
      ],
      "metadata": {
        "id": "D91OG4ZoJ8KK"
      }
    },
    {
      "cell_type": "code",
      "source": [
        "train_model(model1_std, optimizer, loss_module, train_data_std, val_data_std, 10, \"model1_std.pt\")"
      ],
      "metadata": {
        "colab": {
          "base_uri": "https://localhost:8080/",
          "height": 570,
          "referenced_widgets": [
            "605c1018a9734122b059ec64a09fdc21",
            "4dc9b3c5501d4db08b88db3e129e7e55",
            "62d8fa00185e451c8167ca3486413152",
            "896003cf6482425bb5a8b02ea1313547",
            "907cc2426cd04e5d9f3670b503e7363d",
            "2f9accceacd7492f873a9b65a9ebb202",
            "05755e6204204fdb9916b1d10e905067",
            "1c9440f80de5438e95ac29a09ed6dd01",
            "70e4b8e1c1bf41c296e5975df32bc617",
            "734ef9c5a2984945b3e087b1468ebc7f",
            "cbc6d01d0133469ab79dec5b7507aa70"
          ]
        },
        "id": "DzdiErnsjcaw",
        "outputId": "daa50569-6ed9-4302-c2f4-c96bd5cb4bfd"
      },
      "execution_count": null,
      "outputs": [
        {
          "output_type": "display_data",
          "data": {
            "text/plain": [
              "  0%|          | 0/10 [00:00<?, ?it/s]"
            ],
            "application/vnd.jupyter.widget-view+json": {
              "version_major": 2,
              "version_minor": 0,
              "model_id": "605c1018a9734122b059ec64a09fdc21"
            }
          },
          "metadata": {}
        },
        {
          "output_type": "stream",
          "name": "stdout",
          "text": [
            "Epoch: 0\tTraining Loss: 1.4243\tValidation Loss: 0.92615\n",
            "Validation loss decreased (inf --> 0.92615). Saving model...\n",
            "\n",
            "Epoch: 1\tTraining Loss: 0.76452\tValidation Loss: 0.65211\n",
            "Validation loss decreased (0.92615 --> 0.65211). Saving model...\n",
            "\n",
            "Epoch: 2\tTraining Loss: 0.59175\tValidation Loss: 0.54568\n",
            "Validation loss decreased (0.65211 --> 0.54568). Saving model...\n",
            "\n",
            "Epoch: 3\tTraining Loss: 0.51114\tValidation Loss: 0.4853\n",
            "Validation loss decreased (0.54568 --> 0.4853). Saving model...\n",
            "\n",
            "Epoch: 4\tTraining Loss: 0.4606\tValidation Loss: 0.44365\n",
            "Validation loss decreased (0.4853 --> 0.44365). Saving model...\n",
            "\n",
            "Epoch: 5\tTraining Loss: 0.42415\tValidation Loss: 0.41214\n",
            "Validation loss decreased (0.44365 --> 0.41214). Saving model...\n",
            "\n",
            "Epoch: 6\tTraining Loss: 0.39595\tValidation Loss: 0.38713\n",
            "Validation loss decreased (0.41214 --> 0.38713). Saving model...\n",
            "\n",
            "Epoch: 7\tTraining Loss: 0.37326\tValidation Loss: 0.36659\n",
            "Validation loss decreased (0.38713 --> 0.36659). Saving model...\n",
            "\n",
            "Epoch: 8\tTraining Loss: 0.35437\tValidation Loss: 0.34924\n",
            "Validation loss decreased (0.36659 --> 0.34924). Saving model...\n",
            "\n",
            "Epoch: 9\tTraining Loss: 0.33825\tValidation Loss: 0.33423\n",
            "Validation loss decreased (0.34924 --> 0.33423). Saving model...\n",
            "\n"
          ]
        }
      ]
    },
    {
      "cell_type": "markdown",
      "source": [
        "La métrica escogida permite concluir que el **`rendimiento es inferior`** al que se tenía con los datos originales."
      ],
      "metadata": {
        "id": "5dzidpzkKca9"
      }
    },
    {
      "cell_type": "code",
      "source": [
        "accuracy_test(model1_std, test_data_std)"
      ],
      "metadata": {
        "id": "xNxmEpr-oKGI",
        "colab": {
          "base_uri": "https://localhost:8080/"
        },
        "outputId": "57218f61-1a52-4612-ddaa-6bf6415817b9"
      },
      "execution_count": null,
      "outputs": [
        {
          "output_type": "stream",
          "name": "stdout",
          "text": [
            "The testing set accuracy of the network is: 78.13 %\n"
          ]
        }
      ]
    },
    {
      "cell_type": "markdown",
      "source": [
        "### **2.3. Cambios en los hiperparámetros**\n",
        "---"
      ],
      "metadata": {
        "id": "XehbmZr3Wtnt"
      }
    },
    {
      "cell_type": "markdown",
      "source": [
        "En el siguiente intento, se realizan dos **`ajustes`** de hiperparámetros para revisar si un **`cambio de valores`** beneficiaría al modelo."
      ],
      "metadata": {
        "id": "huxDAQS_LSJz"
      }
    },
    {
      "cell_type": "markdown",
      "source": [
        "#### **2.3.1. Tasa de aprendizaje**\n",
        "---"
      ],
      "metadata": {
        "id": "NQUyz466YYQT"
      }
    },
    {
      "cell_type": "markdown",
      "source": [
        "Nótese que el cuarto modelo tiene la misma entrada y estructura que el primero."
      ],
      "metadata": {
        "id": "6QCXMlMhMK9u"
      }
    },
    {
      "cell_type": "code",
      "source": [
        "model1_rate = Net(784)\n",
        "model1_rate.to(device)"
      ],
      "metadata": {
        "colab": {
          "base_uri": "https://localhost:8080/"
        },
        "id": "tzYZj-fRSumk",
        "outputId": "0afdf1a2-2c95-4970-dadf-815d6da02450"
      },
      "execution_count": null,
      "outputs": [
        {
          "output_type": "execute_result",
          "data": {
            "text/plain": [
              "Net(\n",
              "  (fc1): Linear(in_features=784, out_features=100, bias=True)\n",
              "  (fc2): Linear(in_features=100, out_features=10, bias=True)\n",
              ")"
            ]
          },
          "metadata": {},
          "execution_count": 76
        }
      ]
    },
    {
      "cell_type": "markdown",
      "source": [
        "Se **`reduce`** la tasa de aprendizaje del optimizador a la mitad."
      ],
      "metadata": {
        "id": "yDkamFdQMY7L"
      }
    },
    {
      "cell_type": "code",
      "source": [
        "optimizer = torch.optim.SGD(model1_rate.parameters(), lr=0.0005)"
      ],
      "metadata": {
        "id": "DOGlwQZLWoYz"
      },
      "execution_count": null,
      "outputs": []
    },
    {
      "cell_type": "markdown",
      "source": [
        "El entrenamiento se desarrolla de la misma forma que antes. Los datos no presentan alteraciones y se siguen usando $10$ epochs. Hasta ahora, cada modelo se ha guardado en un archivo diferente."
      ],
      "metadata": {
        "id": "CCqILk_oMtSm"
      }
    },
    {
      "cell_type": "code",
      "source": [
        "train_model(model1_rate, optimizer, loss_module, train_data, val_data, 10, \"model1_rate.pt\")"
      ],
      "metadata": {
        "colab": {
          "base_uri": "https://localhost:8080/",
          "height": 570,
          "referenced_widgets": [
            "ee520088676d46c2bda47e69bfed9d33",
            "ab5de87f783f463fadbc9232c9fc7bc9",
            "46f91742fbad46f3a64879d4178746e8",
            "c7eceba4436e48ecaa86fd6c9430bf12",
            "2d952d4054a94a13a67e1730dc579cfd",
            "facd47cf860a4730aa66d215861d50f3",
            "c021fb95cd50400f873bef8e2c697c83",
            "a2d7d706db3245439ba2fe85660b06b2",
            "81cdf6f1e49c46bbaeabcf69fab1ef1d",
            "c7f3ccf323104158ab773be1cc2f192d",
            "1cf3567efb534c359f3ecc58b22b9e9b"
          ]
        },
        "id": "RUrmzOFcWsZ9",
        "outputId": "cdc72a7c-b62a-406a-af07-e497452f0d84"
      },
      "execution_count": null,
      "outputs": [
        {
          "output_type": "display_data",
          "data": {
            "text/plain": [
              "  0%|          | 0/10 [00:00<?, ?it/s]"
            ],
            "application/vnd.jupyter.widget-view+json": {
              "version_major": 2,
              "version_minor": 0,
              "model_id": "ee520088676d46c2bda47e69bfed9d33"
            }
          },
          "metadata": {}
        },
        {
          "output_type": "stream",
          "name": "stdout",
          "text": [
            "Epoch: 0\tTraining Loss: 0.82054\tValidation Loss: 0.414\n",
            "Validation loss decreased (inf --> 0.414). Saving model...\n",
            "\n",
            "Epoch: 1\tTraining Loss: 0.36617\tValidation Loss: 0.31446\n",
            "Validation loss decreased (0.414 --> 0.31446). Saving model...\n",
            "\n",
            "Epoch: 2\tTraining Loss: 0.28688\tValidation Loss: 0.26642\n",
            "Validation loss decreased (0.31446 --> 0.26642). Saving model...\n",
            "\n",
            "Epoch: 3\tTraining Loss: 0.24409\tValidation Loss: 0.23585\n",
            "Validation loss decreased (0.26642 --> 0.23585). Saving model...\n",
            "\n",
            "Epoch: 4\tTraining Loss: 0.21556\tValidation Loss: 0.2103\n",
            "Validation loss decreased (0.23585 --> 0.2103). Saving model...\n",
            "\n",
            "Epoch: 5\tTraining Loss: 0.19345\tValidation Loss: 0.19156\n",
            "Validation loss decreased (0.2103 --> 0.19156). Saving model...\n",
            "\n",
            "Epoch: 6\tTraining Loss: 0.17545\tValidation Loss: 0.17616\n",
            "Validation loss decreased (0.19156 --> 0.17616). Saving model...\n",
            "\n",
            "Epoch: 7\tTraining Loss: 0.15931\tValidation Loss: 0.16249\n",
            "Validation loss decreased (0.17616 --> 0.16249). Saving model...\n",
            "\n",
            "Epoch: 8\tTraining Loss: 0.14609\tValidation Loss: 0.15216\n",
            "Validation loss decreased (0.16249 --> 0.15216). Saving model...\n",
            "\n",
            "Epoch: 9\tTraining Loss: 0.1346\tValidation Loss: 0.14397\n",
            "Validation loss decreased (0.15216 --> 0.14397). Saving model...\n",
            "\n"
          ]
        }
      ]
    },
    {
      "cell_type": "markdown",
      "source": [
        "Esta tasa de aprendizaje muestra una **`mayor exactitud`** que los otros intentos y, por el momento, es el mejor modelo."
      ],
      "metadata": {
        "id": "sT9HJzWZNXgU"
      }
    },
    {
      "cell_type": "code",
      "source": [
        "accuracy_test(model1_rate, test_data)"
      ],
      "metadata": {
        "colab": {
          "base_uri": "https://localhost:8080/"
        },
        "id": "KlnxyeHyWw8s",
        "outputId": "eb0343ec-9274-4bfc-fe04-f1c4e4c2da3d"
      },
      "execution_count": null,
      "outputs": [
        {
          "output_type": "stream",
          "name": "stdout",
          "text": [
            "The testing set accuracy of the network is: 82.98 %\n"
          ]
        }
      ]
    },
    {
      "cell_type": "markdown",
      "source": [
        "#### **2.3.2. Número de epochs**\n",
        "---"
      ],
      "metadata": {
        "id": "Y1CAswcCYeFW"
      }
    },
    {
      "cell_type": "code",
      "source": [
        "model1_epoch = Net(784)\n",
        "model1_epoch.to(device)\n",
        "optimizer = torch.optim.SGD(model1_epoch.parameters(), lr=0.001)"
      ],
      "metadata": {
        "id": "NY73Ijw3ZKOE"
      },
      "execution_count": null,
      "outputs": []
    },
    {
      "cell_type": "markdown",
      "source": [
        "El quinto modelo mantiene los datos originales y la misma tasa de aprendizaje, pero se entrena con **`más epochs`** para verificar si la conclusión de la sección del PCA se cumple."
      ],
      "metadata": {
        "id": "fgN0KJUGPNu1"
      }
    },
    {
      "cell_type": "code",
      "source": [
        "train_model(model1_epoch, optimizer, loss_module, train_data, val_data, 25, \"model1_epoch.pt\")"
      ],
      "metadata": {
        "colab": {
          "base_uri": "https://localhost:8080/",
          "height": 1000,
          "referenced_widgets": [
            "59501a9047c64012ac9bef4dce329410",
            "54266806d88440e0b0720c25e018d416",
            "641495b20e844bf2bc73672f417223d7",
            "3f757f522da9483e992d371b1502d5dc",
            "81b1f6f1a9024ffd83a57c35f042dac8",
            "eabb4cb1b85b4e5cbeb1341231ec9c0e",
            "a006e4605b9d4caebc0b9e39ea67ec5d",
            "99ad139399a648708b3a04f96f4d59bd",
            "5c22da3afe3c4671bef8649f10636d6a",
            "7caae2ed61d74ef7b3f50ef611628d17",
            "adfbbb8b5fb2416db77b0a0b7ef3ae3b"
          ]
        },
        "id": "-FulU0QDZXEd",
        "outputId": "dded0280-99cf-41df-d7ab-21bc5590be9c"
      },
      "execution_count": null,
      "outputs": [
        {
          "output_type": "display_data",
          "data": {
            "text/plain": [
              "  0%|          | 0/25 [00:00<?, ?it/s]"
            ],
            "application/vnd.jupyter.widget-view+json": {
              "version_major": 2,
              "version_minor": 0,
              "model_id": "59501a9047c64012ac9bef4dce329410"
            }
          },
          "metadata": {}
        },
        {
          "output_type": "stream",
          "name": "stdout",
          "text": [
            "Epoch: 0\tTraining Loss: 0.79039\tValidation Loss: 0.45504\n",
            "Validation loss decreased (inf --> 0.45504). Saving model...\n",
            "\n",
            "Epoch: 1\tTraining Loss: 0.39975\tValidation Loss: 0.36061\n",
            "Validation loss decreased (0.45504 --> 0.36061). Saving model...\n",
            "\n",
            "Epoch: 2\tTraining Loss: 0.31961\tValidation Loss: 0.31525\n",
            "Validation loss decreased (0.36061 --> 0.31525). Saving model...\n",
            "\n",
            "Epoch: 3\tTraining Loss: 0.27617\tValidation Loss: 0.27696\n",
            "Validation loss decreased (0.31525 --> 0.27696). Saving model...\n",
            "\n",
            "Epoch: 4\tTraining Loss: 0.24406\tValidation Loss: 0.25504\n",
            "Validation loss decreased (0.27696 --> 0.25504). Saving model...\n",
            "\n",
            "Epoch: 5\tTraining Loss: 0.22277\tValidation Loss: 0.23213\n",
            "Validation loss decreased (0.25504 --> 0.23213). Saving model...\n",
            "\n",
            "Epoch: 6\tTraining Loss: 0.20524\tValidation Loss: 0.22194\n",
            "Validation loss decreased (0.23213 --> 0.22194). Saving model...\n",
            "\n",
            "Epoch: 7\tTraining Loss: 0.18931\tValidation Loss: 0.209\n",
            "Validation loss decreased (0.22194 --> 0.209). Saving model...\n",
            "\n",
            "Epoch: 8\tTraining Loss: 0.17602\tValidation Loss: 0.18953\n",
            "Validation loss decreased (0.209 --> 0.18953). Saving model...\n",
            "\n",
            "Epoch: 9\tTraining Loss: 0.16339\tValidation Loss: 0.1809\n",
            "Validation loss decreased (0.18953 --> 0.1809). Saving model...\n",
            "\n",
            "Epoch: 10\tTraining Loss: 0.15519\tValidation Loss: 0.1736\n",
            "Validation loss decreased (0.1809 --> 0.1736). Saving model...\n",
            "\n",
            "Epoch: 11\tTraining Loss: 0.14374\tValidation Loss: 0.17222\n",
            "Validation loss decreased (0.1736 --> 0.17222). Saving model...\n",
            "\n",
            "Epoch: 12\tTraining Loss: 0.13534\tValidation Loss: 0.15617\n",
            "Validation loss decreased (0.17222 --> 0.15617). Saving model...\n",
            "\n",
            "Epoch: 13\tTraining Loss: 0.12645\tValidation Loss: 0.14413\n",
            "Validation loss decreased (0.15617 --> 0.14413). Saving model...\n",
            "\n",
            "Epoch: 14\tTraining Loss: 0.11973\tValidation Loss: 0.14965\n",
            "Epoch: 15\tTraining Loss: 0.11375\tValidation Loss: 0.13332\n",
            "Validation loss decreased (0.14413 --> 0.13332). Saving model...\n",
            "\n",
            "Epoch: 16\tTraining Loss: 0.10771\tValidation Loss: 0.13539\n",
            "Epoch: 17\tTraining Loss: 0.09958\tValidation Loss: 0.13431\n",
            "Epoch: 18\tTraining Loss: 0.09303\tValidation Loss: 0.11201\n",
            "Validation loss decreased (0.13332 --> 0.11201). Saving model...\n",
            "\n",
            "Epoch: 19\tTraining Loss: 0.08799\tValidation Loss: 0.1317\n",
            "Epoch: 20\tTraining Loss: 0.08295\tValidation Loss: 0.10011\n",
            "Validation loss decreased (0.11201 --> 0.10011). Saving model...\n",
            "\n",
            "Epoch: 21\tTraining Loss: 0.07534\tValidation Loss: 0.10009\n",
            "Validation loss decreased (0.10011 --> 0.10009). Saving model...\n",
            "\n",
            "Epoch: 22\tTraining Loss: 0.07177\tValidation Loss: 0.09342\n",
            "Validation loss decreased (0.10009 --> 0.09342). Saving model...\n",
            "\n",
            "Epoch: 23\tTraining Loss: 0.06869\tValidation Loss: 0.08797\n",
            "Validation loss decreased (0.09342 --> 0.08797). Saving model...\n",
            "\n",
            "Epoch: 24\tTraining Loss: 0.07086\tValidation Loss: 0.10094\n"
          ]
        }
      ]
    },
    {
      "cell_type": "markdown",
      "source": [
        "De nuevo, se obtiene una **`mayor exactitud`** al compararla con las anteriores. Esto concuerda con los resultados esperados."
      ],
      "metadata": {
        "id": "vlkehfzlPzGk"
      }
    },
    {
      "cell_type": "code",
      "source": [
        "accuracy_test(model1_epoch, test_data)"
      ],
      "metadata": {
        "colab": {
          "base_uri": "https://localhost:8080/"
        },
        "id": "K_O2eeXcZ9Y9",
        "outputId": "84a541c6-ecca-45ef-cbb4-5dd874ed020f"
      },
      "execution_count": null,
      "outputs": [
        {
          "output_type": "stream",
          "name": "stdout",
          "text": [
            "The testing set accuracy of the network is: 83.59 %\n"
          ]
        }
      ]
    },
    {
      "cell_type": "markdown",
      "source": [
        "### **2.4. Cambio de arquitectura**\n",
        "---"
      ],
      "metadata": {
        "id": "KPSV8iG1J31i"
      }
    },
    {
      "cell_type": "markdown",
      "source": [
        "#### **2.4.1. Primer acercamiento**\n",
        "---"
      ],
      "metadata": {
        "id": "eFuEZjmxrvZ_"
      }
    },
    {
      "cell_type": "markdown",
      "source": [
        "La segunda arquitectura definida es una red neuronal con **`dos capas ocultas`** de $100$ y $50$ nodos. Se mantiene **`ReLU`** como función de activación para ambas."
      ],
      "metadata": {
        "id": "xGp5O2ASTMwu"
      }
    },
    {
      "cell_type": "code",
      "source": [
        "class Net2(nn.Module):\n",
        "    def __init__(self):\n",
        "        super(Net2, self).__init__()\n",
        "        self.fc1 = nn.Linear(784, 100)\n",
        "        self.fc2 = nn.Linear(100, 50)\n",
        "        self.fc3 = nn.Linear(50, 10)\n",
        "\n",
        "    def forward(self, x):\n",
        "        x = F.relu(self.fc1(x))\n",
        "        x = F.relu(self.fc2(x))\n",
        "        x = self.fc3(x)\n",
        "        return x"
      ],
      "metadata": {
        "id": "VG2_P-u6o1nL"
      },
      "execution_count": null,
      "outputs": []
    },
    {
      "cell_type": "code",
      "source": [
        "model2 = Net2()\n",
        "model2.to(device)\n",
        "optimizer = torch.optim.SGD(model2.parameters(), lr=0.001)"
      ],
      "metadata": {
        "id": "dgmMk08Ao7gh"
      },
      "execution_count": null,
      "outputs": []
    },
    {
      "cell_type": "code",
      "source": [
        "train_model(model2, optimizer, loss_module, train_data, val_data, 10, \"model2.pt\")"
      ],
      "metadata": {
        "colab": {
          "base_uri": "https://localhost:8080/",
          "height": 570,
          "referenced_widgets": [
            "007d7b9c38404f2da747e82637bfcac8",
            "f41ca098e8ed47978a848b7517134a02",
            "739f2628d3cc4dfebe6683016b327214",
            "0c725dc679144b20b4a388ec2d245709",
            "e906d5e03b0f43c8bd38e4701cbe244f",
            "56d10edfe63e4cecb99d09f73b945581",
            "6f8addcc0e8d4f058776d507c87ba6d6",
            "f1d46fe4fec3496aa29930daa3e1c1af",
            "4b81696e35254130a547ea7ec7f3fa04",
            "f80c2c2dbe6048f5b580be4120d6889f",
            "bece7010554746bd993a61bca14f93d6"
          ]
        },
        "id": "1pHzsN4ppNFK",
        "outputId": "7928ceac-6f4c-4c7b-87dd-514a8f4016de"
      },
      "execution_count": null,
      "outputs": [
        {
          "output_type": "display_data",
          "data": {
            "text/plain": [
              "  0%|          | 0/10 [00:00<?, ?it/s]"
            ],
            "application/vnd.jupyter.widget-view+json": {
              "version_major": 2,
              "version_minor": 0,
              "model_id": "007d7b9c38404f2da747e82637bfcac8"
            }
          },
          "metadata": {}
        },
        {
          "output_type": "stream",
          "name": "stdout",
          "text": [
            "Epoch: 0\tTraining Loss: 0.58259\tValidation Loss: 0.35623\n",
            "Validation loss decreased (inf --> 0.35623). Saving model...\n",
            "\n",
            "Epoch: 1\tTraining Loss: 0.2923\tValidation Loss: 0.26353\n",
            "Validation loss decreased (0.35623 --> 0.26353). Saving model...\n",
            "\n",
            "Epoch: 2\tTraining Loss: 0.2275\tValidation Loss: 0.21176\n",
            "Validation loss decreased (0.26353 --> 0.21176). Saving model...\n",
            "\n",
            "Epoch: 3\tTraining Loss: 0.18679\tValidation Loss: 0.17393\n",
            "Validation loss decreased (0.21176 --> 0.17393). Saving model...\n",
            "\n",
            "Epoch: 4\tTraining Loss: 0.15845\tValidation Loss: 0.15292\n",
            "Validation loss decreased (0.17393 --> 0.15292). Saving model...\n",
            "\n",
            "Epoch: 5\tTraining Loss: 0.13605\tValidation Loss: 0.13519\n",
            "Validation loss decreased (0.15292 --> 0.13519). Saving model...\n",
            "\n",
            "Epoch: 6\tTraining Loss: 0.11738\tValidation Loss: 0.12219\n",
            "Validation loss decreased (0.13519 --> 0.12219). Saving model...\n",
            "\n",
            "Epoch: 7\tTraining Loss: 0.10133\tValidation Loss: 0.10817\n",
            "Validation loss decreased (0.12219 --> 0.10817). Saving model...\n",
            "\n",
            "Epoch: 8\tTraining Loss: 0.08767\tValidation Loss: 0.09974\n",
            "Validation loss decreased (0.10817 --> 0.09974). Saving model...\n",
            "\n",
            "Epoch: 9\tTraining Loss: 0.07535\tValidation Loss: 0.08917\n",
            "Validation loss decreased (0.09974 --> 0.08917). Saving model...\n",
            "\n"
          ]
        }
      ]
    },
    {
      "cell_type": "markdown",
      "source": [
        "El sexto modelo es el que ha explicado mejor los datos de prueba sin necesidad de usar tantos epochs."
      ],
      "metadata": {
        "id": "57Oe-g-ATyQ-"
      }
    },
    {
      "cell_type": "code",
      "source": [
        "accuracy_test(model2, test_data)"
      ],
      "metadata": {
        "colab": {
          "base_uri": "https://localhost:8080/"
        },
        "id": "T-TRpE50pRbH",
        "outputId": "d863c71f-1a85-4737-a8cb-a2e80c488a90"
      },
      "execution_count": null,
      "outputs": [
        {
          "output_type": "stream",
          "name": "stdout",
          "text": [
            "The testing set accuracy of the network is: 85.7 %\n"
          ]
        }
      ]
    },
    {
      "cell_type": "markdown",
      "source": [
        "#### **2.4.2. Segundo acercamiento**\n",
        "---"
      ],
      "metadata": {
        "id": "uZApJ9Ajr5bv"
      }
    },
    {
      "cell_type": "markdown",
      "source": [
        "Para terminar, se define otra red con **`tres capas ocultas`** de $512$, $128$ y $32$ nodos, respectivamente. En esta aproximación, la función de activación de estas capas se cambia por la **`tangente hiperbólica`**."
      ],
      "metadata": {
        "id": "bv9ALacqUG93"
      }
    },
    {
      "cell_type": "code",
      "source": [
        "class Net3(nn.Module):\n",
        "    def __init__(self):\n",
        "        super(Net3, self).__init__()\n",
        "        self.fc1 = nn.Linear(784, 512)\n",
        "        self.fc2 = nn.Linear(512, 128)\n",
        "        self.fc3 = nn.Linear(128, 32)\n",
        "        self.fc4 = nn.Linear(32, 10)\n",
        "\n",
        "    def forward(self, x):\n",
        "        x = F.tanh(self.fc1(x))\n",
        "        x = F.tanh(self.fc2(x))\n",
        "        x = F.tanh(self.fc3(x))\n",
        "        x = self.fc4(x)\n",
        "        return x"
      ],
      "metadata": {
        "id": "c0euLN2yr_PA"
      },
      "execution_count": null,
      "outputs": []
    },
    {
      "cell_type": "code",
      "source": [
        "model3 = Net3()\n",
        "model3.to(device)\n",
        "optimizer = torch.optim.SGD(model3.parameters(), lr=0.001)"
      ],
      "metadata": {
        "id": "tFD6uf4zsA3v"
      },
      "execution_count": null,
      "outputs": []
    },
    {
      "cell_type": "code",
      "source": [
        "train_model(model3, optimizer, loss_module, train_data, val_data, 10, \"model3.pt\")"
      ],
      "metadata": {
        "colab": {
          "base_uri": "https://localhost:8080/",
          "height": 570,
          "referenced_widgets": [
            "a6ead6cb30274672b0fc97306cbc131e",
            "c5b89289ed994c97983b60a5b1dc8141",
            "c7196004e3c74259b3b9e0ae33d4fd55",
            "9483ce269b1042ba92c1a70e5a04635a",
            "0410114a264c4e66a7977e6d463f7b19",
            "0ba7db7f85254ab88abdb393c91bcedc",
            "3e1f423971444b76b46fd252d5e00147",
            "4a379145f2d945d7844de09fc9ab85de",
            "60b20613fac64b4381bd1343fb262c2c",
            "564a64108ddc4e5cb0dbcfc36fa59f6b",
            "0bd50457ca4f4ec49f363030626d3669"
          ]
        },
        "id": "zG8Co4g5sCMX",
        "outputId": "77d35dbc-dbc4-4c46-b39d-9c4450cf847c"
      },
      "execution_count": null,
      "outputs": [
        {
          "output_type": "display_data",
          "data": {
            "text/plain": [
              "  0%|          | 0/10 [00:00<?, ?it/s]"
            ],
            "application/vnd.jupyter.widget-view+json": {
              "version_major": 2,
              "version_minor": 0,
              "model_id": "a6ead6cb30274672b0fc97306cbc131e"
            }
          },
          "metadata": {}
        },
        {
          "output_type": "stream",
          "name": "stdout",
          "text": [
            "Epoch: 0\tTraining Loss: 1.62588\tValidation Loss: 1.1902\n",
            "Validation loss decreased (inf --> 1.1902). Saving model...\n",
            "\n",
            "Epoch: 1\tTraining Loss: 0.97087\tValidation Loss: 0.80985\n",
            "Validation loss decreased (1.1902 --> 0.80985). Saving model...\n",
            "\n",
            "Epoch: 2\tTraining Loss: 0.71415\tValidation Loss: 0.63794\n",
            "Validation loss decreased (0.80985 --> 0.63794). Saving model...\n",
            "\n",
            "Epoch: 3\tTraining Loss: 0.58163\tValidation Loss: 0.53469\n",
            "Validation loss decreased (0.63794 --> 0.53469). Saving model...\n",
            "\n",
            "Epoch: 4\tTraining Loss: 0.49596\tValidation Loss: 0.46544\n",
            "Validation loss decreased (0.53469 --> 0.46544). Saving model...\n",
            "\n",
            "Epoch: 5\tTraining Loss: 0.43334\tValidation Loss: 0.41198\n",
            "Validation loss decreased (0.46544 --> 0.41198). Saving model...\n",
            "\n",
            "Epoch: 6\tTraining Loss: 0.38812\tValidation Loss: 0.37397\n",
            "Validation loss decreased (0.41198 --> 0.37397). Saving model...\n",
            "\n",
            "Epoch: 7\tTraining Loss: 0.35575\tValidation Loss: 0.34384\n",
            "Validation loss decreased (0.37397 --> 0.34384). Saving model...\n",
            "\n",
            "Epoch: 8\tTraining Loss: 0.33028\tValidation Loss: 0.33106\n",
            "Validation loss decreased (0.34384 --> 0.33106). Saving model...\n",
            "\n",
            "Epoch: 9\tTraining Loss: 0.30948\tValidation Loss: 0.30671\n",
            "Validation loss decreased (0.33106 --> 0.30671). Saving model...\n",
            "\n"
          ]
        }
      ]
    },
    {
      "cell_type": "markdown",
      "source": [
        "Esta vez se obtiene una **`exactitud menor`** a la estructura anterior (y demás ajustes). En general, es un valor que **`no mejora`** mucho con respecto al original."
      ],
      "metadata": {
        "id": "wC5yveC-VDPP"
      }
    },
    {
      "cell_type": "code",
      "source": [
        "accuracy_test(model3, test_data)"
      ],
      "metadata": {
        "colab": {
          "base_uri": "https://localhost:8080/"
        },
        "id": "YHmLQpldsDYA",
        "outputId": "b2f6b16f-dd13-4024-8507-a642c16c085c"
      },
      "execution_count": null,
      "outputs": [
        {
          "output_type": "stream",
          "name": "stdout",
          "text": [
            "The testing set accuracy of the network is: 79.18 %\n"
          ]
        }
      ]
    },
    {
      "cell_type": "markdown",
      "source": [
        "### **2.5. Todo reunido**\n",
        "---"
      ],
      "metadata": {
        "id": "CByVNUY4Wjx_"
      }
    },
    {
      "cell_type": "markdown",
      "source": [
        "Con todos los ajustes realizados hasta el momento, se nota que los mejores resultados fueron proporcionados al utilizar un **`mayor número de epochs`** y **`capas`** para el modelo y al **`disminuir su tasa de aprendizaje`**. Es por eso que se unen dichas características con la finalidad de encontrar una **`mejor predicción`** en los datos de prueba."
      ],
      "metadata": {
        "id": "G14U3-ouddc7"
      }
    },
    {
      "cell_type": "code",
      "source": [
        "final_model = Net2()\n",
        "final_model.to(device)\n",
        "optimizer = torch.optim.SGD(final_model.parameters(), lr=0.0005)"
      ],
      "metadata": {
        "id": "ib0WRXagWnJK"
      },
      "execution_count": null,
      "outputs": []
    },
    {
      "cell_type": "code",
      "source": [
        "train_model(final_model, optimizer, loss_module, train_data, val_data, 25, \"final_model.pt\")"
      ],
      "metadata": {
        "colab": {
          "base_uri": "https://localhost:8080/",
          "height": 1000,
          "referenced_widgets": [
            "9f1f25d2739c44b294c21abe76732271",
            "9317a4f4424f49e287df98b6d34e1bc6",
            "ef1313d3b37c4a7388a8ca4a9b0949be",
            "8254adcfff90487a950a56d9ac4e660c",
            "08f6239ed0c24fb69dfc22a8f5bd1912",
            "00bc95f93ffb437a88fbf8574d54c132",
            "9d555125f92c4713934b9f13c44ed04f",
            "cdc25dcfea6b4d92816e7a16cf45be30",
            "c14d0af3b4b74daa824325f07e40ddc8",
            "0955707e0b0d4a1c819a5b22a45e9d7c",
            "50e30248bcc34501a6e2a8ff3cb36ad3"
          ]
        },
        "id": "_rEJ6TMQXMvo",
        "outputId": "2fe314b9-f206-4500-d9b4-f0a72d4085c4"
      },
      "execution_count": null,
      "outputs": [
        {
          "output_type": "display_data",
          "data": {
            "text/plain": [
              "  0%|          | 0/25 [00:00<?, ?it/s]"
            ],
            "application/vnd.jupyter.widget-view+json": {
              "version_major": 2,
              "version_minor": 0,
              "model_id": "9f1f25d2739c44b294c21abe76732271"
            }
          },
          "metadata": {}
        },
        {
          "output_type": "stream",
          "name": "stdout",
          "text": [
            "Epoch: 0\tTraining Loss: 0.66799\tValidation Loss: 0.38923\n",
            "Validation loss decreased (inf --> 0.38923). Saving model...\n",
            "\n",
            "Epoch: 1\tTraining Loss: 0.33417\tValidation Loss: 0.29141\n",
            "Validation loss decreased (0.38923 --> 0.29141). Saving model...\n",
            "\n",
            "Epoch: 2\tTraining Loss: 0.26217\tValidation Loss: 0.24303\n",
            "Validation loss decreased (0.29141 --> 0.24303). Saving model...\n",
            "\n",
            "Epoch: 3\tTraining Loss: 0.22031\tValidation Loss: 0.2112\n",
            "Validation loss decreased (0.24303 --> 0.2112). Saving model...\n",
            "\n",
            "Epoch: 4\tTraining Loss: 0.19094\tValidation Loss: 0.1868\n",
            "Validation loss decreased (0.2112 --> 0.1868). Saving model...\n",
            "\n",
            "Epoch: 5\tTraining Loss: 0.16856\tValidation Loss: 0.1665\n",
            "Validation loss decreased (0.1868 --> 0.1665). Saving model...\n",
            "\n",
            "Epoch: 6\tTraining Loss: 0.1499\tValidation Loss: 0.14948\n",
            "Validation loss decreased (0.1665 --> 0.14948). Saving model...\n",
            "\n",
            "Epoch: 7\tTraining Loss: 0.13439\tValidation Loss: 0.13555\n",
            "Validation loss decreased (0.14948 --> 0.13555). Saving model...\n",
            "\n",
            "Epoch: 8\tTraining Loss: 0.12108\tValidation Loss: 0.12354\n",
            "Validation loss decreased (0.13555 --> 0.12354). Saving model...\n",
            "\n",
            "Epoch: 9\tTraining Loss: 0.1096\tValidation Loss: 0.11301\n",
            "Validation loss decreased (0.12354 --> 0.11301). Saving model...\n",
            "\n",
            "Epoch: 10\tTraining Loss: 0.09935\tValidation Loss: 0.10347\n",
            "Validation loss decreased (0.11301 --> 0.10347). Saving model...\n",
            "\n",
            "Epoch: 11\tTraining Loss: 0.09003\tValidation Loss: 0.0957\n",
            "Validation loss decreased (0.10347 --> 0.0957). Saving model...\n",
            "\n",
            "Epoch: 12\tTraining Loss: 0.08166\tValidation Loss: 0.08762\n",
            "Validation loss decreased (0.0957 --> 0.08762). Saving model...\n",
            "\n",
            "Epoch: 13\tTraining Loss: 0.074\tValidation Loss: 0.07981\n",
            "Validation loss decreased (0.08762 --> 0.07981). Saving model...\n",
            "\n",
            "Epoch: 14\tTraining Loss: 0.06692\tValidation Loss: 0.07381\n",
            "Validation loss decreased (0.07981 --> 0.07381). Saving model...\n",
            "\n",
            "Epoch: 15\tTraining Loss: 0.06043\tValidation Loss: 0.0677\n",
            "Validation loss decreased (0.07381 --> 0.0677). Saving model...\n",
            "\n",
            "Epoch: 16\tTraining Loss: 0.05465\tValidation Loss: 0.06272\n",
            "Validation loss decreased (0.0677 --> 0.06272). Saving model...\n",
            "\n",
            "Epoch: 17\tTraining Loss: 0.04917\tValidation Loss: 0.05856\n",
            "Validation loss decreased (0.06272 --> 0.05856). Saving model...\n",
            "\n",
            "Epoch: 18\tTraining Loss: 0.04395\tValidation Loss: 0.0537\n",
            "Validation loss decreased (0.05856 --> 0.0537). Saving model...\n",
            "\n",
            "Epoch: 19\tTraining Loss: 0.03949\tValidation Loss: 0.04998\n",
            "Validation loss decreased (0.0537 --> 0.04998). Saving model...\n",
            "\n",
            "Epoch: 20\tTraining Loss: 0.03537\tValidation Loss: 0.04604\n",
            "Validation loss decreased (0.04998 --> 0.04604). Saving model...\n",
            "\n",
            "Epoch: 21\tTraining Loss: 0.03176\tValidation Loss: 0.04286\n",
            "Validation loss decreased (0.04604 --> 0.04286). Saving model...\n",
            "\n",
            "Epoch: 22\tTraining Loss: 0.02848\tValidation Loss: 0.03888\n",
            "Validation loss decreased (0.04286 --> 0.03888). Saving model...\n",
            "\n",
            "Epoch: 23\tTraining Loss: 0.02549\tValidation Loss: 0.03536\n",
            "Validation loss decreased (0.03888 --> 0.03536). Saving model...\n",
            "\n",
            "Epoch: 24\tTraining Loss: 0.02278\tValidation Loss: 0.03218\n",
            "Validation loss decreased (0.03536 --> 0.03218). Saving model...\n",
            "\n"
          ]
        }
      ]
    },
    {
      "cell_type": "markdown",
      "source": [
        "Efectivamente, esta métrica fue la mejor de entre todos los ocho modelos entrenados."
      ],
      "metadata": {
        "id": "DL16tjnqef_b"
      }
    },
    {
      "cell_type": "code",
      "source": [
        "accuracy_test(final_model, test_data)"
      ],
      "metadata": {
        "colab": {
          "base_uri": "https://localhost:8080/"
        },
        "id": "Zp277RJxXWAY",
        "outputId": "6baf667a-a21a-4713-aae3-de8399ac790c"
      },
      "execution_count": null,
      "outputs": [
        {
          "output_type": "stream",
          "name": "stdout",
          "text": [
            "The testing set accuracy of the network is: 86.07 %\n"
          ]
        }
      ]
    },
    {
      "cell_type": "markdown",
      "source": [
        "## **3. Mejor modelo**\n",
        "---"
      ],
      "metadata": {
        "id": "jxuvpJEaHTP2"
      }
    },
    {
      "cell_type": "markdown",
      "source": [
        "Se imprime el modelo con la mejor métrica, cuyo nombre se almacenó en la variable global definida al comienzo del estudio."
      ],
      "metadata": {
        "id": "moy-DZ2OVpN3"
      }
    },
    {
      "cell_type": "code",
      "source": [
        "print(f\"The model with the best testing accuracy is: {best_model}\")"
      ],
      "metadata": {
        "id": "IHqZMpATv7Xh",
        "colab": {
          "base_uri": "https://localhost:8080/"
        },
        "outputId": "28b60bca-473d-4323-8942-7a3f7cb68f09"
      },
      "execution_count": null,
      "outputs": [
        {
          "output_type": "stream",
          "name": "stdout",
          "text": [
            "The model with the best testing accuracy is: final_model\n"
          ]
        }
      ]
    },
    {
      "cell_type": "markdown",
      "source": [
        "Se elige un **`registro aleatorio`** del conjunto de datos y se muestra a continuación:"
      ],
      "metadata": {
        "id": "aqa8_Nq4XaEI"
      }
    },
    {
      "cell_type": "code",
      "source": [
        "idx = randint(0, len(train_sec) - 1)\n",
        "sample = train_sec[idx]\n",
        "plt.axis('off')\n",
        "plt.imshow(sample[0].reshape(28,28), cmap = 'gray');"
      ],
      "metadata": {
        "id": "6vexe8e2wF5Z",
        "colab": {
          "base_uri": "https://localhost:8080/",
          "height": 395
        },
        "outputId": "789805e1-d456-4090-bf1b-3a31482fc2ec"
      },
      "execution_count": null,
      "outputs": [
        {
          "output_type": "display_data",
          "data": {
            "text/plain": [
              "<Figure size 704x528 with 1 Axes>"
            ],
            "image/svg+xml": "<?xml version=\"1.0\" encoding=\"utf-8\" standalone=\"no\"?>\n<!DOCTYPE svg PUBLIC \"-//W3C//DTD SVG 1.1//EN\"\n  \"http://www.w3.org/Graphics/SVG/1.1/DTD/svg11.dtd\">\n<svg xmlns:xlink=\"http://www.w3.org/1999/xlink\" width=\"280.512pt\" height=\"280.512pt\" viewBox=\"0 0 280.512 280.512\" xmlns=\"http://www.w3.org/2000/svg\" version=\"1.1\">\n <metadata>\n  <rdf:RDF xmlns:dc=\"http://purl.org/dc/elements/1.1/\" xmlns:cc=\"http://creativecommons.org/ns#\" xmlns:rdf=\"http://www.w3.org/1999/02/22-rdf-syntax-ns#\">\n   <cc:Work>\n    <dc:type rdf:resource=\"http://purl.org/dc/dcmitype/StillImage\"/>\n    <dc:date>2023-10-08T05:14:05.781711</dc:date>\n    <dc:format>image/svg+xml</dc:format>\n    <dc:creator>\n     <cc:Agent>\n      <dc:title>Matplotlib v3.7.1, https://matplotlib.org/</dc:title>\n     </cc:Agent>\n    </dc:creator>\n   </cc:Work>\n  </rdf:RDF>\n </metadata>\n <defs>\n  <style type=\"text/css\">*{stroke-linejoin: round; stroke-linecap: butt}</style>\n </defs>\n <g id=\"figure_1\">\n  <g id=\"patch_1\">\n   <path d=\"M 0 280.512 \nL 280.512 280.512 \nL 280.512 0 \nL 0 0 \nz\n\" style=\"fill: #ffffff\"/>\n  </g>\n  <g id=\"axes_1\">\n   <g clip-path=\"url(#p152b3f26a5)\">\n    <image xlink:href=\"data:image/png;base64,\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\" id=\"image27226d0483\" transform=\"scale(1 -1) translate(0 -266.4)\" x=\"7.2\" y=\"-6.912\" width=\"266.4\" height=\"266.4\"/>\n   </g>\n  </g>\n </g>\n <defs>\n  <clipPath id=\"p152b3f26a5\">\n   <rect x=\"7.2\" y=\"7.2\" width=\"266.112\" height=\"266.112\"/>\n  </clipPath>\n </defs>\n</svg>\n",
            "application/pdf": "[encoded data removed]"
          },
          "metadata": {}
        }
      ]
    },
    {
      "cell_type": "markdown",
      "source": [
        "Se utiliza el modelo seleccionado para **`predecir la clase`** de la observación anterior. Nótese que corresponde a la clase $2$; esto tiene sentido, porque la imagen contiene la letra \"su\" y es la de la tercera columna en la tabla mostrada al comienzo (la lectura tradicional japonesa se realiza de derecha a izquierda)."
      ],
      "metadata": {
        "id": "OCIpQ-avYB4g"
      }
    },
    {
      "cell_type": "code",
      "source": [
        "X = sample[0].to(device)\n",
        "_, y = torch.max(final_model(X), 0)\n",
        "print(y.item())"
      ],
      "metadata": {
        "colab": {
          "base_uri": "https://localhost:8080/"
        },
        "id": "2E2havZQLJWm",
        "outputId": "e34ee21f-e423-4e4e-acbd-dc24bb222af6"
      },
      "execution_count": null,
      "outputs": [
        {
          "output_type": "stream",
          "name": "stdout",
          "text": [
            "2\n"
          ]
        }
      ]
    },
    {
      "cell_type": "markdown",
      "source": [
        "De todas formas, se imprime la **`etiqueta`** que se encuentra guardada en el conjunto de datos."
      ],
      "metadata": {
        "id": "IRYSSWJ8ZbKg"
      }
    },
    {
      "cell_type": "code",
      "source": [
        "print(sample[1].item())"
      ],
      "metadata": {
        "colab": {
          "base_uri": "https://localhost:8080/"
        },
        "id": "Pv84J5dhLCkH",
        "outputId": "b546804c-cdf8-40f9-a526-6c4d5b192294"
      },
      "execution_count": null,
      "outputs": [
        {
          "output_type": "stream",
          "name": "stdout",
          "text": [
            "2.0\n"
          ]
        }
      ]
    },
    {
      "cell_type": "markdown",
      "source": [
        "Adicionalmente, se imprimen los **`parámetros`** del mejor modelo obtenido."
      ],
      "metadata": {
        "id": "Obijdne1WJcY"
      }
    },
    {
      "cell_type": "code",
      "source": [
        "for name, param in final_model.named_parameters():\n",
        "    if param.requires_grad:\n",
        "        print(name, param.data)"
      ],
      "metadata": {
        "id": "CYSFIO7kwIBB",
        "colab": {
          "base_uri": "https://localhost:8080/"
        },
        "outputId": "8b7e0450-886e-43bf-91fd-996affeceb7a"
      },
      "execution_count": null,
      "outputs": [
        {
          "output_type": "stream",
          "name": "stdout",
          "text": [
            "fc1.weight tensor([[-0.0203,  0.0079,  0.0068,  ..., -0.0080,  0.0118,  0.0100],\n",
            "        [ 0.0248,  0.0187, -0.0015,  ...,  0.0177, -0.0287,  0.0338],\n",
            "        [ 0.0352, -0.0297, -0.0003,  ..., -0.0015, -0.0165, -0.0191],\n",
            "        ...,\n",
            "        [ 0.0200,  0.0177, -0.0060,  ..., -0.0015, -0.0263, -0.0162],\n",
            "        [ 0.0211, -0.0092,  0.0033,  ...,  0.0109, -0.0239,  0.0063],\n",
            "        [ 0.0153,  0.0164, -0.0137,  ...,  0.0147, -0.0079, -0.0244]])\n",
            "fc1.bias tensor([ 1.9760e-03,  9.7731e-03,  2.8334e-02,  2.9887e-02, -1.4230e-02,\n",
            "        -3.3899e-02,  1.3498e-02,  2.3740e-02, -2.1897e-02, -1.5735e-03,\n",
            "        -1.9051e-03,  1.7573e-02, -3.5237e-02,  2.1375e-02, -2.8777e-02,\n",
            "         6.3948e-03,  1.2916e-02,  1.8532e-02, -5.7900e-03,  2.1693e-02,\n",
            "         8.4364e-03,  4.6006e-03, -1.2105e-02, -9.4079e-03, -1.1704e-02,\n",
            "         1.3952e-02, -2.9302e-02, -2.3529e-02, -1.1203e-02,  3.1473e-02,\n",
            "        -2.9044e-02,  2.7129e-02,  6.7392e-04,  6.1799e-03, -2.0570e-02,\n",
            "         2.6656e-02,  2.4531e-02, -8.9845e-03, -2.7135e-02,  1.3894e-02,\n",
            "        -1.7467e-02, -1.3544e-02, -1.8303e-02,  1.2789e-02, -3.1402e-02,\n",
            "        -8.2641e-03, -8.9343e-03, -2.5765e-02, -2.4438e-02,  7.9605e-03,\n",
            "        -1.0168e-02, -1.2111e-02,  3.3687e-02, -1.4838e-02, -6.9354e-03,\n",
            "        -8.8044e-04,  1.7685e-02, -1.8929e-02, -2.9641e-02, -1.0606e-02,\n",
            "        -2.9729e-02, -2.7213e-03,  3.0800e-02, -5.6130e-03,  6.4346e-03,\n",
            "        -1.5142e-02,  3.2612e-02, -1.8390e-02,  1.2360e-02,  8.4894e-03,\n",
            "         1.1370e-02, -3.3504e-02, -1.7838e-02,  2.2862e-02, -2.5929e-03,\n",
            "         3.4665e-02,  1.8823e-02,  1.1048e-02,  3.2163e-02,  1.7834e-02,\n",
            "        -1.7891e-02,  1.1716e-02, -1.3161e-02,  5.3803e-05, -9.1599e-03,\n",
            "         5.4451e-03, -3.4482e-02,  1.6683e-02,  1.5447e-02,  7.9655e-03,\n",
            "         2.6685e-03,  3.0994e-02,  2.8401e-02, -2.6984e-02, -1.2848e-02,\n",
            "         1.2275e-03,  5.6531e-03,  1.9098e-02, -1.6729e-02, -2.8194e-02])\n",
            "fc2.weight tensor([[ 0.0626, -0.0792,  0.0229,  ..., -0.0632,  0.0231, -0.0398],\n",
            "        [-0.0577, -0.0598,  0.0743,  ..., -0.0111,  0.0659, -0.0299],\n",
            "        [ 0.0034,  0.0897, -0.0924,  ..., -0.0289,  0.0146,  0.0134],\n",
            "        ...,\n",
            "        [ 0.0699,  0.0751,  0.0511,  ...,  0.0377, -0.0773, -0.0752],\n",
            "        [-0.0240,  0.0069,  0.0649,  ..., -0.0393,  0.0582,  0.0992],\n",
            "        [ 0.0420,  0.0362,  0.0050,  ...,  0.0050, -0.0272, -0.0066]])\n",
            "fc2.bias tensor([ 0.0445, -0.0103,  0.0359, -0.0506, -0.0536, -0.0789, -0.0052,  0.0044,\n",
            "        -0.0736,  0.0832, -0.0438,  0.0586, -0.0769, -0.0067,  0.0474, -0.1002,\n",
            "        -0.0167,  0.0615,  0.0692, -0.0653, -0.0877,  0.0311,  0.0152, -0.0109,\n",
            "        -0.0516, -0.0223,  0.0419, -0.0092,  0.0230, -0.0576,  0.0701,  0.0719,\n",
            "        -0.0610, -0.0226,  0.0054, -0.0374, -0.0547,  0.0648, -0.0291,  0.0010,\n",
            "        -0.0712, -0.0966, -0.0567, -0.0572,  0.0615, -0.0953, -0.0091, -0.0434,\n",
            "         0.0859,  0.0207])\n",
            "fc3.weight tensor([[ 5.6559e-02,  8.3692e-02,  7.1261e-03, -1.4370e-02,  1.2312e-01,\n",
            "          1.4244e-01,  6.4255e-02, -1.2839e-01,  5.8996e-02,  1.2251e-01,\n",
            "          1.2467e-01, -1.8447e-03, -2.8249e-02, -9.8477e-02,  1.1598e-01,\n",
            "         -7.5671e-02,  5.3833e-02,  3.1445e-02, -1.0249e-01,  1.4667e-01,\n",
            "          1.1770e-01,  7.4574e-02,  4.5416e-02,  1.3441e-01, -8.4367e-02,\n",
            "         -4.0170e-02, -4.3696e-02, -1.1722e-01, -3.0802e-02, -8.1450e-02,\n",
            "         -8.1601e-02, -3.1920e-02, -1.2392e-01,  6.3285e-02, -1.6931e-02,\n",
            "         -9.6400e-02, -1.1810e-02, -1.3713e-01, -1.4049e-01, -6.8754e-02,\n",
            "         -1.1357e-01, -4.7284e-02,  3.4053e-02,  3.3592e-02, -1.0215e-01,\n",
            "         -5.0900e-02, -6.1078e-02,  5.4115e-02,  1.0272e-01,  1.3683e-01],\n",
            "        [ 6.7520e-02,  1.8582e-01, -2.6523e-02,  1.8012e-01, -3.4521e-02,\n",
            "          1.1496e-01, -2.6066e-02,  9.2196e-02, -3.0457e-02, -4.9644e-02,\n",
            "         -1.7364e-02,  4.4026e-02,  9.3960e-02, -2.8296e-02, -1.0920e-01,\n",
            "          7.4900e-02,  1.6313e-01, -1.3742e-01, -2.3954e-02,  8.2135e-02,\n",
            "          6.4148e-02,  6.3440e-02,  1.2082e-01, -1.0381e-01, -5.5218e-02,\n",
            "          1.5206e-02, -1.0561e-01, -1.3463e-02,  1.9069e-01, -5.3439e-02,\n",
            "         -1.3414e-05, -7.6071e-02, -1.1033e-01, -2.2027e-02, -5.4604e-02,\n",
            "         -4.9238e-02,  3.6759e-02,  1.9393e-02,  3.5171e-02,  6.3912e-02,\n",
            "          8.4091e-02, -1.3885e-01,  3.6186e-02, -5.4054e-02, -7.0446e-02,\n",
            "          2.5924e-02,  1.3740e-01, -3.3947e-02, -9.9466e-02,  2.4968e-02],\n",
            "        [ 3.0922e-02, -2.2318e-01, -2.1630e-02, -3.4279e-02, -1.6046e-01,\n",
            "          2.0252e-02, -6.1013e-02,  1.1350e-01,  6.8634e-02, -1.1531e-01,\n",
            "          1.5804e-01, -8.0950e-02, -1.4510e-01, -6.9294e-02, -1.1565e-01,\n",
            "         -1.3794e-01, -9.1489e-02, -2.5027e-02,  3.3416e-03,  1.0946e-01,\n",
            "         -1.0590e-01,  1.1517e-02,  9.6317e-02, -8.8803e-02,  1.5201e-01,\n",
            "          1.6850e-01,  1.1178e-01,  1.5507e-01,  1.2745e-01,  2.3087e-01,\n",
            "          5.9092e-02, -1.7471e-01, -8.4988e-02, -6.1029e-02, -5.3196e-02,\n",
            "         -6.6072e-02,  1.1119e-01, -1.2405e-01,  1.0297e-01,  1.5972e-02,\n",
            "          7.8178e-02,  1.0792e-01,  2.2710e-02,  1.5199e-01, -6.0220e-02,\n",
            "         -1.2314e-01, -1.2400e-01, -8.0760e-02,  1.4159e-01, -3.4779e-02],\n",
            "        [ 4.6629e-02, -6.9553e-02,  1.3165e-01, -9.3769e-02,  4.4719e-02,\n",
            "         -6.9581e-02, -1.1962e-01, -1.4696e-02,  5.1663e-02,  1.1464e-01,\n",
            "         -1.2978e-01, -9.3983e-02, -1.0033e-01, -1.3792e-01, -1.1097e-01,\n",
            "          1.1922e-01, -7.0820e-02, -2.8454e-02,  1.5698e-01,  7.1594e-02,\n",
            "          4.6764e-02, -1.3005e-02,  6.8697e-02,  1.0117e-01,  4.7927e-02,\n",
            "         -1.3592e-01, -9.7102e-02,  2.3391e-01,  1.0751e-01, -1.0917e-01,\n",
            "          1.7421e-01,  1.0076e-03,  6.8356e-02,  7.8021e-02, -1.5279e-02,\n",
            "          1.7181e-02,  1.3062e-01, -1.1640e-01,  1.2696e-01, -1.0032e-01,\n",
            "          2.1405e-02, -6.9206e-02, -9.2235e-02, -1.7677e-01,  1.0756e-01,\n",
            "          6.2102e-02, -1.2367e-01,  9.1379e-02, -1.6620e-01, -8.2165e-02],\n",
            "        [-1.3803e-01, -1.4532e-01,  1.3225e-01,  4.7522e-02,  1.3167e-01,\n",
            "          1.0742e-01,  1.2856e-01,  1.0950e-01, -8.4613e-02, -1.1417e-02,\n",
            "         -7.6706e-02, -1.3043e-01, -4.7030e-02,  1.2090e-01, -1.7577e-01,\n",
            "         -2.8238e-03,  2.0592e-02,  6.5508e-02,  1.9942e-01, -8.3853e-02,\n",
            "          5.3215e-02,  2.4952e-02, -8.0250e-02,  4.1208e-03, -1.1730e-01,\n",
            "         -1.6949e-01, -9.8199e-02, -1.9702e-02, -9.5418e-02, -7.9926e-03,\n",
            "         -1.6080e-02, -4.2193e-02, -1.2730e-01,  1.4996e-01, -1.4691e-01,\n",
            "         -1.4442e-01, -1.1971e-01,  1.4632e-01,  8.7741e-02, -3.5000e-02,\n",
            "          2.8627e-02, -1.0625e-01,  3.4343e-02,  7.8902e-02, -1.3587e-01,\n",
            "          1.4819e-01, -1.5785e-01, -2.4475e-02, -8.8549e-02,  1.3973e-01],\n",
            "        [ 6.7415e-02, -7.1554e-02,  1.4701e-01, -7.3959e-02,  1.0224e-01,\n",
            "          1.2008e-01,  6.8730e-02, -8.9845e-03,  9.4313e-02, -6.5094e-02,\n",
            "          1.0780e-01, -2.2591e-02, -5.7298e-02,  2.0183e-01, -2.6235e-02,\n",
            "          8.2911e-02, -1.1185e-01, -7.6869e-02,  1.0122e-01, -1.2241e-02,\n",
            "         -4.8136e-02,  6.1044e-02, -1.9007e-03,  1.2170e-01, -6.0904e-02,\n",
            "          5.7495e-02,  3.1536e-02,  4.2871e-02, -4.9334e-02,  2.9681e-02,\n",
            "         -3.1246e-02, -1.1760e-01, -5.4036e-02,  8.7927e-02, -3.1536e-02,\n",
            "          4.4412e-02,  1.4324e-01, -2.9671e-02, -8.1205e-02, -1.5788e-01,\n",
            "         -7.8512e-02,  1.4619e-01,  1.1723e-02, -8.1164e-02, -1.0227e-01,\n",
            "         -1.1905e-01, -4.0259e-03, -6.5669e-02,  1.0342e-01, -1.1238e-01],\n",
            "        [ 8.2870e-02, -1.4328e-01, -3.7352e-02,  6.3054e-02, -1.4224e-01,\n",
            "          8.1837e-02, -3.1961e-02,  1.3580e-01,  3.2730e-02, -1.1104e-01,\n",
            "          1.2196e-01,  5.2272e-02,  1.2934e-01, -2.5975e-02, -1.0715e-01,\n",
            "          1.7847e-02, -3.8267e-02, -1.0962e-01, -2.2143e-02,  7.1251e-03,\n",
            "          6.2553e-02,  1.6810e-01, -1.1286e-01,  1.2909e-01,  1.6260e-01,\n",
            "          3.2592e-02, -1.3914e-03,  7.5748e-02, -5.7297e-02, -1.2761e-01,\n",
            "          9.8146e-02, -1.4833e-02, -4.4566e-02,  1.0915e-01, -8.8471e-02,\n",
            "          1.5690e-01, -5.7059e-02,  5.8899e-02, -8.7067e-02, -1.1396e-01,\n",
            "         -9.8778e-02, -8.1039e-02, -1.9730e-02, -7.9492e-02, -7.5764e-02,\n",
            "          1.1426e-01, -1.2698e-01,  1.2702e-01, -1.2399e-01,  1.4435e-01],\n",
            "        [ 1.0206e-01,  4.3912e-02,  3.7367e-03, -2.7109e-02, -1.4036e-01,\n",
            "          5.5143e-02,  7.2972e-02, -4.9820e-03, -1.0254e-01, -1.1663e-02,\n",
            "         -1.3279e-01, -4.8842e-02, -1.3259e-01, -1.2857e-01, -5.7670e-03,\n",
            "         -8.0662e-02, -1.2939e-01, -1.1998e-01, -1.5130e-01,  1.0218e-01,\n",
            "          1.0372e-02, -2.0576e-02,  9.6028e-03, -1.0578e-01,  1.7042e-02,\n",
            "         -2.9907e-02, -5.8471e-02,  1.8495e-02, -1.2604e-01, -2.6619e-03,\n",
            "          5.0698e-02,  1.7697e-01, -8.7060e-02, -1.1739e-03, -3.5864e-02,\n",
            "         -1.1948e-02,  1.9509e-03, -6.7221e-02,  7.9155e-02,  3.0531e-02,\n",
            "          3.3856e-02,  3.3568e-02,  7.7458e-02,  1.6720e-01, -6.2845e-03,\n",
            "          4.8521e-02,  1.2434e-01,  1.6722e-02, -5.7269e-02,  1.6839e-01],\n",
            "        [ 6.7527e-02,  1.0554e-01,  1.4060e-01, -5.2214e-02,  1.6993e-02,\n",
            "          1.1873e-01,  4.5651e-02,  1.6693e-01, -8.3652e-02, -5.7458e-02,\n",
            "          8.8967e-02, -5.7810e-02, -7.3667e-03,  1.3846e-01, -3.0970e-02,\n",
            "          9.0077e-02, -4.9071e-02, -9.4671e-03, -2.2502e-01, -5.0873e-02,\n",
            "         -1.5011e-01, -7.0580e-02,  9.7132e-02, -5.6972e-02,  1.3180e-01,\n",
            "         -1.2106e-01,  9.1677e-02,  2.7313e-02,  3.8928e-02, -7.9869e-02,\n",
            "          1.3085e-01, -1.2142e-01, -4.9377e-02, -9.2711e-02,  1.6323e-01,\n",
            "         -1.6490e-01,  1.9606e-02,  3.9045e-02,  1.5032e-01,  4.4991e-02,\n",
            "         -9.3517e-02, -3.3130e-02,  1.2435e-01, -1.0946e-01,  6.5390e-02,\n",
            "          1.4640e-01, -1.0065e-01, -2.6722e-02,  6.4937e-02,  2.1812e-02],\n",
            "        [ 1.0660e-01, -5.5964e-02, -4.6854e-02,  2.1522e-01, -5.5403e-02,\n",
            "          1.1933e-03,  1.6633e-01, -1.3093e-01,  1.5008e-01, -1.0694e-01,\n",
            "          2.7839e-02, -1.0848e-01, -1.2879e-01, -9.9783e-02,  5.4711e-02,\n",
            "         -2.4976e-02,  5.4125e-02, -5.7413e-02,  4.2852e-02, -5.3485e-02,\n",
            "         -1.1553e-01,  7.3193e-02,  9.7705e-02, -9.4504e-02,  8.3297e-02,\n",
            "          5.6167e-02,  8.1879e-02, -8.4588e-03, -9.9971e-02,  1.5902e-02,\n",
            "         -6.0323e-02, -1.2932e-01,  1.3741e-01,  4.0770e-02,  2.0323e-01,\n",
            "         -9.7753e-02, -1.1656e-01, -1.0165e-01,  3.8362e-02, -8.0271e-04,\n",
            "          1.4980e-01,  1.2220e-01, -8.0962e-03,  1.1892e-02, -1.2317e-01,\n",
            "         -3.1637e-02, -7.4921e-03,  1.2996e-01,  5.6432e-02, -1.0745e-02]])\n",
            "fc3.bias tensor([-0.0800, -0.0896,  0.1375,  0.1392, -0.0937,  0.0986, -0.0208, -0.1116,\n",
            "         0.0857, -0.1176])\n"
          ]
        }
      ]
    },
    {
      "cell_type": "markdown",
      "source": [
        "# **Análisis de resultados**\n",
        "---"
      ],
      "metadata": {
        "id": "y1vtGMjm9CaI"
      }
    },
    {
      "cell_type": "markdown",
      "source": [
        "Finalmente se encontró que el modelo entrenado por medio de una **`red neuronal`** con dos capas ocultas obtuvo el mejor desempeño al describir la variable objetivo (**`label`**) en los datos de prueba, ya que se obtuvo un valor del $86.18\\%$ para la métrica utilizada.\n",
        "\n",
        "Adicionalmente, se notó que un valor de $0.0005$ fue la mejor alternativa para la tasa de aprendizaje y no fue necesario modificar, simplificar o estandarizar los datos para mejorar las predicciones."
      ],
      "metadata": {
        "id": "NP8CqYNctRxp"
      }
    },
    {
      "cell_type": "markdown",
      "source": [
        "# **Referencias**\n",
        "---\n",
        "* [Kaggle - Japanese Characters](https://www.kaggle.com/datasets/notshrirang/japanese-characters)\n",
        "* [ScikitLearn - API Reference](https://scikit-learn.org/stable/modules/classes.html#)\n",
        "* [Introduction to PyTorch](https://colab.research.google.com/github/phlippe/uvadlc_notebooks/blob/master/docs/tutorial_notebooks/tutorial2/Introduction_to_PyTorch.ipynb#scrollTo=u-L7YQmcHvX8)\n",
        "* [Taller de Redes Neuronales](https://colab.research.google.com/drive/1W6hJhlQ3n0EvE_XYbeK9dG7fF9E49r8r#scrollTo=QZs4EuDTuVai)\n",
        "* [PyTorch - Documentation](https://pytorch.org/docs/stable/index.html)\n",
        "* [Sekai Kokeshi - Hiragana Charts](https://sekaikokeshi.com/5freeprintable-hiraganacharts/)"
      ],
      "metadata": {
        "id": "RUqpqdx3vIlc"
      }
    },
    {
      "cell_type": "markdown",
      "source": [
        "# **Créditos**\n",
        "---\n",
        "* Samuel David Moreno Vahos"
      ],
      "metadata": {
        "id": "0nxfhassvOJ8"
      }
    }
  ]
}